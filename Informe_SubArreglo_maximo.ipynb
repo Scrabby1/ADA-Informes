{
  "nbformat": 4,
  "nbformat_minor": 0,
  "metadata": {
    "colab": {
      "name": "Informe SubArreglo maximo.ipynb",
      "provenance": [],
      "collapsed_sections": [
        "li_EfAnr7wea",
        "oW0zmDZT_RWK",
        "5KeksrgckAgI",
        "XGUNLXLHX8TE",
        "bx7wnuS7fkti",
        "asgjudHHf_x3"
      ],
      "toc_visible": true,
      "authorship_tag": "ABX9TyOL7+FvQt35MxJvhSsCouFm",
      "include_colab_link": true
    },
    "kernelspec": {
      "name": "python3",
      "display_name": "Python 3"
    },
    "language_info": {
      "name": "python"
    }
  },
  "cells": [
    {
      "cell_type": "markdown",
      "metadata": {
        "id": "view-in-github",
        "colab_type": "text"
      },
      "source": [
        "<a href=\"https://colab.research.google.com/github/Scrabby1/ADA-Informes/blob/main/Informe_SubArreglo_maximo.ipynb\" target=\"_parent\"><img src=\"https://colab.research.google.com/assets/colab-badge.svg\" alt=\"Open In Colab\"/></a>"
      ]
    },
    {
      "cell_type": "markdown",
      "source": [
        "#1.Descripción del problema"
      ],
      "metadata": {
        "id": "li_EfAnr7wea"
      }
    },
    {
      "cell_type": "markdown",
      "source": [
        "**Entrada:** Secuencia de **n** numeros\n"
      ],
      "metadata": {
        "id": "BQlAq57G8hbW"
      }
    },
    {
      "cell_type": "markdown",
      "source": [
        "**Salida:**Un sub-arreglo el cual sus elementos da la mayor suma de los elementos contenidos en el sub-arreglo y mayor que cualquier otra suma de otros sub-arreglos"
      ],
      "metadata": {
        "id": "FS2d3k0989SI"
      }
    },
    {
      "cell_type": "markdown",
      "source": [
        "Cuando hacemos un algoritmo para encontrar una solución, siempre se quiere encontrar la solución más eficiente de todas, este tipo de problema se llaman problemas de optimización, en este informe se vera la solucion para encontrar el máximo sub-arreglo del arreglo, esto lo hará el algoritmo sub-arreglo máximo"
      ],
      "metadata": {
        "id": "590kpfLz90D8"
      }
    },
    {
      "cell_type": "markdown",
      "source": [
        "El tamaño del problema es el tamaño de la entrada, en este caso la entrada es un arreglo, por lo que el tamaño del problema es el tamaño del arreglo, ósea n"
      ],
      "metadata": {
        "id": "-EgHHqO4-6D1"
      }
    },
    {
      "cell_type": "markdown",
      "source": [
        "Una de las aplicaciones de este algoritmo es el analisis de las secuencias genómicas, se usa para identificar fragmentos importantes de la secuencia de proteina como las regiones GC-rich y las regiones de carga alta"
      ],
      "metadata": {
        "id": "wlHIb97LnYRa"
      }
    },
    {
      "cell_type": "markdown",
      "source": [
        "Otra aplicación que tiene es en la visión de computadoras, tienen el uso de encontrar las áreas mas brillantes en las imágenes de mapabits."
      ],
      "metadata": {
        "id": "3Z_8hr1GohVW"
      }
    },
    {
      "cell_type": "markdown",
      "source": [
        "#2.Sub-arreglo máximo"
      ],
      "metadata": {
        "id": "oW0zmDZT_RWK"
      }
    },
    {
      "cell_type": "markdown",
      "source": [
        "A continuación, se mostrará la implementación del algoritmo sub-arreglo máximo"
      ],
      "metadata": {
        "id": "Z93I3Bf1_WYQ"
      }
    },
    {
      "cell_type": "code",
      "source": [
        "cont=0\n",
        "def maxSubArrayMid(arr,low,mid,high): #Funcion que encuentra el sub-arreglo que pasa por la mitad\n",
        "  sm=0\n",
        "  sumaIz=-10000\n",
        "  global cont\n",
        "  for i in range(mid,low-1,-1):#se suman los elementos elementos de la izquierda hasta encontrar el valor maximo\n",
        "    sm=sm+arr[i]\n",
        "    if(sm>sumaIz):\n",
        "      sumaIz=sm\n",
        "      lowAux=i\n",
        "      cont+=1\n",
        "  sm=0\n",
        "  sumaDe=-10000\n",
        "  for i in range(mid+1,high+1):#se realiza la misma accion anterior pero ahora con la derecha\n",
        "    sm=sm+arr[i]\n",
        "    if(sm>sumaDe):\n",
        "      sumaDe=sm\n",
        "      highAux=i\n",
        "      cont+=1\n",
        "  return max(sumaIz+sumaDe,sumaIz,sumaDe),lowAux,highAux #se comprueba entre la suma de ambos y las sumas individuales para ver cual de ellos es el mayor,tambien se retornan los indices del sub-arreglo mayor\n",
        "\n",
        "def maxSubArray(arr,low,high,verbose=False):#funcion principal que encuentra el maximo sub-arreglo\n",
        "  if(low==high):\n",
        "    return arr[low],low,high\n",
        "  mid=(low+high)//2\n",
        "  sumaIz,lowI,highI=maxSubArray(arr,low,mid,verbose) #de manera recursiva se van teniendo las sumas de la izquierda,derecha y el que pasa por el medio\n",
        "  sumaDe,lowD,highD=maxSubArray(arr,mid+1,high,verbose)\n",
        "  sumaMid,lowM,highM=maxSubArrayMid(arr,low,mid,high)\n",
        "  if(verbose==True and len(arr[low:mid]) > 0 and len(arr[mid:high]) > 0):\n",
        "    print(\"Sub-arreglo izquierda\",arr[lowI:highI+1])\n",
        "    print(\"Sub-arreglo derecha\",arr[lowD:highD+1])\n",
        "    print(\"Sub-arreglo que pasa por el medio\",arr[lowM:highM+1])\n",
        "    print(\"--------------------------------------------------------------\")\n",
        "\n",
        "  if(max(sumaIz,sumaDe,sumaMid)==sumaDe):#se retorna el maximo de los sub-arreglos\n",
        "    return sumaDe,lowD,highD\n",
        "\n",
        "  if(max(sumaIz,sumaDe,sumaMid)==sumaIz):\n",
        "    return sumaIz,lowI,highI\n",
        "\n",
        "  return sumaMid,lowM,highM\n",
        "\n",
        "#Ejemplo\n",
        "a=[13,-3,-25,20,-3,-16,-23,18,20,-7,12,-5,-22,15,-4,7]\n",
        "print(\"Arreglo original:\",a)\n",
        "print(\"**************************************************************\")\n",
        "n=len(a)\n",
        "mmax,i,j=maxSubArray(a,0,n-1,verbose=False)\n",
        "print(\"suma maxima:\",mmax)\n",
        "print(\"indices del sub-arreglo:\",i,j)\n",
        "print(\"esta le corresponde a :\",a[i:j+1])\n",
        "print(\"**************************************************************\")"
      ],
      "metadata": {
        "id": "2RLLWxPh_g5k",
        "colab": {
          "base_uri": "https://localhost:8080/"
        },
        "outputId": "9df24063-832f-4780-85ec-6402a786ca00"
      },
      "execution_count": 38,
      "outputs": [
        {
          "output_type": "stream",
          "name": "stdout",
          "text": [
            "Arreglo original: [13, -3, -25, 20, -3, -16, -23, 18, 20, -7, 12, -5, -22, 15, -4, 7]\n",
            "**************************************************************\n",
            "suma maxima: 43\n",
            "indices del sub-arreglo: 7 10\n",
            "esta le corresponde a : [18, 20, -7, 12]\n",
            "**************************************************************\n"
          ]
        }
      ]
    },
    {
      "cell_type": "markdown",
      "source": [
        "**Descripción del algoritmo**"
      ],
      "metadata": {
        "id": "bDvdrW0eAcWQ"
      }
    },
    {
      "cell_type": "markdown",
      "source": [
        "Este algoritmo recibe como entrada un arreglo **a**, un indice **low** y un indice **high**, estos representan posiciones en los sub-arreglos de izquierda y derecha respectivamente.Pero inicialmente toman el valor de la primera y penúltima posición del arreglo"
      ],
      "metadata": {
        "id": "ecfBcNVzAgr4"
      }
    },
    {
      "cell_type": "markdown",
      "source": [
        "Este algoritmo esta compuesto de dos funciones: maxSubArray, que se encarga de dividir el arreglo y maxSubArrayMid, esta se encarga de encontrar el máximo sub-arreglo que pasa por el índice del medio."
      ],
      "metadata": {
        "id": "I5l-uN2gFksC"
      }
    },
    {
      "cell_type": "markdown",
      "source": [
        "La función maxSubArray primero recibe el arreglo y los respectivos índices, esta retorna el mismo arreglo si ambos índices son iguales, ósea que el arreglo sea de tamaño uno. Cuando ese no es el caso se obtiene el índice del medio **mid**, luego se llama a la función max que nos entregara el máximo de cada sub-arreglo, estos tres pueden ser los siguientes: el sub-arreglo que se encuentra a la izquierda de la posición del medio **a[lowI,highI+1]**, el sub-arreglo que se encuentra a la derecha de la posición del medio **a[lowD,highD+1]** o el sub-arreglo que pasa por el medio **a[lowM,highM+1]**."
      ],
      "metadata": {
        "id": "1Gfi0ysFHPQj"
      }
    },
    {
      "cell_type": "markdown",
      "source": [
        "La función maxSubArrayMid se encarga de encontrar el arreglo que pasa por la posición que pasa por el medio.Para hacer esto la función necesita como parametros la posición del medio **mid**, el arreglo **arr**, la primera posición del arreglo mas cercana a la mitad **mid** por la izquierda **low** y por la derecha **high**"
      ],
      "metadata": {
        "id": "pvUdsZ5vL5ib"
      }
    },
    {
      "cell_type": "markdown",
      "source": [
        "Una vez obtenido estos datos se realiza la búsqueda del sub-arreglo máximo que pasa por el medio,para hacerlo nos movemos desde la posición mas cercana a la posición del medio desde la izquierda y la derecha y vamos sumando alejandonos de la posición del medio encontrando la sumas de los dos lados,luego se comprueba quien de los siguientes da la suma máxima:el de la derecha,el de la izquierda o la suma de ambos(que seria la combinación de los dos). "
      ],
      "metadata": {
        "id": "m3RlGfFbN_MZ"
      }
    },
    {
      "cell_type": "markdown",
      "source": [
        "Al final como salida vamos a tener el sub-arreglo que maximice la suma de sus elementos y la suma sea mayor que la de los otros dos sub-arreglos."
      ],
      "metadata": {
        "id": "8Er_hWsyP6HR"
      }
    },
    {
      "cell_type": "markdown",
      "source": [
        "**Ejemplo**"
      ],
      "metadata": {
        "id": "1fLQqjXIdOPi"
      }
    },
    {
      "cell_type": "markdown",
      "source": [
        "Tomemos el siguiente arreglo"
      ],
      "metadata": {
        "id": "0VA0wIhFdtI9"
      }
    },
    {
      "cell_type": "markdown",
      "source": [
        "**a=[1, -2, 3, 4, -9, 6]**"
      ],
      "metadata": {
        "id": "bnTbzLGlENZG"
      }
    },
    {
      "cell_type": "markdown",
      "source": [
        "Primero se va reduciendo el sub-arreglo hasta que quede solo un elemento en el sub-arreglo de la izquierda y de la derecha,esto se hace segun la posición **mid** "
      ],
      "metadata": {
        "id": "rwejOPNyEZaN"
      }
    },
    {
      "cell_type": "markdown",
      "source": [
        "Haciendo estos pasos quedaremos con los siguientes sub-arreglos\n",
        "**Izquierda:[1]**,\n",
        "**Derecha:[3]**,\n",
        "**Sub-arreglo del medio:[1,-2,3]**"
      ],
      "metadata": {
        "id": "sYcoQ5u4Pla8"
      }
    },
    {
      "cell_type": "markdown",
      "source": [
        "La suma máxima la tiene el de la derecha siendo 3"
      ],
      "metadata": {
        "id": "ejl61OAIQx4l"
      }
    },
    {
      "cell_type": "markdown",
      "source": [
        "Una vez comprobada la izquierda del arreglo desde el centro de este,comprobamos el lado derecho"
      ],
      "metadata": {
        "id": "V368NXWHQBED"
      }
    },
    {
      "cell_type": "markdown",
      "source": [
        "Como sub-arreglos vamos a tener a: **Izquierda:[4]**, **Derecha:[6]** y **Sub-arreglo del medio[4,-9,6]**"
      ],
      "metadata": {
        "id": "_brXeuXUQUpM"
      }
    },
    {
      "cell_type": "markdown",
      "source": [
        "La suma máxima la posee el derecho con 6"
      ],
      "metadata": {
        "id": "VaGcweH1Q5gJ"
      }
    },
    {
      "cell_type": "markdown",
      "source": [
        "ahora comprobaremos por el centro del arreglo"
      ],
      "metadata": {
        "id": "VN748y1vQ-HJ"
      }
    },
    {
      "cell_type": "markdown",
      "source": [
        "Tendremos los siguientes sub-arreglos: **Izquierda[3]** , **Derecha[6]** y el **Sub-arreglo del medio es [3,4]**"
      ],
      "metadata": {
        "id": "uHwEuv9ZRB5J"
      }
    },
    {
      "cell_type": "markdown",
      "source": [
        "No incluimos el -9 debido a que es un valor demasiado pequeño y disminuye el tamaño en vez de mejorarlo"
      ],
      "metadata": {
        "id": "Nwvye3O3RRe9"
      }
    },
    {
      "cell_type": "markdown",
      "source": [
        "La suma máxima la posee el sub-arreglo del medio con 7"
      ],
      "metadata": {
        "id": "C8hxULG5RfJ1"
      }
    },
    {
      "cell_type": "markdown",
      "source": [
        "Esta es la mayor suma de todas, por lo tanto es la mayor suma del arreglo"
      ],
      "metadata": {
        "id": "w3b6PV5GRmDD"
      }
    },
    {
      "cell_type": "markdown",
      "source": [
        "**Ejecución con la función verbose=True**"
      ],
      "metadata": {
        "id": "ZzCiIcszRqPt"
      }
    },
    {
      "cell_type": "code",
      "source": [
        "import random\n",
        "a=random.sample(range(1,100),6)\n",
        "n=len(a)\n",
        "print(\"Arreglo original:\",a)\n",
        "print(\"**************************************************************\")\n",
        "mmax,i,j=maxSubArray(a,0,n-1,True)\n",
        "print(\"suma maxima:\",mmax)\n",
        "print(\"esta le corresponde a :\",a[i:j+1])\n",
        "print(\"**************************************************************\")"
      ],
      "metadata": {
        "colab": {
          "base_uri": "https://localhost:8080/"
        },
        "id": "67ESh5xYEjku",
        "outputId": "335e494c-f4ec-41e4-9d91-3b9fee5d4a88"
      },
      "execution_count": 37,
      "outputs": [
        {
          "output_type": "stream",
          "name": "stdout",
          "text": [
            "Arreglo original: [83, 52, 75, 21, 56, 58]\n",
            "**************************************************************\n",
            "Sub-arreglo izquierda [83, 52]\n",
            "Sub-arreglo derecha [75]\n",
            "Sub-arreglo que pasa por el medio [83, 52, 75]\n",
            "--------------------------------------------------------------\n",
            "Sub-arreglo izquierda [21, 56]\n",
            "Sub-arreglo derecha [58]\n",
            "Sub-arreglo que pasa por el medio [21, 56, 58]\n",
            "--------------------------------------------------------------\n",
            "Sub-arreglo izquierda [83, 52, 75]\n",
            "Sub-arreglo derecha [21, 56, 58]\n",
            "Sub-arreglo que pasa por el medio [83, 52, 75, 21, 56, 58]\n",
            "--------------------------------------------------------------\n",
            "suma maxima: 345\n",
            "esta le corresponde a : [83, 52, 75, 21, 56, 58]\n",
            "**************************************************************\n"
          ]
        }
      ]
    },
    {
      "cell_type": "markdown",
      "source": [
        "# 3.Correctitud"
      ],
      "metadata": {
        "id": "iIHbQ8D6juGD"
      }
    },
    {
      "cell_type": "markdown",
      "source": [
        "## Función maxSubArrayMid"
      ],
      "metadata": {
        "id": "5KeksrgckAgI"
      }
    },
    {
      "cell_type": "markdown",
      "source": [
        "**Teorema (correctitud)**"
      ],
      "metadata": {
        "id": "NjWE4DWTlqRt"
      }
    },
    {
      "cell_type": "markdown",
      "source": [
        "La función maxSubArrayMid encuentra correctamente el sub-arreglo máximo que pasa por la mitad del arreglo"
      ],
      "metadata": {
        "id": "1W8iEO-tmDiS"
      }
    },
    {
      "cell_type": "markdown",
      "source": [
        "**Prueba del teorema**"
      ],
      "metadata": {
        "id": "KI_NqAY1mU_G"
      }
    },
    {
      "cell_type": "markdown",
      "source": [
        "Para probar el teorema utilizaremos la propiedad del bucle invariante"
      ],
      "metadata": {
        "id": "Jndzof5lnWmy"
      }
    },
    {
      "cell_type": "markdown",
      "source": [
        "La propiedad del bucle invariante dice:La función maxSubArray antes de iterar contiene la mayor suma del sub-arreglo de la parte izquierda y derecha del arreglo"
      ],
      "metadata": {
        "id": "qzz020n8nb5p"
      }
    },
    {
      "cell_type": "markdown",
      "source": [
        "**Inicialización:** Al comienzo,ambos sub-arreglos contendran el valor de la posición del medio del arreglo **a[mid]**,este elemento sera la mayor suma actual que pasa por el elemento del medio,cambiando asi las variables que almacenan la suma de cada lado"
      ],
      "metadata": {
        "id": "qoUF34XppOgX"
      }
    },
    {
      "cell_type": "markdown",
      "source": [
        "**Mantención:** en la i-ésima iteración,la variable que contiene la suma de la izquierda tendra la mayor suma de los elementos de la izquierda,partiendo desde la posición **i** hasta **mid**,acabando allí.Lo mismo se puede decir de la suma de la derecha,tendremos el mayor valor de la suma de sus elementos,partiendo desde mid+1 hasta high+1 "
      ],
      "metadata": {
        "id": "5rwsHeoqrp0b"
      }
    },
    {
      "cell_type": "markdown",
      "source": [
        "Una vez finalizada la iteración,las sumas de la izquierda y derecha tendran el mayor valor de la suma de ambos lados"
      ],
      "metadata": {
        "id": "DFexZY0btzrF"
      }
    },
    {
      "cell_type": "markdown",
      "source": [
        "**Correctitud**"
      ],
      "metadata": {
        "id": "TSSxZqAKx3c1"
      }
    },
    {
      "cell_type": "markdown",
      "source": [
        "Como la propiedad del bucle se cumple para la inicialización y la mantención,cuando la función termine entregara el sub-arreglo que contiene la mayor suma de sus elementos y pasa por el medio"
      ],
      "metadata": {
        "id": "EzCEKdLZx5AW"
      }
    },
    {
      "cell_type": "markdown",
      "source": [
        "##Función maxSubArray"
      ],
      "metadata": {
        "id": "XGUNLXLHX8TE"
      }
    },
    {
      "cell_type": "markdown",
      "source": [
        "**Teorema (correctitud)**"
      ],
      "metadata": {
        "id": "TGih1auOYDSS"
      }
    },
    {
      "cell_type": "markdown",
      "source": [
        "La función maxSubArray entrega de forma correcta el sub-arreglo que entrega la mayor suma de todos sus elementos."
      ],
      "metadata": {
        "id": "KZ9KAfnhYQCE"
      }
    },
    {
      "cell_type": "markdown",
      "source": [
        "**Prueba del teorema**"
      ],
      "metadata": {
        "id": "_ZNlp0UpZdI2"
      }
    },
    {
      "cell_type": "markdown",
      "source": [
        "Para probar el teorema se utilizara inducción matemática."
      ],
      "metadata": {
        "id": "Z0TbSzB1ZieY"
      }
    },
    {
      "cell_type": "markdown",
      "source": [
        "Nuestra hipótesis **P(n)** debe probar que retorna el sub-arreglo máximo para el caso base y el inductivo"
      ],
      "metadata": {
        "id": "lLpS_Y8RZ39K"
      }
    },
    {
      "cell_type": "markdown",
      "source": [
        "En el caso base **n=1**,nuestra función va a retornar el máximo debido a que es muy pequeño ósea que se cumple para el caso **P(1)**."
      ],
      "metadata": {
        "id": "_oNC_T9uaGrG"
      }
    },
    {
      "cell_type": "markdown",
      "source": [
        "En el caso inductivo se debe probar que **P(m)** es cierto para **m < n** ya que si se cumple implica que también se cumplira para **P(n)**."
      ],
      "metadata": {
        "id": "FAfhId07aWVx"
      }
    },
    {
      "cell_type": "markdown",
      "source": [
        "Para **n** elementos,la función divide el arreglo en dos sub-arreglos de tamaño **m**,siendo **m=n/2**,como **m** es menor que **n**,se asume que en el paso inductivo la función retorna correctamente el máximo sub-arreglo"
      ],
      "metadata": {
        "id": "JVB13P-YatD2"
      }
    },
    {
      "cell_type": "markdown",
      "source": [
        "Luego la función maxSubArrayMid nos entrega sub-arreglo máximo que pasa por el medio.Como ya se probo anteriormente que esta función es correcta,esto hace que maxSubArray sea correcta. "
      ],
      "metadata": {
        "id": "-aoxZGOPcMU3"
      }
    },
    {
      "cell_type": "markdown",
      "source": [
        "# 4.Tiempo de ejecución"
      ],
      "metadata": {
        "id": "bx7wnuS7fkti"
      }
    },
    {
      "cell_type": "markdown",
      "source": [
        "Para calcular el tiempo de ejecución usaremos la ecuación recurrente de la función"
      ],
      "metadata": {
        "id": "Uv7I9L_2fo5x"
      }
    },
    {
      "cell_type": "markdown",
      "source": [
        "Primero para el caso cuando el tamaño del arreglo es pequeño retorna el mismo arreglo,por lo que eso es **O(1)**"
      ],
      "metadata": {
        "id": "74cRVoZGi3Sm"
      }
    },
    {
      "cell_type": "markdown",
      "source": [
        "Mientras que en cualquier otro caso se obtendra de la siguiente formula: **T(n)=aT(n/b)+C(n)+D(n)**"
      ],
      "metadata": {
        "id": "RNEL80iSkwb7"
      }
    },
    {
      "cell_type": "markdown",
      "source": [
        "**a** sera la cantidad de llamadas recursivas que hace algoritmo siendo dos veces en este caso, **b** en cuanto divide el arreglo que serian 2 ya que lo divide desde la mitad, **C(n)** es la complejidad de combinarlo, en este caso es **O(n)** ya que tiene complejidad lineal la combinación y por último **D(n)** seria la complejidad de la separación del arreglo,en este caso tiene complejidad **O(1)**"
      ],
      "metadata": {
        "id": "GZc66zJizZUy"
      }
    },
    {
      "cell_type": "markdown",
      "source": [
        "Nuestra ecuación recurrente ahora se vera asi: **T(n)=2T(n/2)+O(n)**"
      ],
      "metadata": {
        "id": "0zHlcRdR3Sz3"
      }
    },
    {
      "cell_type": "markdown",
      "source": [
        "Con esta ecuación usaremos el teorema maestro para tener la complejidad del algoritmo\n",
        "Segun el teorema maestro nuestro problema estaria en el caso 1 por lo tanto la cota superior asintótica seria: **O(nlogn)**."
      ],
      "metadata": {
        "id": "ZxKOgDAm3npF"
      }
    },
    {
      "cell_type": "markdown",
      "source": [
        "Cabe destacar que esta función no posee un mejor o peor caso, esto ocurre debido a que no importa como este compuesto el arreglo, realizara la misma cantidad de divisiones para encontrar el sub-arreglo máximo, si le entregamos un arreglo donde todos sus elementos son iguales, este va a realizar la misma cantidad de comparaciones para encontrar el sub-arreglo máximo (que seria el mismo arreglo)."
      ],
      "metadata": {
        "id": "0Z7apnyBDCk6"
      }
    },
    {
      "cell_type": "markdown",
      "source": [
        "# 5.Experimentos"
      ],
      "metadata": {
        "id": "asgjudHHf_x3"
      }
    },
    {
      "cell_type": "markdown",
      "source": [
        "A continuación se presentaran los distintos experimentos realizados"
      ],
      "metadata": {
        "id": "_FhfeBAOgaiK"
      }
    },
    {
      "cell_type": "markdown",
      "source": [
        "**Comparación entre maxSubArray y algoritmo de kadane**"
      ],
      "metadata": {
        "id": "KQm5rxmbyqi4"
      }
    },
    {
      "cell_type": "code",
      "source": [
        "import matplotlib.pyplot as plt\n",
        "import random\n",
        "def Kadane(array):\n",
        "  sumaMax=0\n",
        "  currentMax=0\n",
        "  cont2=0\n",
        "  for i in array:\n",
        "    currentMax+=i\n",
        "    if(currentMax<0):\n",
        "      currentMax=0\n",
        "    if(sumaMax<currentMax):\n",
        "      sumaMax=currentMax\n",
        "      cont2+=1\n",
        "  return sumaMax,cont2\n",
        "\n",
        "\n",
        "x=[n for n in range(5,100)]\n",
        "y=[];\n",
        "z=[];\n",
        "for n in range(5,100):\n",
        "  a=random.sample(range(1,100),n)\n",
        "  b=random.sample(range(1,100),n)\n",
        "  cont=0\n",
        "  max1,i,j=maxSubArray(a,0,len(a)-1)\n",
        "  max2,cont2=Kadane(b)\n",
        "  y.append(cont)\n",
        "  z.append(cont2)\n",
        "plt.plot(x,y)\n",
        "plt.plot(x,z)\n",
        "plt.legend([\"maxSubArray\",\"Kadane\"])\n",
        "\n",
        "plt.xlabel('tamaño del arreglo')\n",
        "plt.ylabel('cantidad de comparaciones')\n",
        "plt.show()"
      ],
      "metadata": {
        "colab": {
          "base_uri": "https://localhost:8080/",
          "height": 279
        },
        "id": "4zPk7HljiFvB",
        "outputId": "31ba49cd-3a03-40e6-db7d-9bc692b486b9"
      },
      "execution_count": 5,
      "outputs": [
        {
          "output_type": "display_data",
          "data": {
            "text/plain": [
              "<Figure size 432x288 with 1 Axes>"
            ],
            "image/png": "[encoded data removed]"
          },
          "metadata": {
            "needs_background": "light"
          }
        }
      ]
    },
    {
      "cell_type": "markdown",
      "source": [
        "**Análisis del resultado**"
      ],
      "metadata": {
        "id": "r83TV-93_8yW"
      }
    },
    {
      "cell_type": "markdown",
      "source": [
        "Como se puede apreciar en el gráfico, kadane realiza una menor cantidad de comparaciones en relación a maxSubArray, esta diferencia ocurre ya que el arreglo de kadane tiene complejidad O(n) y el maxSubArray tiene complejidad O(n*logn), maxSubArray realiza muchas mas divisiones y comparaciones independiente de como estén organizados los elementos, mientras que kadane realiza su función de manera mas lineal y directa."
      ],
      "metadata": {
        "id": "7cWhYEwwxVYa"
      }
    },
    {
      "cell_type": "markdown",
      "source": [
        "**El peor caso de kadane en maxSubArray**"
      ],
      "metadata": {
        "id": "7TfE6rk8znqa"
      }
    },
    {
      "cell_type": "code",
      "source": [
        "x=[n for n in range(5,20)]\n",
        "y1=[(n+n**2)/2 for n in range(5,20)]#peor caso de kadane\n",
        "y=[];\n",
        "for n in range(5,20):\n",
        "  a = random.sample(range(1,100),n)\n",
        "  cont=0\n",
        "  mmax,i,j=maxSubArray(a,0,len(a)-1)\n",
        "  y.append(cont)\n",
        "plt.plot(x,y)\n",
        "plt.plot(x,y1)\n",
        "plt.legend([\"peor caso de kadane\",\"maxSubArray\"])\n",
        "\n",
        "plt.xlabel('tamaño del arreglo')\n",
        "plt.ylabel('cantidad de comparaciones')\n",
        "plt.show()"
      ],
      "metadata": {
        "colab": {
          "base_uri": "https://localhost:8080/",
          "height": 279
        },
        "id": "zAGk0Kur0XTp",
        "outputId": "3546838d-1239-4f0f-f754-06f63db94310"
      },
      "execution_count": 39,
      "outputs": [
        {
          "output_type": "display_data",
          "data": {
            "text/plain": [
              "<Figure size 432x288 with 1 Axes>"
            ],
            "image/png": "[encoded data removed]"
          },
          "metadata": {
            "needs_background": "light"
          }
        }
      ]
    },
    {
      "cell_type": "markdown",
      "source": [
        "**Análisis del resultado**"
      ],
      "metadata": {
        "id": "wydBTdwxAAYl"
      }
    },
    {
      "cell_type": "markdown",
      "source": [
        "Se puede apreciar que el algoritmo maxSubArray para el peor caso de Kadane tiene una cantidad de comparaciones menor a medida que el arreglo se hace más grande, por lo que demuestra que el algoritmo es una alternativa para hacer el peor caso de Kadane."
      ],
      "metadata": {
        "id": "4tmS0J1uCose"
      }
    }
  ]
}