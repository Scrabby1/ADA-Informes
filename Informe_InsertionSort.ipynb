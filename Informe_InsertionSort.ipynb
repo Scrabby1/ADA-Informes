{
  "nbformat": 4,
  "nbformat_minor": 0,
  "metadata": {
    "colab": {
      "name": "Informe InsertionSort.ipynb",
      "provenance": [],
      "collapsed_sections": [
        "mbyZZ3BfvgpZ",
        "dSqpuSeIxGPp",
        "fWkIzH-Ld-y7"
      ],
      "toc_visible": true,
      "authorship_tag": "ABX9TyOUvLNgRnWByD2l3wyRAonF",
      "include_colab_link": true
    },
    "kernelspec": {
      "name": "python3",
      "display_name": "Python 3"
    },
    "language_info": {
      "name": "python"
    }
  },
  "cells": [
    {
      "cell_type": "markdown",
      "metadata": {
        "id": "view-in-github",
        "colab_type": "text"
      },
      "source": [
        "<a href=\"https://colab.research.google.com/github/Scrabby1/ADA-Informes/blob/main/Informe_InsertionSort.ipynb\" target=\"_parent\"><img src=\"https://colab.research.google.com/assets/colab-badge.svg\" alt=\"Open In Colab\"/></a>"
      ]
    },
    {
      "cell_type": "markdown",
      "source": [
        "# 1.Problema de ordenamiento"
      ],
      "metadata": {
        "id": "mbyZZ3BfvgpZ"
      }
    },
    {
      "cell_type": "markdown",
      "source": [
        "**Entrada**: Secuencia de n numeros"
      ],
      "metadata": {
        "id": "0MIkliQhuUip"
      }
    },
    {
      "cell_type": "markdown",
      "source": [
        "**Salida:** Una secuencia ordenada de n numeros, osea: [a1,a2,.....,an],siendo a1<=a2<=....<=an.\n",
        "\n"
      ],
      "metadata": {
        "id": "rdmzAM49uagj"
      }
    },
    {
      "cell_type": "markdown",
      "source": [
        "Muchos algoritmos son creados con el propósito de solucionar los problemas de ordenamiento, los cuales han existido desde que se empezaron a desarrollar las tecnologías computacionales. Un algoritmo creado para solucionar este problema es el algoritmo de InsertionSort."
      ],
      "metadata": {
        "id": "xOfaSQIav21Z"
      }
    },
    {
      "cell_type": "markdown",
      "source": [
        "EL tamaño del problema es del tamaño de la entrada que recibe, en este caso será el tamaño del arreglo."
      ],
      "metadata": {
        "id": "d20JxTxK04R1"
      }
    },
    {
      "cell_type": "markdown",
      "source": [
        "# 2.InsertionSort"
      ],
      "metadata": {
        "id": "dSqpuSeIxGPp"
      }
    },
    {
      "cell_type": "markdown",
      "source": [
        "A continuación se presentara una implementación del algoritmo InsertionSort"
      ],
      "metadata": {
        "id": "_-DYKi6QxVsB"
      }
    },
    {
      "cell_type": "markdown",
      "source": [
        "**Código**"
      ],
      "metadata": {
        "id": "x53Zmli0xjaM"
      }
    },
    {
      "cell_type": "code",
      "source": [
        "import random\n",
        "from termcolor import colored\n",
        "\n",
        "def InsertionSort(a,verbose=False):\n",
        "  b = len(a)\n",
        "  cont = 0 #contador de comparaciones\n",
        "  if(verbose==True):\n",
        "    \n",
        "      print(\"Arreglo de entrada:,\",a)\n",
        "    \n",
        "  for i in range(1,b):\n",
        "    if(verbose==True):\n",
        "        print(\"\\nPasada\",i)\n",
        "        print(a)\n",
        "    yaOrdenado=True\n",
        "    key = a[i]\n",
        "    k = i - 1\n",
        "    prueba=0 #variable utilizada para probar que se paso por el while\n",
        "    if(verbose==True):\n",
        "      if(key<a[k]):\n",
        "        print(\"---------------------------------------------------------------\")\n",
        "        print(\"el\",key,\"no se encuentra en el lugar correcto,se debe reubicar\")\n",
        "      else:\n",
        "        print(\"---------------------------------------------------------------\")\n",
        "        print(\"el\",key,\"se encuentra bien colocado\")\n",
        "        print(\"---------------------------------------------------------------\")\n",
        "    while k >= 0 and key < a[k]: #Se realizan comparaciones desde los elementos a la izquierda hasta que un numero menor sea encontrado\n",
        "      a[k + 1] = a[k]\n",
        "      k = k - 1\n",
        "      cont += 1\n",
        "      yaOrdenado==False\n",
        "      prueba=1\n",
        "    a[k + 1] = key #se coloca el valor en la posicion que le corresponde\n",
        "    contr=cont/(b-1)\n",
        "    if(verbose==True and prueba==1):\n",
        "      print(\"Se dejara al\",key,\"en el lugar que le corresponde\")\n",
        "      print(\"---------------------------------------------------------------\")\n",
        "      print(a);\n",
        "    if(i!=b):\n",
        "      yaOrdenado=False\n",
        "    if(i==b-1):\n",
        "      yaOrdenado=True\n",
        "    if(yaOrdenado==False and verbose==True):\n",
        "    \n",
        "        print(\"finaliza la pasada\")\n",
        "\n",
        "    if(yaOrdenado==True):\n",
        "      if(verbose==True):\n",
        "        print(\"ya se encuentra ordenado el arreglo\")\n",
        "      break\n",
        "    \n",
        "  if(verbose==True):\n",
        "      print(\"\\nArreglo de salida:\",a)\n",
        "\n",
        "  return a,cont,contr\n",
        "\n",
        "#Ejemplo\n",
        "A = [1,26,5,3,4]\n",
        "print(\"Entrada: \",A)\n",
        "A, cont,contr = InsertionSort(A)\n",
        "print(\"Salida: \",A)\n",
        "print(\"comparaciones: \",cont)\n",
        "print(\"media de retrocesos\",contr)\n"
      ],
      "metadata": {
        "colab": {
          "base_uri": "https://localhost:8080/"
        },
        "id": "8OBd7RfYxggj",
        "outputId": "a8b3aecc-c1bd-4266-dc0b-c2a651c58cf5"
      },
      "execution_count": null,
      "outputs": [
        {
          "output_type": "stream",
          "name": "stdout",
          "text": [
            "Entrada:  [1, 26, 5, 3, 4]\n",
            "Salida:  [1, 3, 4, 5, 26]\n",
            "comparaciones:  5\n",
            "media de retrocesos 1.25\n"
          ]
        }
      ]
    },
    {
      "cell_type": "markdown",
      "source": [
        "**Descripción del algoritmo**"
      ],
      "metadata": {
        "id": "xrkinm207SeE"
      }
    },
    {
      "cell_type": "markdown",
      "source": [
        "El algoritmo que se puede apreciar recibe como entrada un arreglo **a** con un patrón de **b** elementos que se deben ordenar de manera ascendente. Una vez recibidos los elementos estos son ordenados en el arreglo"
      ],
      "metadata": {
        "id": "1WApt-cY8Spl"
      }
    },
    {
      "cell_type": "markdown",
      "source": [
        "1.En cada iteración **i**, se realizan comparaciones del valor actual **key** con todos los elementos de la izquierda **a[k]** hasta que el valor actual sea menor que uno de los valores de la izquierda o que no queden valores en la izquierda"
      ],
      "metadata": {
        "id": "5NQpZBSW9IvB"
      }
    },
    {
      "cell_type": "markdown",
      "source": [
        "2.Si se encuentra un valor que es mayor que el valor actual, entonces el valor actual  **key** se coloca en esa posición"
      ],
      "metadata": {
        "id": "FJ3Mv_l_-mUL"
      }
    },
    {
      "cell_type": "markdown",
      "source": [
        "3.Si el algoritmo ya se encuentra ordenado, se termina el algoritmo, si no se repiten los pasos anteriores hasta que lo este"
      ],
      "metadata": {
        "id": "4D1RNIC6CNp5"
      }
    },
    {
      "cell_type": "markdown",
      "source": [
        "4.Al final como salida tendremos el arreglo ordenado y un contador **cont** de comparaciones que se tuvieron que hacer."
      ],
      "metadata": {
        "id": "MyOV8eq1CZ0j"
      }
    },
    {
      "cell_type": "markdown",
      "source": [
        "**Ejemplo**"
      ],
      "metadata": {
        "id": "zY8v8UrzCrKc"
      }
    },
    {
      "cell_type": "markdown",
      "source": [
        "Tomemos el siguiente arreglo:"
      ],
      "metadata": {
        "id": "e2dpXuwmCtV0"
      }
    },
    {
      "cell_type": "markdown",
      "source": [
        "**a=[8,4,5,1]**"
      ],
      "metadata": {
        "id": "zqfy-hxhCyzT"
      }
    },
    {
      "cell_type": "markdown",
      "source": [
        "En la primera pasada se intercambiará el 8 con el 4"
      ],
      "metadata": {
        "id": "6xMY_fiMC9yA"
      }
    },
    {
      "cell_type": "markdown",
      "source": [
        "**a=[4,8,5,1]**"
      ],
      "metadata": {
        "id": "HYb6MmK_DKi1"
      }
    },
    {
      "cell_type": "markdown",
      "source": [
        "En la segunda pasada el 5 se intercambiará con el 8"
      ],
      "metadata": {
        "id": "yHK2usVNDObV"
      }
    },
    {
      "cell_type": "markdown",
      "source": [
        "**a=[4,5,8,1]**"
      ],
      "metadata": {
        "id": "-MgO4z0yDXPO"
      }
    },
    {
      "cell_type": "markdown",
      "source": [
        "En la ultima pasada el 1 intercambiará posición con el 8, luego con el 5 y por último el 4"
      ],
      "metadata": {
        "id": "r8XZIe6LDbeE"
      }
    },
    {
      "cell_type": "markdown",
      "source": [
        "**a=[1,4,5,8]**"
      ],
      "metadata": {
        "id": "lQjk4JvVDl1R"
      }
    },
    {
      "cell_type": "markdown",
      "source": [
        "El algoritmo realizara una última pasada, en esta se encontrará ordenado por lo que aqui acaba el algoritmo."
      ],
      "metadata": {
        "id": "UTBenyxlDpwx"
      }
    },
    {
      "cell_type": "markdown",
      "source": [
        "Ejecución del algoritmo paso a paso (verbose=True)"
      ],
      "metadata": {
        "id": "NJGsp3vfEDRG"
      }
    },
    {
      "cell_type": "code",
      "source": [
        "import random\n",
        "a= random.sample(range(1,100),6)\n",
        "a,c,b=InsertionSort(a,True)"
      ],
      "metadata": {
        "id": "i9Yb_QAMEcoj",
        "colab": {
          "base_uri": "https://localhost:8080/"
        },
        "outputId": "7da5e332-c1dc-4cb9-ba75-73be2c973f67"
      },
      "execution_count": null,
      "outputs": [
        {
          "output_type": "stream",
          "name": "stdout",
          "text": [
            "Arreglo de entrada:, [15, 92, 60, 13, 94, 5]\n",
            "\n",
            "Pasada 1\n",
            "[15, 92, 60, 13, 94, 5]\n",
            "---------------------------------------------------------------\n",
            "el 92 se encuentra bien colocado\n",
            "---------------------------------------------------------------\n",
            "finaliza la pasada\n",
            "\n",
            "Pasada 2\n",
            "[15, 92, 60, 13, 94, 5]\n",
            "---------------------------------------------------------------\n",
            "el 60 no se encuentra en el lugar correcto,se debe reubicar\n",
            "Se dejara al 60 en el lugar que le corresponde\n",
            "---------------------------------------------------------------\n",
            "[15, 60, 92, 13, 94, 5]\n",
            "finaliza la pasada\n",
            "\n",
            "Pasada 3\n",
            "[15, 60, 92, 13, 94, 5]\n",
            "---------------------------------------------------------------\n",
            "el 13 no se encuentra en el lugar correcto,se debe reubicar\n",
            "Se dejara al 13 en el lugar que le corresponde\n",
            "---------------------------------------------------------------\n",
            "[13, 15, 60, 92, 94, 5]\n",
            "finaliza la pasada\n",
            "\n",
            "Pasada 4\n",
            "[13, 15, 60, 92, 94, 5]\n",
            "---------------------------------------------------------------\n",
            "el 94 se encuentra bien colocado\n",
            "---------------------------------------------------------------\n",
            "finaliza la pasada\n",
            "\n",
            "Pasada 5\n",
            "[13, 15, 60, 92, 94, 5]\n",
            "---------------------------------------------------------------\n",
            "el 5 no se encuentra en el lugar correcto,se debe reubicar\n",
            "Se dejara al 5 en el lugar que le corresponde\n",
            "---------------------------------------------------------------\n",
            "[5, 13, 15, 60, 92, 94]\n",
            "ya se encuentra ordenado el arreglo\n",
            "\n",
            "Arreglo de salida: [5, 13, 15, 60, 92, 94]\n"
          ]
        }
      ]
    },
    {
      "cell_type": "markdown",
      "source": [
        "Como se puede apreciar en el ejemplo,en cada iteracion se realizan comparaciones hasta que el numero este bien colocado en el arreglo"
      ],
      "metadata": {
        "id": "7ZRUyhlmYngh"
      }
    },
    {
      "cell_type": "markdown",
      "source": [
        "# 3.Correctitud\n"
      ],
      "metadata": {
        "id": "fWkIzH-Ld-y7"
      }
    },
    {
      "cell_type": "markdown",
      "source": [
        "**Teorema (Correctitud)**"
      ],
      "metadata": {
        "id": "_KHLiFhueIS6"
      }
    },
    {
      "cell_type": "markdown",
      "source": [
        "El algoritmo InsertionSort genera un arreglo de [a1,a2,...,an] con los mismos elementos que recibió en la **entrada** pero estos terminan como **salida** ordenados de menor a mayor."
      ],
      "metadata": {
        "id": "D4_k3WIZeStm"
      }
    },
    {
      "cell_type": "markdown",
      "source": [
        "**Prueba del teorema**"
      ],
      "metadata": {
        "id": "xd1YhJeOe2T4"
      }
    },
    {
      "cell_type": "markdown",
      "source": [
        "Para probar el teorema vamos a comprobar que la propiedad de bucle invariante del InsertionSort se cumple"
      ],
      "metadata": {
        "id": "dg9ftcwBfFLa"
      }
    },
    {
      "cell_type": "markdown",
      "source": [
        "La propiedad de bucle invariante del algoritmo insertionSort dice lo siguiente:"
      ],
      "metadata": {
        "id": "gEghVAREfPb5"
      }
    },
    {
      "cell_type": "markdown",
      "source": [
        "Cuando empieza una iteración del bucle que abarca al otro bucle (el for en este caso), el subarreglo a[0..i-1] contiene los mismos elementos del arreglo original, pero ordenados de menor a mayor."
      ],
      "metadata": {
        "id": "DCxy-FOnfYER"
      }
    },
    {
      "cell_type": "markdown",
      "source": [
        "**Inicialización**"
      ],
      "metadata": {
        "id": "ZVq4R955f5mm"
      }
    },
    {
      "cell_type": "markdown",
      "source": [
        "Al comienzo de la iteracion solo tendremos la primera posición del arreglo, el primer elemento del arreglo siempre esta y al ser solo un elemento este ya esta ordenado"
      ],
      "metadata": {
        "id": "DG0dOXIbf_dE"
      }
    },
    {
      "cell_type": "markdown",
      "source": [
        "**Mantención**"
      ],
      "metadata": {
        "id": "NzMvcGtUhB_D"
      }
    },
    {
      "cell_type": "markdown",
      "source": [
        "Nos colocaremos en la i-ésima iteración, asumiremos que todos los elementos previos a la posición i se encuentran ordenados, ósea que el subarreglo a[0...i-1] se encuentra ordenado.\n"
      ],
      "metadata": {
        "id": "_tr55C92hGsR"
      }
    },
    {
      "cell_type": "markdown",
      "source": [
        "Una vez hagamos la iteración, la posición i se moverá a la ubicación que le corresponde, si analizamos el nuevo subarreglo a[0...i] contiene los elementos del arreglo original y este se encontrara ordenado de menor a mayor"
      ],
      "metadata": {
        "id": "7OFD9h9Rhirr"
      }
    },
    {
      "cell_type": "markdown",
      "source": [
        "**Correctitud**"
      ],
      "metadata": {
        "id": "mQQZtbc5GZlA"
      }
    },
    {
      "cell_type": "markdown",
      "source": [
        "Como la propiedad del bucle invariante a resultado ser correcta en el inicio y en la mantención, al finalizar el algoritmo nosotros tendremos un arreglo de **n** elementos ordenado"
      ],
      "metadata": {
        "id": "W1TbAfkil8tM"
      }
    },
    {
      "cell_type": "markdown",
      "source": [
        "# 4.Tiempo de ejecución\n",
        "\n"
      ],
      "metadata": {
        "id": "X_X8ABFxFdND"
      }
    },
    {
      "cell_type": "markdown",
      "source": [
        "**Teorema (Tiempo de ejecución)**"
      ],
      "metadata": {
        "id": "Y-mv_oP5FxwY"
      }
    },
    {
      "cell_type": "markdown",
      "source": [
        "El algoritmo InsertionSort tiene un tiempo de ejecución de O(n²)"
      ],
      "metadata": {
        "id": "PCQYL_PYGVxT"
      }
    },
    {
      "cell_type": "markdown",
      "source": [
        "**Prueba del teorema**"
      ],
      "metadata": {
        "id": "O2cKGtm0GXMO"
      }
    },
    {
      "cell_type": "markdown",
      "source": [
        "Para probar el teorema, usaremos el peor caso del algoritmo, el cual es que el arreglo este ordenado de mayor a menor, debido a que debe hacer una cantidad de comparaciones equivalente a n-1 por cada elemento de este"
      ],
      "metadata": {
        "id": "5A-ql-ikZPtB"
      }
    },
    {
      "cell_type": "markdown",
      "source": [
        "**Ejemplo**"
      ],
      "metadata": {
        "id": "ML3lw0E3aKS3"
      }
    },
    {
      "cell_type": "code",
      "source": [
        "a=[4,3,2,1]\n",
        "print(\"Entrada ordenada de menor a mayor:\",a)\n",
        "a,c,b=InsertionSort(a,True)\n",
        "print(\"Salida ordenada:\",a)\n",
        "print(\"Cantidad de comparaciones\",c)"
      ],
      "metadata": {
        "colab": {
          "base_uri": "https://localhost:8080/"
        },
        "id": "tSWG4xzfZN8t",
        "outputId": "cf4f52a7-6104-4ce3-e44a-b5e65c9964c6"
      },
      "execution_count": 35,
      "outputs": [
        {
          "output_type": "stream",
          "name": "stdout",
          "text": [
            "Entrada ordenada de menor a mayor: [4, 3, 2, 1]\n",
            "Arreglo de entrada:, [4, 3, 2, 1]\n",
            "\n",
            "Pasada 1\n",
            "[4, 3, 2, 1]\n",
            "---------------------------------------------------------------\n",
            "el 3 no se encuentra en el lugar correcto,se debe reubicar\n",
            "Se dejara al 3 en el lugar que le corresponde\n",
            "---------------------------------------------------------------\n",
            "[3, 4, 2, 1]\n",
            "finaliza la pasada\n",
            "\n",
            "Pasada 2\n",
            "[3, 4, 2, 1]\n",
            "---------------------------------------------------------------\n",
            "el 2 no se encuentra en el lugar correcto,se debe reubicar\n",
            "Se dejara al 2 en el lugar que le corresponde\n",
            "---------------------------------------------------------------\n",
            "[2, 3, 4, 1]\n",
            "finaliza la pasada\n",
            "\n",
            "Pasada 3\n",
            "[2, 3, 4, 1]\n",
            "---------------------------------------------------------------\n",
            "el 1 no se encuentra en el lugar correcto,se debe reubicar\n",
            "Se dejara al 1 en el lugar que le corresponde\n",
            "---------------------------------------------------------------\n",
            "[1, 2, 3, 4]\n",
            "ya se encuentra ordenado el arreglo\n",
            "\n",
            "Arreglo de salida: [1, 2, 3, 4]\n",
            "Salida ordenada: [1, 2, 3, 4]\n",
            "Cantidad de comparaciones 6\n"
          ]
        }
      ]
    },
    {
      "cell_type": "markdown",
      "source": [
        "En este ejemplo, en la primera pasada es una comparación la que se hace, luego 2 en la segunda y tres en la tercera."
      ],
      "metadata": {
        "id": "rmtH29WnbyE6"
      }
    },
    {
      "cell_type": "markdown",
      "source": [
        "Con esto nos podemos dar cuenta del patrón que es 0+1+2+....+n-1 esto es lo mismo que decir que necesitamos (n^2-n)/2 comparaciones que se deben hacer en el peor caso y en esta ecuación la variable que crece más rápido es n^2.Por lo tanto el tiempo de ejecución en el peor caso es O(n^2)"
      ],
      "metadata": {
        "id": "mg3RiEXvcAwn"
      }
    },
    {
      "cell_type": "markdown",
      "source": [
        "# 5.Experimentos"
      ],
      "metadata": {
        "id": "HycaPtY4dsNi"
      }
    },
    {
      "cell_type": "markdown",
      "source": [
        "A continuación, se van a mostrar los gráficos de los resultados de los experimentos realizados el primero es:"
      ],
      "metadata": {
        "id": "Mk2HsvMBgN33"
      }
    },
    {
      "cell_type": "markdown",
      "source": [
        "**Comparacion entre la cantidad de comparaciones del mejor y el peor caso**"
      ],
      "metadata": {
        "id": "NChenCn1gWCt"
      }
    },
    {
      "cell_type": "code",
      "source": [
        "import matplotlib.pyplot as plt\n",
        "\n",
        "x=[n for n in range(5,20)]\n",
        "y1=[((n*n)-n)/2 for n in range(5,20)] #peor caso\n",
        "y2=[n-1 for n in range(5,20)] #mejor caso\n",
        "y=[];\n",
        "for n in range(5,20):\n",
        "  a = random.sample(range(1,100),n)\n",
        "  a,c,b=InsertionSort(a)\n",
        "  y.append(c)\n",
        "plt.plot(x,y)\n",
        "plt.plot(x,y1)\n",
        "plt.plot(x,y2)\n",
        "plt.legend([\"InsertionSort\",\"Peor caso\",\"Mejor caso\"])\n",
        "\n",
        "plt.xlabel('tamaño del arreglo')\n",
        "plt.ylabel('cantidad de comparaciones')\n",
        "plt.show()"
      ],
      "metadata": {
        "colab": {
          "base_uri": "https://localhost:8080/",
          "height": 279
        },
        "id": "kGDZhO1agrPR",
        "outputId": "3ba698fc-ba6b-4a08-e8a9-19475cbfeef6"
      },
      "execution_count": 33,
      "outputs": [
        {
          "output_type": "display_data",
          "data": {
            "text/plain": [
              "<Figure size 432x288 with 1 Axes>"
            ],
            "image/png": "[encoded data removed]"
          },
          "metadata": {
            "needs_background": "light"
          }
        }
      ]
    },
    {
      "cell_type": "markdown",
      "source": [
        "**Análisis del resultado**"
      ],
      "metadata": {
        "id": "i9-6b_5KjiMn"
      }
    },
    {
      "cell_type": "markdown",
      "source": [
        "En el grafico se puede notar que el peor caso, el cual es el que realiza el mayor numero de comparaciones es el que más crece, este se empieza a alejar por mucho de los casos comunes (azul) y del mejor caso, el cual siempre se mantiene de una forma ascendente menor sin importar el tamaño del arreglo. Esto demuestra que en su peor caso debe realizar demasiadas comparaciones"
      ],
      "metadata": {
        "id": "S4TBn_5YfnOI"
      }
    },
    {
      "cell_type": "markdown",
      "source": [
        "**Caso cuando un arreglo esta casi ordenado**"
      ],
      "metadata": {
        "id": "ruy9tSj8gSyE"
      }
    },
    {
      "cell_type": "markdown",
      "source": [
        "Se considerara un arreglo casi ordenado cuando este se deba hacer al menos n-1 comparaciones"
      ],
      "metadata": {
        "id": "s7TxAXQHgZwU"
      }
    },
    {
      "cell_type": "markdown",
      "source": [
        "Se mostrará un gráfico con los casos normales y uno con arreglos casi ordenados"
      ],
      "metadata": {
        "id": "EBltinSDgiy9"
      }
    },
    {
      "cell_type": "code",
      "source": [
        "x=[n for n in range(5,20)]\n",
        "y1=[((n*n)-n)/4 for n in range(5,20)]\n",
        "y=[];\n",
        "for n in range(5,20):\n",
        "  a = random.sample(range(1,100),n)\n",
        "  a,c,b=InsertionSort(a)\n",
        "  y.append(c)\n",
        "plt.plot(x,y)\n",
        "plt.plot(x,y1)\n",
        "plt.legend([\"InsertionSort\",\"Casi ordenado\"])\n",
        "\n",
        "plt.xlabel('tamaño del arreglo')\n",
        "plt.ylabel('cantidad de comparaciones')\n",
        "plt.show()"
      ],
      "metadata": {
        "colab": {
          "base_uri": "https://localhost:8080/",
          "height": 279
        },
        "id": "Xa--QzvMgo7d",
        "outputId": "e1f278ac-9d06-468b-8a11-7c7af4ac7837"
      },
      "execution_count": 36,
      "outputs": [
        {
          "output_type": "display_data",
          "data": {
            "text/plain": [
              "<Figure size 432x288 with 1 Axes>"
            ],
            "image/png": "[encoded data removed]"
          },
          "metadata": {
            "needs_background": "light"
          }
        }
      ]
    },
    {
      "cell_type": "markdown",
      "source": [
        "**Análisis del resultado**"
      ],
      "metadata": {
        "id": "G08pPdnNhu7V"
      }
    },
    {
      "cell_type": "markdown",
      "source": [
        "Se puede observar que va de manera ascendente la cantidad de comparaciones que se deben hacer segun el tamaño del arreglo, no obstante, sigue manteniendo una cantidad de comparaciones mas estable en comparación a las entradas de arreglos normales. Por lo que el insertionSort es mejor cuando se le entrega un arreglo casi ordenado."
      ],
      "metadata": {
        "id": "lKOWnmxDhykV"
      }
    },
    {
      "cell_type": "markdown",
      "source": [
        "**Comparacion de tiempos entre BubbleSort y InsertionSort**"
      ],
      "metadata": {
        "id": "PHd-Ao3MiGdm"
      }
    },
    {
      "cell_type": "markdown",
      "source": [
        "A continuacion se presentaran graficos en donde se compararan los tiempos entre BubbleSort y InsertionSort."
      ],
      "metadata": {
        "id": "zNgjVQC4iOsa"
      }
    },
    {
      "cell_type": "code",
      "source": [
        "import datetime\n",
        "from timeit import repeat\n",
        "\n",
        "x=[];y=[]\n",
        "for n in range(5,500):\n",
        "  a = random.sample(range(1,1000),n)\n",
        "  t = repeat(setup=\"from __main__ import InsertionSort\", stmt=f\"InsertionSort({a})\", repeat=1, number=10)\n",
        "\n",
        "  x.append(n)\n",
        "  y.append(t)\n",
        "\n",
        "plt.plot(x,y)\n",
        "plt.legend([\"InsertionSort\"])\n",
        "\n",
        "plt.xlabel('Tamaño del arreglo')\n",
        "plt.ylabel('Tiempo')\n",
        "plt.show"
      ],
      "metadata": {
        "colab": {
          "base_uri": "https://localhost:8080/",
          "height": 297
        },
        "id": "u_1ENVnTi2iL",
        "outputId": "4fc7a835-2fbe-46f6-cb2f-003ceb885c5d"
      },
      "execution_count": null,
      "outputs": [
        {
          "output_type": "execute_result",
          "data": {
            "text/plain": [
              "<function matplotlib.pyplot.show>"
            ]
          },
          "metadata": {},
          "execution_count": 31
        },
        {
          "output_type": "display_data",
          "data": {
            "text/plain": [
              "<Figure size 432x288 with 1 Axes>"
            ],
            "image/png": "[encoded data removed]"
          },
          "metadata": {
            "needs_background": "light"
          }
        }
      ]
    },
    {
      "cell_type": "markdown",
      "source": [
        "![Captura.PNG](data:image/png;base64,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)"
      ],
      "metadata": {
        "id": "3DmL7ghMkfih"
      }
    },
    {
      "cell_type": "markdown",
      "source": [
        " **Análisis de los resultados**"
      ],
      "metadata": {
        "id": "uPfdO_x0lTAD"
      }
    },
    {
      "cell_type": "markdown",
      "source": [
        "Se puede ver que los tiempos del BubbleSort son mayores que los de InsertionSort, por lo tanto el InsertionSort tarda menos en realizar su ordenamiento, no obstante esto no significa que sea mejor siempre, hay situaciones donde el BubbleSort habría dado un mejor resultado."
      ],
      "metadata": {
        "id": "jD-gc_jIlZvT"
      }
    }
  ]
}