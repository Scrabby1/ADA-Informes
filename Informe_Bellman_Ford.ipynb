{
  "nbformat": 4,
  "nbformat_minor": 0,
  "metadata": {
    "colab": {
      "provenance": [],
      "collapsed_sections": [
        "s_C1sWmJeBhE",
        "ajFV7ApNhcLV",
        "8AKlTT5JhqVw",
        "jO9GKnWJl67x"
      ],
      "toc_visible": true,
      "authorship_tag": "ABX9TyOlGXWUPPCb3NRbDQ7UQyGV",
      "include_colab_link": true
    },
    "kernelspec": {
      "name": "python3",
      "display_name": "Python 3"
    },
    "language_info": {
      "name": "python"
    }
  },
  "cells": [
    {
      "cell_type": "markdown",
      "metadata": {
        "id": "view-in-github",
        "colab_type": "text"
      },
      "source": [
        "<a href=\"https://colab.research.google.com/github/Scrabby1/ADA-Informes/blob/main/Informe_Bellman_Ford.ipynb\" target=\"_parent\"><img src=\"https://colab.research.google.com/assets/colab-badge.svg\" alt=\"Open In Colab\"/></a>"
      ]
    },
    {
      "cell_type": "markdown",
      "source": [
        "#1.Descripción del problema"
      ],
      "metadata": {
        "id": "s_C1sWmJeBhE"
      }
    },
    {
      "cell_type": "markdown",
      "source": [
        "**Entrada:** Un grafo G=(V,E),un vértice fuente s que pertenece a V y un valor l que se le asocia a cada arco que pertenece a E\n",
        "\n",
        "**Salida:** Uno de los dos casos:\n",
        "\n",
        "**i.**La distancia mas corta dist(s,v) para cada vértice v perteneciente a V\n",
        "\n",
        "**ii.**Una declaración de que G contiene un ciclo negativo."
      ],
      "metadata": {
        "id": "6Nmm005AeIYN"
      }
    },
    {
      "cell_type": "markdown",
      "source": [
        "Cuando hacemos un algoritmo para encontrar una solución, siempre se quiere encontrar la solución más eficiente de todas, este tipo de problema se llaman problemas de optimización, en este informe se vera la solución para encontrar el camino mas corto desde un nodo fuente s, para lograr esto se van utilizar los algoritmos dijkstra y Bellman-Ford."
      ],
      "metadata": {
        "id": "kNPJNEK1gJqW"
      }
    },
    {
      "cell_type": "markdown",
      "source": [
        "El problema de este ejercicio va a ser el tamaño de la entrada, en este caso van a ser la cantidad de arcos y vértices"
      ],
      "metadata": {
        "id": "0_RhHGSfjcTG"
      }
    },
    {
      "cell_type": "markdown",
      "source": [
        "#2.Algoritmos"
      ],
      "metadata": {
        "id": "ajFV7ApNhcLV"
      }
    },
    {
      "cell_type": "markdown",
      "source": [
        "**Generador de instancias**"
      ],
      "metadata": {
        "id": "IQTp4NUmjpwZ"
      }
    },
    {
      "cell_type": "code",
      "source": [
        "import random\n",
        "\n",
        "def is_valid_edge(generated_edges: dict, i: int, j: int):\n",
        "    return i != j and not generated_edges.get((i, j), None) and not generated_edges.get((j, i), None)\n",
        "\n",
        "def instance_generator(n: int):\n",
        "    \"\"\"\n",
        "        Input: cantidad de vértices\n",
        "        Output: una lista que contiene todos los arcos y el número del vértice fuente (la función retorna dos variables).\n",
        "        Los arcos vienen en la forma (i, j, weight), donde i es el vértice origen del arco y j el vértice al que apunta el arco, mientras que weight es su peso.\n",
        "    \"\"\"\n",
        "    graph = []\n",
        "    nodes = random.sample(range(0, n), n)\n",
        "    unvisited_nodes = random.sample(range(0, n), n)\n",
        "    \n",
        "    generated_edges = {}\n",
        "    for i in nodes:\n",
        "        rand = random.sample(nodes, random.randint(1, 3))\n",
        "\n",
        "        for j in rand:\n",
        "            edge = (i, j)\n",
        "            edge_with_weight = (i, j, random.randint(1, 100))\n",
        "            \n",
        "            if generated_edges.get((edge[1], edge[0]), None):\n",
        "                continue\n",
        "            \n",
        "            if i == j:\n",
        "                new_vertice = None\n",
        "                iterations = 0\n",
        "                while new_vertice is None and iterations < 250:\n",
        "                    iterations += 1\n",
        "                    number = random.randint(0, n - 1)\n",
        "                    if is_valid_edge(generated_edges, i, number):\n",
        "                        new_vertice = number\n",
        "\n",
        "                if iterations >= 250:\n",
        "                    return instance_generator(n)\n",
        "                \n",
        "                edge = (i, new_vertice)\n",
        "                edge_with_weight = (i, new_vertice, random.randint(-25, 100)) # -25 y 100 corresponde a los límites de los pesos, puede cambiarlos.\n",
        "            \n",
        "            graph.append(edge_with_weight)\n",
        "            generated_edges[edge] = edge\n",
        "\n",
        "            if edge_with_weight[1] in unvisited_nodes:\n",
        "                unvisited_nodes.remove(edge_with_weight[1])\n",
        "\n",
        "    for i in unvisited_nodes:\n",
        "        valid_edge = False\n",
        "        iterations = 0\n",
        "        while not valid_edge and iterations < 250:\n",
        "            iterations += 1\n",
        "            m = random.randint(0, n - 1)\n",
        "            if is_valid_edge(generated_edges, m, i):\n",
        "                valid_edge = True\n",
        "                edge = (m, i)\n",
        "                edge_with_weight = (m, i, random.randint(-25, 100)) # -25 y 100 corresponde a los límites de los pesos, puede cambiarlos.\n",
        "                graph.append(edge_with_weight)\n",
        "                generated_edges[edge] = edge\n",
        "\n",
        "        if iterations >= 250:\n",
        "            return instance_generator(n)\n",
        "\n",
        "    return graph, graph[0][0]"
      ],
      "metadata": {
        "id": "XOi_JI0dhcq7"
      },
      "execution_count": 22,
      "outputs": []
    },
    {
      "cell_type": "markdown",
      "source": [
        "**Generador de instancia para dijkstra**"
      ],
      "metadata": {
        "id": "J-PuAZVmpVyX"
      }
    },
    {
      "cell_type": "code",
      "source": [
        "import random\n",
        "\n",
        "def is_valid_edge(generated_edges: dict, i: int, j: int):\n",
        "    return i != j and not generated_edges.get((i, j), None) and not generated_edges.get((j, i), None)\n",
        "\n",
        "def DijkstraInstance_generator(n: int):\n",
        "    \"\"\"\n",
        "        Input: cantidad de vértices\n",
        "        Output: una lista que contiene todos los arcos y el número del vértice fuente (la función retorna dos variables).\n",
        "        Los arcos vienen en la forma (i, j, weight), donde i es el vértice origen del arco y j el vértice al que apunta el arco, mientras que weight es su peso.\n",
        "    \"\"\"\n",
        "    graph = []\n",
        "    nodes = random.sample(range(0, n), n)\n",
        "    unvisited_nodes = random.sample(range(0, n), n)\n",
        "    \n",
        "    generated_edges = {}\n",
        "    for i in nodes:\n",
        "        rand = random.sample(nodes, random.randint(1, 3))\n",
        "\n",
        "        for j in rand:\n",
        "            edge = (i, j)\n",
        "            edge_with_weight = (i, j, random.randint(1, 100))\n",
        "            \n",
        "            if generated_edges.get((edge[1], edge[0]), None):\n",
        "                continue\n",
        "            \n",
        "            if i == j:\n",
        "                new_vertice = None\n",
        "                iterations = 0\n",
        "                while new_vertice is None and iterations < 250:\n",
        "                    iterations += 1\n",
        "                    number = random.randint(0, n - 1)\n",
        "                    if is_valid_edge(generated_edges, i, number):\n",
        "                        new_vertice = number\n",
        "\n",
        "                if iterations >= 250:\n",
        "                    return DijkstraInstance_generator(n)\n",
        "                \n",
        "                edge = (i, new_vertice)\n",
        "                edge_with_weight = (i, new_vertice, random.randint(1, 100)) # 1 y 100 corresponde a los límites de los pesos, puede cambiarlos.\n",
        "            \n",
        "            graph.append(edge_with_weight)\n",
        "            generated_edges[edge] = edge\n",
        "\n",
        "            if edge_with_weight[1] in unvisited_nodes:\n",
        "                unvisited_nodes.remove(edge_with_weight[1])\n",
        "\n",
        "    for i in unvisited_nodes:\n",
        "        valid_edge = False\n",
        "        iterations = 0\n",
        "        while not valid_edge and iterations < 250:\n",
        "            iterations += 1\n",
        "            m = random.randint(0, n - 1)\n",
        "            if is_valid_edge(generated_edges, m, i):\n",
        "                valid_edge = True\n",
        "                edge = (m, i)\n",
        "                edge_with_weight = (m, i, random.randint(1, 100)) # 1 y 100 corresponde a los límites de los pesos, puede cambiarlos.\n",
        "                graph.append(edge_with_weight)\n",
        "                generated_edges[edge] = edge\n",
        "\n",
        "        if iterations >= 250:\n",
        "            return DijkstraInstance_generator(n)\n",
        "\n",
        "    return graph, graph[0][0]"
      ],
      "metadata": {
        "id": "MSqTCQ6v4pLC"
      },
      "execution_count": 23,
      "outputs": []
    },
    {
      "cell_type": "code",
      "source": [
        "import networkx as nx\n",
        "\n",
        "\n",
        "def graph_to_nxdigraph(graph: list, n: int):\n",
        "    \"\"\"\n",
        "        Input: Un grafo en formato list[tuple]. Ej: [(0, 1, 10), (1, 2, 15), (2, 0, 7)].\n",
        "        Output: Un nx.DiGraph de la libreria networkx.\n",
        "    \"\"\"\n",
        "    nxdigraph = nx.DiGraph()\n",
        "    [nxdigraph.add_node(i) for i in range(n)]\n",
        "\n",
        "    for v in graph:\n",
        "        nxdigraph.add_edge(v[0], v[1], weight=v[2])\n",
        "\n",
        "    return nxdigraph"
      ],
      "metadata": {
        "id": "wR8vj7w8388Y"
      },
      "execution_count": 24,
      "outputs": []
    },
    {
      "cell_type": "markdown",
      "source": [
        "**Bellman-Ford**"
      ],
      "metadata": {
        "id": "L-9L97uGjs7j"
      }
    },
    {
      "cell_type": "code",
      "source": [
        "import matplotlib.pyplot as plt\n",
        " \n",
        "def BellmanFord(graph, V, E, s,visualize=False,verbose=False,experimento=False):\n",
        "\n",
        "    if(verbose==True):\n",
        "      print(\"Se reciben los siguientes datos:\")\n",
        "      print(\"nodo fuente:\",s)\n",
        "      print(\"cantidad de vertices:\",V)\n",
        "      print(\"cantidad de arcos:\",E)\n",
        "      print(\"grafo:\",graph)\n",
        "      print(\"-------------------------------------------------\")\n",
        "      print(\"Se crea el arreglo que guardara la distancia\")\n",
        "      print(\"-------------------------------------------------\")\n",
        "    dis = [99999999999] * V\n",
        " \n",
        "    dis[s] = 0\n",
        "    if(verbose==True):\n",
        "      print(\"Se empiezan a recorrer los arcos y vertices\")\n",
        "    for i in range(V - 1):\n",
        "        for j in range(E):\n",
        "            if(verbose==True):\n",
        "              print(\"Se comprueba el camino mas corto hacia el nodo v\")\n",
        "              print(\"camino mas corto con i arcos + el peso del camino\",dis[graph[j][0]] + graph[j][2],\"Camino corto actual\",dis[graph[j][1]])\n",
        "            if (dis[graph[j][0]] + graph[j][2] < dis[graph[j][1]]):\n",
        "                if(verbose==True):\n",
        "                  print(\"El camino es mas corto,se debe actualizar\")\n",
        "                dis[graph[j][1]] = dis[graph[j][0]] + graph[j][2]\n",
        "\n",
        "    if(verbose==True):\n",
        "      print(\"-------------------------------------------------\")\n",
        "      print(\"Se comprobara que no hayan ciclos negativos\")\n",
        " \n",
        "    for i in range(E):\n",
        "        x = graph[i][0]\n",
        "        y = graph[i][1]\n",
        "        weight = graph[i][2]\n",
        "        if (dis[x] != 99999999999 and dis[x] + weight < dis[y]):\n",
        "            print(\"El grafo posee un ciclo negativo\")\n",
        "\n",
        "    if(verbose==True):\n",
        "      print(\"El grafo no posee ciclos negativos\")\n",
        "      print(\"-------------------------------------------------\")\n",
        "    \n",
        "    if(experimento==True):\n",
        "      print(\"Camino mas corto desde la fuente\")\n",
        "      for i in range(V):\n",
        "        print(\"Desde el nodo:\",i,\"---->\",dis[i])\n",
        "    \n",
        "    if(visualize==True):\n",
        "      grafo=graph_to_nxdigraph(graph,V)\n",
        "      pos=nx.spring_layout(grafo)\n",
        "      labels = nx.get_edge_attributes(grafo,'weight')\n",
        "      nx.draw_networkx_edge_labels(grafo,pos,edge_labels=labels,font_size=14)\n",
        "      nx.draw(grafo,pos, node_color=\"red\", with_labels=True, node_size=500, font_color=\"white\", font_size=14, font_weight=\"black\", width  =0.5, edge_color =\"green\")\n",
        "\n",
        "g,a=instance_generator(5)\n",
        "BellmanFord(g, 5, len(g), 0,False,False,True)"
      ],
      "metadata": {
        "id": "ck479_CYjy9Y",
        "colab": {
          "base_uri": "https://localhost:8080/"
        },
        "outputId": "8d244609-81c8-4c3d-9eb9-d28f2aefd5af"
      },
      "execution_count": 29,
      "outputs": [
        {
          "output_type": "stream",
          "name": "stdout",
          "text": [
            "Camino mas corto desde la fuente\n",
            "Desde el nodo: 0 ----> 0\n",
            "Desde el nodo: 1 ----> 14\n",
            "Desde el nodo: 2 ----> 106\n",
            "Desde el nodo: 3 ----> 24\n",
            "Desde el nodo: 4 ----> 96\n"
          ]
        }
      ]
    },
    {
      "cell_type": "markdown",
      "source": [
        "**Dijsktra**"
      ],
      "metadata": {
        "id": "M31O61Aij__E"
      }
    },
    {
      "cell_type": "code",
      "source": [
        "import sys\n",
        "\n",
        "def listT_to_matrix(graph, V):\n",
        "    edges = len(graph)\n",
        "    newGraph = [[0 for i in range(V)] for j in range(V)]\n",
        "\n",
        "    for node in range(edges):\n",
        "        for (x, y, peso) in graph:\n",
        "            newGraph[x][y] = peso\n",
        "\n",
        "    return newGraph\n",
        "\n",
        "\n",
        "def minDistance(V, dist, visited,verbose=False):\n",
        "    min = sys.maxsize\n",
        "    min_index = 0\n",
        "    \n",
        "    if(verbose==True):\n",
        "      print(\"Se recorren los nodos en busca de la distancia minima\")\n",
        "    for u in range(V):\n",
        "        if dist[u] < min and visited[u] == False:\n",
        "            min = dist[u]\n",
        "            min_index = u\n",
        "    \n",
        "    return min_index\n",
        "\n",
        "def Dijkstra(graph, V ,s,verbose=False,experimento=False):\n",
        "    if(verbose==True):\n",
        "      print(\"Se reciben los siguientes datos:\")\n",
        "      print(\"Grafo:\",graph)\n",
        "      print(\"Cantidad de vertices:\",V)\n",
        "      print(\"Nodo fuente:\",s)\n",
        "      print(\"-------------------------------------------------\")\n",
        "      print(\"Se crea el arreglo que guardara la distancia\")\n",
        "      print(\"Se crea un arreglo para marcar los nodos como visitados\")\n",
        "      print(\"-------------------------------------------------\")\n",
        "    dist = [sys.maxsize] * V\n",
        "    dist[s] = 0\n",
        "    sptSet = [False] * V\n",
        "\n",
        "    if(verbose==True):\n",
        "      print(\"Se recorre los nodos del grafo\")\n",
        " \n",
        "    for cout in range(V):\n",
        "        \n",
        "        if(verbose==True):\n",
        "          print(\"Se busca la distancia minima\")\n",
        "        x = minDistance(V, dist, sptSet,verbose)\n",
        " \n",
        "        sptSet[x] = True\n",
        "        if(verbose==True):\n",
        "          print(\"Se marca el nodo como visitado\")\n",
        "          print(\"-------------------------------------------------\")\n",
        "\n",
        "        for y in range(V):\n",
        "            if(verbose==True):\n",
        "              print(\"Se comprueba el camino mas corto hacia el nodo v\")\n",
        "              print(\"comparacion entre la distancia \",dist[y],\"y la distancia\",dist[x]+graph[x][y])\n",
        "            if graph[x][y] > 0 and sptSet[y] == False and dist[y] > dist[x] + graph[x][y]:\n",
        "              dist[y] = dist[x] + graph[x][y]\n",
        "              if(verbose==True):\n",
        "                print(\"se actualiza la distancia\")\n",
        "    if(verbose==True):\n",
        "      print(\"-------------------------------------------------\")\n",
        "    if(experimento==True):\n",
        "      print(\"Camino mas corto desde la fuente\")\n",
        "      for i in range(V):\n",
        "        print(\"Desde el nodo:\",i,\"---->\",dist[i])  \n",
        "\n",
        "g,a=DijkstraInstance_generator(5)\n",
        "g2=listT_to_matrix(g, 5)\n",
        "Dijkstra(g2,len(g2), 0,False,True)"
      ],
      "metadata": {
        "colab": {
          "base_uri": "https://localhost:8080/"
        },
        "id": "KbvZ9BCzRA0W",
        "outputId": "ece05dee-a0f9-4fd5-ce2e-724cc822d5db"
      },
      "execution_count": 27,
      "outputs": [
        {
          "output_type": "stream",
          "name": "stdout",
          "text": [
            "Camino mas corto desde la fuente\n",
            "Desde el nodo: 0 ----> 0\n",
            "Desde el nodo: 1 ----> 51\n",
            "Desde el nodo: 2 ----> 111\n",
            "Desde el nodo: 3 ----> 38\n",
            "Desde el nodo: 4 ----> 13\n"
          ]
        }
      ]
    },
    {
      "cell_type": "markdown",
      "source": [
        "##2.1.Descripción de los algoritmos"
      ],
      "metadata": {
        "id": "ZvJXjwXXkMov"
      }
    },
    {
      "cell_type": "markdown",
      "source": [
        "###2.1.1.Subestructura optima y función de recurrencia"
      ],
      "metadata": {
        "id": "GhVJ0DwOkljl"
      }
    },
    {
      "cell_type": "markdown",
      "source": [
        "Antes de empezar a describir ambos códigos se debe explicar la subestructura optima que utilizan ambos y la función de recurrencia que se genera por esta"
      ],
      "metadata": {
        "id": "O7ZUW4VLnOAd"
      }
    },
    {
      "cell_type": "markdown",
      "source": [
        "**Subestructura optima**"
      ],
      "metadata": {
        "id": "qNtcCGo_ouRN"
      }
    },
    {
      "cell_type": "markdown",
      "source": [
        "Vamos a definir la cantidad de arcos de la ruta optima **P** para llegar a **s** hasta **v** como **i** **(s es el nodo fuente y v es el último nodo que se llega)**. La ruta más corta **P** se puede obtener calculando otras rutas **P’** entre **s** y un nodo intermedio **w**, limitado a **i-1** arcos. Luego se sumaría la distancia entre **w y V** "
      ],
      "metadata": {
        "id": "2mZCPzGaozgm"
      }
    },
    {
      "cell_type": "markdown",
      "source": [
        "![image.png](data:image/png;base64,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)"
      ],
      "metadata": {
        "id": "GIlkmz4xlFg4"
      }
    },
    {
      "cell_type": "markdown",
      "source": [
        "Si no se conoce la cantidad de arcos se aplica el siguiente lema:"
      ],
      "metadata": {
        "id": "5WmiPnnslH0p"
      }
    },
    {
      "cell_type": "markdown",
      "source": [
        "Se considera **G = (V,E)** un grafo dirigido con arcos con largos asignados y un nodo fuente **s ∈ V**. Suponiendo que **i >= 1** y **v ∈ V** y también que **P** sea la ruta más corta desde **s hasta v** en **G** con i arcos o menos. Por lo tanto se tendrán una de las dos opciones"
      ],
      "metadata": {
        "id": "ZbQuY8mklhPt"
      }
    },
    {
      "cell_type": "markdown",
      "source": [
        "**P** es la ruta más corta con **i-1** arcos o menos"
      ],
      "metadata": {
        "id": "_NyM3RIKnAcd"
      }
    },
    {
      "cell_type": "markdown",
      "source": [
        "**P** es para algún valor **w ∈ V**,la ruta más corta desde **s** hasta **w** con **i-1** arcos o menos, más la adición del arco **(w,v) ∈ E**."
      ],
      "metadata": {
        "id": "umnQt_MtnMtE"
      }
    },
    {
      "cell_type": "markdown",
      "source": [
        "**Función de recurrencia**"
      ],
      "metadata": {
        "id": "ungo3z1EnsW6"
      }
    },
    {
      "cell_type": "markdown",
      "source": [
        "Una vez establecida la subestructura optima del algoritmo, se puede explicar la función de recurrencia de estos algoritmos"
      ],
      "metadata": {
        "id": "IkiDLI48nweo"
      }
    },
    {
      "cell_type": "markdown",
      "source": [
        "Sea **$L_{i,v}$** el largo mínimo de un camino **s** hasta **v** con hasta **i-1** arcos. Luego para cada **i>=1** y **v ∈ V** se tendrá:"
      ],
      "metadata": {
        "id": "veLwqIQ2oZ_y"
      }
    },
    {
      "cell_type": "markdown",
      "source": [
        "![Captura de pantalla 2022-11-09 153135.png](data:image/png;base64,iVBORw0KGgoAAAANSUhEUgAAAZMAAABFCAYAAACPDAvnAAAAAXNSR0IArs4c6QAAAARnQU1BAACxjwv8YQUAAAAJcEhZcwAADsMAAA7DAcdvqGQAACHESURBVHhe7Z0PUFNnvve/93WHrJ0Nw9ywdgzX+wbtADqL0JHiTgouLVpWrFy4UqFuCbYV6wqlFewW7B/h+gr2FqgitiJWMd6yYtG0sKK0sjIFc1eKU/44EjJqsqvEqSbbDtnFJiNz3uecnECAAAkJSOD5zBxOzpOTnHDO8zy/5/n9e/6FIYBCoVAoFBf4P/yeQqFQKJRJQ4UJhUKhUFyGChMKhUKhuAwVJhQKhUJxGSpMPBmzEUYz/5pCoVDcgNlohHmAP3ACKkw8kQEj1HX5kK2JxcErRr6QQqE4RH8HDmcfRdcsGogZlSUoqu/lj1zBhJ7TaVi9disqr+r5MsegrsGexkAvat9NRoEyBDuPFSNxiYB/g+IohqZC7DjeAYNWBcMDQCgJwsL55I2VWTi6PRxeltMosxGu/ZQAmcWIW8iXeRhmIgS9RlVSE7rKU1HzRAXyo4V82eTRNeYjK7cewu0ncGhzkGNtghUmFA/h4R3my6xwZuVT8czx63wZZZLcZ758I4TcywLmsokvosx6NNUpzJbqW/yRh/HDLebCR0nMjtr7fMEITO3MgRdymEs/8Mcu0lubzkQ+Fc6kyLv5kvGhai4PwtBQiKJmEyTbC7F5KV9ImRwDt6BVkr00CIF0KjI36G9BzaFfIvE5f77AM1B/kY2srcnIKSpGeZWKL7WDVwgSk3pRemacc5xAvD4PO6UmqA/molLNF44DFSaewoAKdeUtMCMaL8cH8YWUSXOzE01kJw5dCpGlhDLLMTYrUBObgGd8+AIPISC+GCVHTmFfZjQkfNlYiMPXQSRXoM0t9iBf/PbFJHhBg2O1raTvGR8qTDyFmy2ovUv2KyIQ7GGNYSZiuNEOHdlLAzxrlEqZLHpcOt8IabCD+n9PZVEInvapRlObiS9wDa8nIxFH9ubTjRMKKCpMPIX+Pq7zQ6AfxFwBxRU06hbylwjmQOrAMCcwq6BW+mH5E758wQj6NWg4mIHkjcmQpbJbNqq6hzpk800Fit6UIY1976UEJGeXoOHmiA6bfEftB1v5zycjI68QOXsUMPBvcxhaUfkH9jssW87BFugm4YY7Nv4IkAJKtYY/dhEvIS98e6H/kXsxJlSYeBrzaOfnOipcu0R2C0Ph74iOS30Uyb8pQxd/6CxGdTUqG51zs6S4GcN9aElH+6/2ZvX9HSjdnIDjSIP89CnIT+RCqm1E6bYK/pmTWc3RfNQovZFYQt7/HwXkm4DyV7It2gIe9R8z0BS4m3ye/Y5TKEvxg8FWktxVIOs/C9G36QT5DvacYkhvEgFWxKqv3YUAvo/7QXejF9MdNECFCWXuYdCgk+0EnlmOAEvJ+PgEIW7nagTyh45iUJYg681c7N1XiM5+vpDyaPhegzYshv8C/tgG9ek8VGmTkPlaCD8KD8LTsnCEySL5Z+6LmB1EOBzJxTP84MNrRTSiHrSgssFq7NZD1dULr/ne/DFhSSwSQ63HJrR9tg/KZTJSxg8I5/nhtxuTYD5zDko39vwikT/wjz43CijHoMLEQzDcvsW/oriKuacdnCNXwGJLwQgMykZobVvigghsWu+8rl0kzULJ/kL87km+gDIDUUGp0AArgiAZfMACBL96BGWvWoULYUEQwsR6XCjPRQarwso+xNUhndGq6hJC/G8CNBWkYff+ajS0a2AwEyG0Odri4DHQAeVpcq7hPMrfzcVuftt7RoOApT8nlZL7EvehMQxXr00DVJhQ5hxazl4ylv5cg0tf6e0EhVFmJyb0sbNUMlkYT4Gsq8/GmufzoF6WgZJjZJZSnA4p/54FAcJ2nEV+rBeUVYXYvTUB69Yko1TJqzcNvdCy+8h05P+/wqGt+AjkJ3Yjaha4FFJhQplj6KFqZ9NORONXSywlw+huhDI4wuLkMNCLpvIS7M7OQA3XE0wR/R2o3JOPnFfy0cQaOc2tKH0uAVU3LW9TphIBvNlI+B/MY9sY7ilQlNcI4WuF2BnpB695fLmVAZMll9U8P8S8LcfX/3sFX/9JgZJNXqjJPYQm9otFiyFhsyzcvDU9MwZ/0bS7vFNhQplbcF49ZB+5FP6jOoVe1JZ/A2m4H3dobG6EKSELiZJvobw+dQZ07XkVpLu2QCqoh+oOKSCdkmSZBnqads19+PghALeguccfDxIEaRx53t2t6BnhraSrK0MT2/PrNJxKKyrUJr6LCJBBug7hcJcetdkl6OKEigDCBf6QvpaPTIkCneygYB65znoy91Gq0DNCpaX+NB8NbpQwBoMG+IX3tLtAU2FCmVtcb0Ut2YmD/YeP3Iwq1BZkoKBvHaSL+CKfEEhFKly9GAhp8JBKzPyjEcbxNqf03+T8JeEIMLSi6XoSnmYzGxBh8nS0DJLHLWdQ3IDYD8uhwd/tuLcGvFiATZJG7N2jGHLTNbai5vpSrGAriSQEMWRW0dQ8FLinq5Ojhn9tNBjh9TPyYqAax+tski3290LdHY1ALtJQgLDtR8h1qlFa3gqj9Tp3FajpXzto2HcdE/Tf90L8hB9cz9DlHDTRo4dgqMvAuj0tQMoJ/OX1EL6U4ijG5kKkH+0gN1ID9T0TvBYEQTLYgE24263h1BzBb59DxQbLzISj+yj+s1yEiv0JvPAxQnulG+PNUwT/HoLghUMa+K6DoTguuYiS9WPEOBCMjblY07YO37wdwY0o1WeqgQ1JjnmbURyAzBzeXI2m58hziLXzHNjBxMcFKG82QiQSwjc4AZnbEyB5zPI2G2dS+sEhXPrRF2IfXwSuz8YmkQI5ec3wfi4Du3aEoK1ADkGUNy6d/AY6ExE7A374bU4eNv3Kplvnr1N11QwvH2+IA5KQuSMa4pGzZBsMjfnYIe8GHhDhpCW1dL4vAiTs/xCLt07IEGw5jUeFyv9IRV/+FWSG8kUu0YHS8FRUIQK7/lSGODvecINwGbooMx59bTqz8qkQZmVpO19CmQ46S8MtifX+1s509vGFTtJZGjJ2cj4e7pxz/DkPu5nPPnMsuR7FcXprUpiV+5qZWZ3X82+nmC2rCphv3fZPtjMH2H7nqXTmy+/5ojGgai4KZUw6cLkmBFFhvlC3qiDgR6muY0JX5VZkjEjaJ/axjGDNVzogWk3zr7kbcXQqYuoVZHbBF8xCdK3nYJAlIOwReCNSYUKhjMliLI/9CU3l+VAuiUfAOKoIexjbq3G4vBDldYDy4C4UlZeh6Tb7jhmG2x3o/KIV1mSswYmFMFbmofTjEhwzRyBmPHUCZXL4ROPl9Puo+cpNqUZmGuYO1FT7IXPDoxmIUJuJh0BtJrOPrjoFROsTaK616WQWLI5lH8viWA3BJ7BTOl7EjLM4bjNxfmbSLeeSnSU/F4pfh4di1fOWpGayPygsiQjnImREUPnSSqx6SW4JTKJQJqK/FT3zwqkgmW7m+SHuPRl0RbNt2d5DaFhU7GZB4hzOC5OlMlScOIV31rMHQcgssyQ1k//3HB5hmfTQ3TZxy2lSKI6gvWqENMbGa4wyfTwWgm3FWxA8i7IcCKVZ2Bk7FfXJD5Lhof5jMkmbSS8018lufjgCeZ/8OY0wGru+bsY3f5RNuHgNhcIiiRzfHZRCmVmwrs78yzGYnDAxqnD1KtlHhkBCG4QFNu//FN4L4wNLZEPYorFjFSgUCsW9COD9C3bfCu0EdozJCZO/doNdDiJg+eJpj7Kcm+jRqWTdSJcjagVVjUzIvVZU5bGLFG1FVlXHtKfipoyHCrW5GUgjz2Z3+XmoH0XKmP4OHM6ebTaTEhTV20Tfuw0hVpBZNEtT1/hry09KmOhudJIGKoB02WxY8rQDVanJWPcb1qGgBG3sSmikI8pITcCa36xG1kkVjGzUahHbAJKR/PxqpH3QaLM62vDPWxdQYqNWZRsjOSeFrDoNtHWFyPm9DLLnV2LNKyVQOpOL53Yj6pRk8vNcKmI8TK1oaMjGmvBIFDRPU6+hrUba86+jbVkWDh07gpJNNmnEB1Ghamvy4PP5NXnO1tX1ajnX3TmOsQVF7P0gdfXXLiwKZp8gxBWWoaJiN2KMRyB7lXz/dHbqrDfXHjnEOz3LZmK8JkfOVtJ/kDq7ZmM2Kq8Oz8EglKYj5nY2dje6v50Jn5Fh00LS7ytaoB5P1cWFLjpFH3PpHTYiMoe55EhE8MNu5vgL4cwnXfyxy9xhLn2Uw7z/jhObYuJoYk11Evmf4pmUvWeZ3oeWsr4LWaQsnIn8XTHzrfV/vXGCSXkqhHn/4vB/vleRRs4tZjr5Yw5TM/MhOTfhhTTmk+9+spSx9yMuhIl0OJKdvd/hzMpV6cyFCSJQZyIaeTx3D/c6VFlcx5IpoIC57EgE8HfF5NwQJqX6Fl8wy+Dr8WQw/dDNfL6NtPN3LpIaOEXozjLp5P4f+I4/ngY01SnMFg973qaug0zKO/WMnn+evYp0JpK0qR21dywFVkztzIEXSL/8A3/sRkykrSSRZzXevZuEMGlnPllFKtk20unyJeNzn7ksP8v0/JM/nKFYOqEk5nMNX8DCdzZvX7BtTpb0AiPTY1g+P0KYWFMRDEvhcJ/58g1S9sZZRs+XjM1PpPKTikMEyec3eGHkgZj6pu+3238O9rEMAMKntTObTth7MelBHD8QSleM6LDcyfdnmR3kGtN2//9J/qdVWcyFKehsp447zOcvxzLHr/OHHLeYz2WkD7GTNoVNGZNwdGpS8fSey2JWkwH3AevAeATOq7m0KigfAF6hi+26ApvVjWgbpsLxhTQlAQFuS0UxlYTzGT6HI37cNcuQdJnzq/RhQA/l/lSk1S7GvrNlSFzy6PzHXcVLOBN/uxHqtlayfxbL7a1rMkswP+RfOAvbzuGHsGWzx0ZnbFagJjYBz9hbB36mYuiE8lo0fjUs46c/AsPI7sEXaLOmUOARh6+DSK5A2xSoDsWxxTh7LAHqPySjoE4zyhbptDAx3mznUkA884S9JU9NaKslDZRa5V1HW4/DCmDDzjRI3ZaemjLELaiayW5pKCS0vo5Cd70VOkQgYNb4uutx6XwjpMGTGNg9SgZ+In/kyMqwFxRuGj1YWBSCp32q0dRms96KGxEuTUDma4tx+WTzqN/jtDDRXv8z+RuOFcvstMAf/4wGRGM5/7R0TWUozctA1pkxcuFMaoW5XjTtH1pD2aHti/G9EGYkS2SQn83APwpWQ7a/BYYJfLyngq6TvBE2PBSlV/Vo+zQXGb9nsx+sxLpsOdRGMrqvK0QWZ8xejXVbC9HELoHKM9wJwbp8aSMKWOcG1vD9pgLamwoU/WEr0l5ajVXPyYaWOZ1q7t7CNXaGLQ2isUGj4GdtkaEI9Kiedxy4RdHGWqqZ0K9Bw8EMJG9kHTEszhhV3UMdMpuCvuhNGeeEI3spAcnZJWi4OaLDJt9R+wHrRWj5joy8QuTsUQxfWZF18CEje9lLli3nYIuNM48dfBZzAt1sMNrMBDToaWP3EZCMUg/5I0AKKNVTkH+sX4XK369GelsEKuzF1PHqLgex6uoO2tFJ/8R8+1E88+FfeH1a30XmMzal9nfFTGRWvV37gKbmFNPz8A7z5TbeQM++fmN6DXJW7OraeZvJ8N/jvM1k+LnO2EwIurPMjlUhTNJ/XXTsfHejOcU5HCT9Lo/5UseX/VDPvE3KIlclMQfaeHvSw1vMZ2zdGGmwfXjFzj34ibm8j5wbF8+kH24ftCf1HI0ldYvcQxcMxz3H2e+wVz+H03cxh3u2Ix0p7GNxghhMEe8sD+8zl0tPOWTHcSdsnZxUW3pI6i2pc1PumKCv52wmH16eBpsaZ+wfI436P8n/+wKp46XWusjbhQfr0X3mQg45Jp+/wDdCU1sxk7CKfJ+1TRDY+rvD1sZ04wSzxbadc23ZxubA93eRE6XFf/gTY7JtE9crmAS2/Y3xOa4NuNtxgr9HbL9ldVAaiXMzk3vtUHaTfeTS4VJpgIxay9OQpQhH1JO8fvxHXwRLfaG+2ohA6XI76xF79gpzWsM0jaAXJiD//bXQ1e3C3vppuqYtj3mBHct5xcmGEuP5iDl7mVmaipdX8DPUef4IZvW4/+gbrkudZ89eIoCQtaHdDceml4dcd0UL/IEHt6Bxxm3aBuO1o/jweB+i3k4YsWDQaLQ3xplhj8ILYmk6Ep90NmBUhdrsrcjZnYeik1MRAzBF3Fah7YEAYQFT7PovehbbXl+O2v370DDVLtnfa9CGxfC3k6hQfToPVdokZL5mrYtBeFoWjjBZJAK5Y1/E7DiFsiO5gysieq2IRtSDFlQ2WLUeeqi6euE135s/JiyJRWKo9diEts/2QblMRsr4NkH6u99uTIL5zDkox/PoJW1oMCCadW0+WgGdRIZDr1sWUhuJSESe28h26BLktx/ZRe7Rcux8M2HMzA2OCZOb1chgp24ZJdxayGgtQzo/lWO3dc+uRsanncD6IRUXq7sLFqqgrPXH+kh7RjwhgkP9YexqhTI2HIH8DzSY/RA0rdk8LXEi6WS6CVQjh0w9Cxo70FRA/rd3q7kzat4lrwsa0cWqbV7K5pbr1FXlkv9dji47n6+6xqt4+HOVB9Ms516Tk30aDrI3UVnC3UP23IkQRqXilYUmKD+omBLDmiPY7VjEYtfMY9Ig96hR1ApkbAzFmrfaEVNxEfsmzFGkQY/SBMxfDn97dc2sQtMVW8EtQECsDFKn62UQ4oqPYF9m9JSq0sykXtlT7+6t6YCyfHT57nfLxo1zMlxvhnpaHBPIfU2R49R24LMN5PmlPopAQtJHKTTAiiBIBuuiAMGvHkHZqzYxSguCECbW4wK5n2xfmJF9iOsLdUarqksI8b8JSL+Rht37q9HQriF9GRFCm6MtA+kB8ixOk3MN51Fu8yz2ntEgYOnPyUPkvmRCdPWFKLodj5JPshA8nlMTGZFNckw2GvVJFFWRwVD0i4gZryLzM5SpgVVxcdO8O0znd/YnXXSFOcf49iN2mj1NKgFb7LpvWtR3I1d9ZJ/laPWdPVWf/XMtqsKJV3Qbi76/FDNJq5KGYnrGou8i8z77+8dQBZguFwypa90Bdw8dc1d2J5NTc/EqSIdd/12jl/xG1vX9S80U12tOZW3vGfB1eVS9HY7VLfbDb+7wKic7beDhHebCvhRyHilnN1YNfJmv93w7cmWlVC7W44UC5vJ4P5TAtaO4CqaHP3YVTm1GfvtEKmHnXYOdoOtKNZZHhUPU3YKex9gxLF1hbrL4L4ng9rUTpDSYywhXZuGdRA0qd58cXHTKLjc7uHRAYWFBdmZWRlyqx6C61txdjdIPcpG1v4W8M3XoGktQ9O5WpJ3kn++ACpUbC6EkI1Zjcz7WvFI9TUs8aKAmQ27xyqUWVWa/pZQ1vlaR+zDoLENg161PO8Oq7zSoeikSRVfIyNsZpxpjI8r3tEC6qxBxkkflPi6ANzvj/ME89vO9p0BRXiOErxViZ6Tf6Bx8AyaYWSP6PD/EvC3H1/97BV//SYGSTV6oyT2EJvaLRYshmU/2N29NbsZwV4GcIiO2Hcgd9O40q8/zi63ZwV9kx7QwGfRQtbPPWICFE4RITKkwkQTHw9RchoIrZLrP+UnTFeZchaa5Hx+x5CnS8PrIsGVstOpWUhMF+NUTo9Vh5qsVOO5jVddqUNsWhG0vhwOK9qlbq4Z0uE0/JmBnYhB6WPUIW3azBbXzF0NMfodgURCCb953n9piPO52o+0uIGXVmqQT3XvaItx0X7VA8no2pN71UN1hS4y4euk8AheydiRf0ta9oTMYoT2vIsJhC6QC/jzSwUqWaaC311M/6OM6cFfjuBzCxw8BuAXNPf54kCBI40g96G5Fz4jlfHV1ZWhib7pOw6m0okJtBrpEgAzSdQiHu/SozS5BFydUBBAu8If0tXxkShToZAXpPHKd9URgKlXoGdGG1Z/mo2G8h8sOLN5qRNSHuxFlo2rVKi+i72f8gQ0Ggwb4hbdde8rkeQriCfrmKRUmQmkuKooLsWuzVfcoRNR7V3AoRQguESXLwrXIP1KIzO1Z2BY1ewKk5izu1NVOCdakmc8i6P9aSqwYrpQhPasaYZF8fTX2IZC8Nn3Xgrb14bwxlvT9RiOMP46zWUfzjvK9AMHR/sOcVQw32qF70p+ztXhJohG1acn0rBdkNJAZUDgC/AXQNjXCfyXbgRphIL9Bav4Wyu/iEcYNDNk4Hct5bLuWxqxFwL8LZq5TjdgPy8ng4O921n8PeLEAmySN2LtHMeSma2xFzfWlWME+DEkIYsisoqmZHYRY0NXJOXsoi5EIUS+2Ux+oxvE6G0eL/l6ou6P5QGgBwrYfIdchM93yVhit1yEzjpr+tYOG/dGY0PVxLg7f60VNzpCdWpaagPSPfeE76nMm6L/vhZgMlNwjovX4u4NexlMqTOxCV5jzGLg4E97pwp4TAmqySaXOR9M1NnYkGTls4d0TeJ93LBjlhEA+b+DiTPhzB50QbJ0YWnAwg1zrZAd57U40qHmdbYS8AwS5zmH2OuS63Pb8Sqx7/Si6ED/kkSgMQbDECGVTCxJXh/MDItJY/9qNnp5xtrtOKsRYZxUf1llFiBg+K7RG3UJmB9bAYD3Mvv5uUltMQEA8MuP7UP5GMvb+kIZNrEAg3RLnLHP1GzTFRlpmbWycDumerQ4MRsMviXCeKU41dvAKQoC0F5037HhEPhaCzE9PYecCBdL+I4HUBxmyynsR93q0pUMmM9V3ju2G9PouJGxMRtrWDFTNy8ap/TIE1OUh97sIxLH3SZSEGNF5S0JGtk5tVUByLA8x1oh7/jqb+suQ9iL7/lbkfOaNzdutdcsO9+px/CTpzX/UEMGkstk0MC61zFyHw6opBcNnUS5hQp9N7Ni48LaTaUPzzcUx/ZQpY2MxTrtmwJsLWO6TG43drOGUi33pYzq/m2SeKkcM8Nx1huIavnwjljlutaBqzjJfDsvN5Bj6iwXM5zf4AzcwzFmGNWgPOjD8xFxW1A86MzjsVMMbpacrrozNWzU8T94s5G+nmC12cnZNHt7RwAHHmGmfmdAV5iiehKGtEcqECAQbW9FlsIkhcJV757E7tXDQmI15Pycj4J+DmxPx0dr/yg2LTehqNiNoWG4mxxBF5yLRne69XgIIBZZZG2t3gq/QMnK/92eohRHD1Coz0alGHJ2KmHoFLtlRdc0WdK3nYJAlIGzMqc7UMf1qLsqMQ0emzU4qZhxGpybfPV66CHfDDVTuw+Cmf0i0LBLB16tRcNSMqCjb7tIRetFUXobS0mq0oRofvluCw2c6LPfaeB892i+gvMr/UDaAL7Ebxz4oQ9EHKgTvCUJdUT4O76+ALjIeATNgABYcVwBhQwFK9+ejxisDO/Vl2L2f/H8NImyIHro3DjvV9JuhJ+KTszdMBz7ReDn9Pmq+moJUIzMBcwdqqv2QueHRCO9/Yacn/GvKDMZQl4F1e1qAlBP4y+shfKnrmNuPomogBZtX8HYCd0NG4AUKMXYORhc7h6GpEDuONpKRsBHCAH+IrJ3qgJ6U6RH23kWUrLeJTCfXy3ohF7rEI6jYHg7hTJ4FG86jVrsWcSv447mEUYWavFQU3U6D/I9bpk9YshHkRKgjs3goo8OsgMxgy1PREHwCO6XubMsdKA1PRRUisOtPZYgbx6OLzkzmMv0tKK3xw4apEiQsC9Zis68cx66N56w7NqKoXMhz4smrZ/HWJ6cgP8Fv/3MR5/ZEQywaMVsg1ys5ewKbvBTIfUWGrJMzd9lenbIP4onyvsw6iBB5UwZZRgW00oM4N52ChGWeH+Lek0FXNNuW7T2EhkXFbhYkzkGFyRxGd14OrH/WTS6EYyOOXg3tZ3+2r0obMELb3oq2K9ZNM+o8bploO6nihY/7wesxO41HFIK41wpRdkKOkpTJzYimHGMr1IviH4lu+9EShMT9cjIgIB3fhvChmeZ08lgIthV71rK9EyGUZmHnhGmEphYqTOYsvVCe84fU6gY7lfg8hWfM50blg2LXtS74qB5G0VIEBvLbspH5vkzQ9rQCfMwFS1dDIx/LQso81cdcGI4oa8I/CmUWQIXJXMWoQpfANrkdYO6WoygvG2l7GvnZgRFN78pQw6ZsuCmH7LlCu4kmWbtLwZ6hz5mvlmDNRrlNxLgv/IM16LENIVfLcVATjV07kxC8SAihD7+NWpXRkt5jMOaivwUNd3wtMRehCePqcCkUyvRBhclc5a4GXSJvm1lALy5cWYzM7REQXuy2CAJjKy59tRRiNnpZtBjL5/fa8ZLSoPZmBHZtiYCA/5yX2B/BWv0wdRWbFlurswaMmaBUCrB5vQPTcoMGnXcF0H9VjN25MqyLyoBRYm+VTwqF8iihwsRDEIrcrA/t74Pucd8hYWLUwz8qYnjqkL9245I1NbdPBGJigyAeGYbNphwh57DxGJ2JkZZ1RBZGImrT8Ihtr8eEaNNZU02ooDb5Q2gvFcmPIwz12m4oEY9t/12I/EI55O+RmcwS/lebJ2fUp1Ao7ocKEw/BrqHZnfCpQ642NyJOajFas4ZvhC7mU98YYfAdsSgaC/+5ristiCNCxYIe5kWWrLNWhKJfDk9SSWYco9KQsBuZ0diepu5qHLbuideiWEjZH8EmvxuRfZpCoTw6qDCh2HALnV9FIDjQIrgMt1vxzBO8Ssncgb5fhI/h+TX8c2wGVvOy4YFThtu3ELbIGg+yGBKJNwJXhiNs5BbqZ+N9pYemqxfi0KWDsxxhaIglNfqVemCl++JtKBSKa1Bh4ml8P9wWMWke90eYnbUVvOYLIeB6czJzaANEfFoMw0UVvFfyomRkKhAOPwi5t01Qdv0SMVyCwCFMA2aIhNZ0JEJIl93HmfYJ1FQDt9DTzKdDt8XQgtJKb0hHXINCoUwdggncuKkw8RSWhCCG3Td3QOuO9CQLFiPgeu+IBZdCEPe+Ny4Ul6B0zyl4bcmFoTyXS4vR8HgSoqzZT0emAiGfS8zrw/H/KuHSf5gj147KcKvT9sJ/0dC8xitUhud0JSiqU8Fgx0NMV8dmJN7FZRxu2J86lN03NQFr1magh015bjmVQqFMFVoVyJgSWBqJwJGNegQ0nYrHYEJb0SpknAYSD36DnStdtaGw35cGbaIciaMMIQ7gVCoQFSpfaYG0wk608z0VGpovQmN19PpZKOJejaBLFFAoMwDtaRmSizoR/PY5VGwY3wmIzkw8BgHCZHmQzjehpvwLN8xOyPetW0VmFzaL+TiBU6lAulvQuY7MJOxNkxcEIWZDBra9xm9UkFAoM4O7CpQe6gQkGXgrfmJvUipMPIkFa7HvgAySa4XI+dhmtbbJsjQFiRo5lM6uDOhUKhAjmhqAlx2JKaFQKDODfhUqd++DUhCN/AOO5U+jai4PxHyzGu//vhBXV+Ti0K4kBNh3sXIMUmmqzvQhMWWc1d5cwNBwFG3LtyBmVmVopVBmMfdaUJrFrpCaRAavWZBOYCuxQoWJpzKgR1tlIb6S5GJXtE0KdgqFQpk0RiiL8tAWnIaXVwc5tYQDFSYUCoVCcRlqM6FQKBSKy1BhQqFQKBSXocKEQqFQKC5DhQmFQqFQXIYKEwqFQqG4CPD/AeURXX24m0pwAAAAAElFTkSuQmCC)"
      ],
      "metadata": {
        "id": "Yyus7pnbqHoS"
      }
    },
    {
      "cell_type": "markdown",
      "source": [
        "Los subproblemas de base serian, para todo **v ∈ V**:\n"
      ],
      "metadata": {
        "id": "irTW_Z6Xq44N"
      }
    },
    {
      "cell_type": "markdown",
      "source": [
        "![image.png](data:image/png;base64,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)"
      ],
      "metadata": {
        "id": "wtaCCSnprGVg"
      }
    },
    {
      "cell_type": "markdown",
      "source": [
        "###2.1.2.Algoritmo Bellman-Ford"
      ],
      "metadata": {
        "id": "MjnUWg4Dkwon"
      }
    },
    {
      "cell_type": "markdown",
      "source": [
        "Este algoritmo utiliza programación dinámica de forma bottom up para realizar su procedimiento, encontrar el camino más corto"
      ],
      "metadata": {
        "id": "uCv_fEQznNjn"
      }
    },
    {
      "cell_type": "markdown",
      "source": [
        "Como entrada este algoritmo va a tener el nodo fuente **s** y el grafo **graph** y la cantidad de nodos y arcos **(V y E)**"
      ],
      "metadata": {
        "id": "AiG7buFQt4wD"
      }
    },
    {
      "cell_type": "markdown",
      "source": [
        "Primero este algoritmo crea un arreglo llamado **dist** donde se van a guardar las distintas distancias entre nodos y se inician todas las distancias en infinito y la fuente en 0"
      ],
      "metadata": {
        "id": "Y57Ppqzftp-1"
      }
    },
    {
      "cell_type": "markdown",
      "source": [
        "Después se relajan los arcos **V-1** veces (**V** siendo la cantidad total de nodos),mientras se va haciendo eso en un ciclo iterativo, se van actualizando los valores de **dist** dependiendo de los caminos con menor peso encontrados"
      ],
      "metadata": {
        "id": "SqQBS3oQwR89"
      }
    },
    {
      "cell_type": "markdown",
      "source": [
        "Por último se comprueba que no haya un ciclo negativo, esto ocurre cuando la distancia actual termina con un valor negativo, cuando esto ocurre se envía un mensaje de que existe un ciclo negativo"
      ],
      "metadata": {
        "id": "WRcN_nir3Kpw"
      }
    },
    {
      "cell_type": "markdown",
      "source": [
        "Como salida vamos a tener la distancia más corta del nodo fuente o un mensaje indicando que existe un ciclo negativo"
      ],
      "metadata": {
        "id": "_dvMVyNXmTSE"
      }
    },
    {
      "cell_type": "markdown",
      "source": [
        "###2.1.3.Algoritmo Dijsktra"
      ],
      "metadata": {
        "id": "BIjmz9M0k6Br"
      }
    },
    {
      "cell_type": "markdown",
      "source": [
        "Este algoritmo funciona similar al algoritmo Bellman-Ford, recibe la misma entrada, el grafo **graph** y un nodo fuente **s**"
      ],
      "metadata": {
        "id": "VXOX86K1nNDA"
      }
    },
    {
      "cell_type": "markdown",
      "source": [
        "Primero crea dos arreglos **dist** para guardar las distancias calculadas de cada nodo y **sptSet** coloca todos los nodos como no visitados **False**"
      ],
      "metadata": {
        "id": "yWYfH3VUnnw2"
      }
    },
    {
      "cell_type": "markdown",
      "source": [
        "En cada iteración del primer for se busca la distancia mínima de todos los nodos que no se procesaron aun con la función minDistance, esta función se encarga de agregar un nodo a la distancia minima actual encontrada, esta función busca entre los nodos adyacentes al que estamos y vemos cuál de ellos da un menor valor para la distancia mínima"
      ],
      "metadata": {
        "id": "QYYHgJY8uJvQ"
      }
    },
    {
      "cell_type": "markdown",
      "source": [
        "Una vez encontrada esa distancia mínima se marca true en ese nodo y se actualizan todas las distancias alrededor para ir guardando las distancias calculadas y ver si en futuro alguna nos puede dar un mejor resultado  "
      ],
      "metadata": {
        "id": "SNlcQakDwawB"
      }
    },
    {
      "cell_type": "markdown",
      "source": [
        "Al terminar de iterar este algoritmo retorna la distancia mínima encontrada del nodo fuente, notar que este algoritmo no funcionara si se encuentra un ciclo negativo en el grafo."
      ],
      "metadata": {
        "id": "ZqtDH-2Aw4PS"
      }
    },
    {
      "cell_type": "markdown",
      "source": [
        "Como salida vamos a tener las distancias mínimas hacia cada nodo cumpliendo el camino más corto desde el nodo fuente."
      ],
      "metadata": {
        "id": "LNwoO4n3R94g"
      }
    },
    {
      "cell_type": "markdown",
      "source": [
        "##2.2.Ejemplos"
      ],
      "metadata": {
        "id": "Ml-Z_ksblB2D"
      }
    },
    {
      "cell_type": "markdown",
      "source": [
        "###2.2.1.Algoritmo Bellman-Ford"
      ],
      "metadata": {
        "id": "QQfQNdC7lGKd"
      }
    },
    {
      "cell_type": "markdown",
      "source": [
        "Tengamos el siguiente grafo"
      ],
      "metadata": {
        "id": "q4O_LjxXnMSK"
      }
    },
    {
      "cell_type": "markdown",
      "source": [
        "![descarga.png](data:image/png;base64,iVBORw0KGgoAAAANSUhEUgAAAV0AAADnCAYAAAC9roUQAAAABHNCSVQICAgIfAhkiAAAAAlwSFlzAAALEgAACxIB0t1+/AAAADh0RVh0U29mdHdhcmUAbWF0cGxvdGxpYiB2ZXJzaW9uMy4yLjIsIGh0dHA6Ly9tYXRwbG90bGliLm9yZy+WH4yJAAAgAElEQVR4nO3de1xVdb7/8dfem8sGNiAoCIKAXBXRNO+a5S2tkMYsJy/TdLRpmqmpmepMnm5jZs3knGya6cyc35nKPE6oaeUx1ErNzMpblprghZuIgtwvgrDZt/X7Y6XmDBgI7LU3+/P8Rx6w9+JN2tvld33XZ+kURVEQQgjhFHqtAwghhCeR0hVCCCeS0hVCCCeS0hVCCCeS0hVCCCeS0hVCCCeS0hVCCCeS0hVCCCeS0hVCCCeS0hVCCCeS0hVCCCeS0hVCCCfy0jqAEMLN2WxQVARmMxiNEBcHXlItbZH/MkKIjquuhpUr4a23oKAAvL3BYAC7HSwWSEyEhQvhvvsgNFTrtC5FJ6MdhRDtZrHA0qXwyiug00Fzc9uv9fMDRYHHHoMlS8DHx3k5XZiUrhCifYqLYdo0KCmBpqb2v8/fH6KiYMcOiInpvnxuQkpXCPHDioth5EioqVGXEDrKYFCXGQ4e9PjildIVQlydxQJpaVBYeG2Fe5HBAPHxkJOjrgF7KNkyJoS4uqVL1SWFzhQuqO8vKVGP58GkdIUQbauuVi+atbaGO3EiZGVBWZl6wUxR1AtmV9PUBCtWqMsUHkpKVwjRtpUr1V0Krbn+erjllo4XqE4Hb77Z+WxuSkpXCNG2t95qe1vYP/4BQUEwalTHjtncDKtWdTqau5LSFUK0zmZTb3xoS03N1ffpXk1+vnp8DySlK4RoXVFR9+0y8PZWj++BpHSFEK0zm9VtXt3BYFCP74GkdIUQrTMaO79NrC12u3p8DySlK4RoXVwcWK3dc2yrVT2+B5LSFUK0zssLEhLa/vodd0BeHhw5cvlzjzyifu7tt69+7MREjx3/KKUrhLiC3WFna95WFm9fTOWPZ6rTwloTFKSW5/eLOTRU/VxUVNvfwM9PHfvooWT2ghACgOL6YtYcXUO9uZ4ZiTO4KfYmdLW1aoF25UUvo1G9HdhD5+x65vm9EAIAq91KVm4W+87uIyY4hvuvv5/e/r0vvyA0VJ2H++qrHRvn2BZ/f3j0UY8tXJAzXSE8Un5NPmuPrqXZ1kxGcgZjo8eia+t2X5ky1qWkdIXwEGabmY3HN3K47DAJoQnMTZtLkG9Q+94s83S7jJSuED3cscpjrM9Zj0NxcMfAOxgeOfzaDiRPjugSUrpC9EAXLBdYn7Oe41XHSQ1LZU7qHAJ8Ajp/4I48I83fHxwOePxxdeSjBy8pfJ+UrhA9yDfnvmHj8Y146b24K/UuBocP7p5vVFOjjmdctUodXvPd04DtNitYrRiSktVtYYsWefRFs9ZI6Qrh5s63nGft0bUU1hYyPHI4dwy8A18vX+cFsNnU4TVmM7/b+3v+Xr2NI7/Koa+pr/MyuBEpXSHckKIo7D27l825m/H39mdu2lwSQxO1jsXU/53KzqKdTOg/gU/v/RRvgywp/DMpXSHcSHVTNWuOruHM+TOMix7HzOSZLlNsFruF1L+mUlBbgB49Pxn6E/73jv/VOpbLkZsjhHBxiqKwq2gXHxd8TC9jL+YPmU9MsOvtAthzZg+VTZWE+YeR1DsJo5cRh+JAr5NpA98nZ7pCuKjyxnIyj2ZScaGCm2JvYnrCdAz6bppv2wUqGiuobKqkzlxHnbmO9OR0rSO5JDnTFcKF2B12thVsY1fRLsIDwlkwdAERpgitY7VLuCmccFM4ZpuZFXtWSOm2QUpXCBdwpv4Ma46uodZcy/SE6fxh2h/c9p/lRi8jLfYWrWO4LCldITRitVvZkreFPWf20D+oPz+7/mdXDptxc4qitD3PwYNJ6QrhZAU1BazNXkuztZn05HSWT1ve48opMTSR/Jp8knonaR3F5UjpCuEELbYWNp7YyNelX5MQmsDDox8m2BisdaxuMyZqDPtL9kvptkJKV4hudLzyOO/kvIPdYWfWwFnMTZurdSSnSOqdRObRTK1juCQpXSG6WJO1iQ05GzhWeYxBYYP47fjfds2wGTei1+mR3aitk9IVooscOneI94+/j0Fv4K7Uu7h32L1aR9KUr5cvLbYW586BcANyc4QQnXC+5TzrsteRX5PPsIhhzB40G6OXUetYLmFz7mbC/MMYEz1G6yguRUpXiA5SFIX9JfvJOpmFn7cfdw++Wy4YtaLiQgXrstfxyJhHtI7iUmR5QYh2qmmuUYfN1J9hTPQYnpv0nMsMm3FF4QHhVF6o1DqGy5HSFeIqFEXhs9Of8VH+RwT7BjN/yHxie8VqHUu4MSldIVpxcdhMeWM5N8beyItTXnTpYTOuKtQvlOqm6h51p11nyZquEN9xKA62F2xn56mdhAWEsWDIAiIDI7WO5da+LP6SBksDtyTeonUUlyGlKzze2fNn1WEzzbVMi5/G5AGT3XbYjKtptjbzp31/4qmJT2kdxWXI8oLwSDaHjS25W/jyzJdEBUaxaPgi+vj30TpWj+Pn7Uez9SpPDPZAUrrCoxTWFrL26FouWC9wW9JtPXLYjCuSiWOXSemKHq/F1sKmk5s4WHqQ+JB4Hhr9EL2MvbSO5TESQhMorC0kITRB6yguQUpX9Fgnqk7wTvY7WB1WZg2cxZzUOXK2pYHRUaPZX7JfSvc7UrqiR2myNvHusXfJrshmYJ+BPD7+cUw+Jq1jebSBfQbyTvY7WsdwGVK6okc4UnaE946/hw4dd6XexU+v+6nWkcR39Do9DsWhdQyXIaUr3FZDS8OlYTND+w7lyRuexM/bT+tYohXeBm8sdgs+Bh+to2hO9ukKTeTn5/PVV18xb968Dr1PURQOlBzgg5MfYPQycnfa3ST3Tu6mlKKrbDqxiaigKEb2G6l1FM1J6Qqn2rVrF0899RT79u1j+vTpfPDBB/j4/PDZT21zLWuOruF0/WlGR43m9pTb5azJjZxrOMf7x9/nodEPaR1Fc7K8IJxi/fr1LFu2jMLCQh566CEGDx7M4cOHr1q4iqLwefHnfJj3IUG+QcwbMo+4XnHOCy26TGRgJGWNZVrHcAlyr6PodpmZmcydO5e7776b8vJy/vjHPxIZGYnNZqOqqqrN911cA1w2ZRlPTnxSClf0CFK6olvs3buXuro6ABYsWIDFYuGZZ57BZFK3b+l0OpqbmwkODm7zWVq+Xr6MjR6Ll17+QdYT9DL2ora5VusYmpPSFV3G4XDw8ssv07t3b+6//37GjBnD8uXLqaqqwsvLC6vVeqlgBw4cyLlz52hsbJQbFjzEqKhRfFX6ldYxNCelK7pMZmYma9euZdWqVWzfvp2HH36Y1atXs2zZMgC8vS8/ZaGuro6IiAiKi4u1iiucbETkCL4u/VrrGJqT0hVdoqGhgczMTIYMGUJGRgaRkZH86le/YtSoUZdKGMBqtQKQlJTE6dOnCQsL0zK2cKIAnwCarE1ax9CclK7oEoGBgeTl5TF48OArPm8ymWhqamLFihUAl3YrmEwmTCYTubm5AG2u64qex9N/r6V0RZeZM2cOf/7zn3nnHfU++7///e/s27ePBx98kNLSUr755ptLr3U4HBgMBhwO9fZQWdf1DHG94iiqK9I6hqbksrDoMs8//zyHDh3i6aef5mc/+xn+/v688cYbhIaGsmnTJs6fP3/ptXFxcVRWVl4qXeEZxkSP4UDJAQaEDNA6imakdEWX8fHxYdOmTeTk5GCz2RgzZgwAVVVVVFRUEB4efum1VquVd955h2nTpsmAaw8yqM8gNuRs0DqGpqR0xTWx2W3odXr0+itXqIxGIyNGjLjic8uXL2fYsGFERUVht9sxGAzExsYSG6s+ylwK13MY9AaPnzgmpSvaTVEUDpYeZNPJTUQHRfPzET9v9XUOh4OCggLq6up477332LBhA8899xzBwcFOTixckZfeC6vdirfB+4df3ANJ6YofVGeuU4fN1J1mZL+R/O6m31112IzD4WDv3r289NJLBAUFsXLlSqZMmeLExMKVDe07lKMVR7k+8nqto2hCpoyJVimKwhfFX7A1byuBvoHMS5vXoYsf5eXltLS0EBMT040phTsqOV/CByc/4Jejfql1FE3Ima64QuWFStYcXUNpQykTYiawbMqya5p90Ldv325IJ3qCqKAoShtKtY6hGSldgUNxsPPUTnYU7qC3X2/mD5lPVFCU1rGE6JGkdD1YaUMpmd9mUt1czZQBU/j91N+j18n9MqL7BfkGUW+uJ9joeRdXZU3Xw9gcNj7K/4jdp3cTaYpkwdAFhAeE//AbhehCu4p2YXfYmRo/VesoTiel6yFO151mzdE1nG85zy2Jt3Bj7I2yP1ZoptHSyF8P/JXFNyzWOorTyfJCD2axW8g6mcX+kv3EBsfyi5G/IMQvROtYQmDyMdFoadQ6hiakdHug3Opc1mWvo8XWwu0ptzN70Gw5qxUuyRNvAZfS7SHMNjPvHXuPI+VHSApN4tGxjxLoG6h1LCHaFBMcw5nzZ4gJ9qy93LKm6+ayK7LZkLMBBYXZg2YzLGKY1pGEaJcjZUfIrc5lzuA5WkdxKjnTdUONlkbW56znRNUJ0sLTWHzDYvy9/bWOJUSHDA4fzMYTG5mDlK5wQYqi8PW5r/m/E/+Ht96bHw/+MYuGL9I6lhDXzEvvhd1h1zqG00npurh6cz1rs9dSWFvIiMgRPHvjs/h6+WodS4guYdAbsDls13SrubvynJ/UjSiKwp4ze9iStwWTj4m5aXOJD4nXOpYQXS4tPI3simyPuhYhF9JcSFVTFZnfZlLSUMKE/hNIT073qDMA4XnO1J/hw/wP25zN3BPJ/9EacygOPj31KdsLtxNiDGHB0AVEB0VrHUsIp4gOiuZM/RmtYziVlK5GzjWcY83RNVQ2VTIpbhIvTnkRg96gdSwhnMrTbowAKV2nsjvsl4bNRJgi+MnQn9DXJHNnhWcL9A2koaXBY27mkTVdJyiuLybz20zOt5xnRuIMboq9ySP/hheiNTtP7USHjskDJmsdxSnkTLebWO1WsnKz2Hd2HzHBMTww8gFC/UK1jiWEyxnZbyT/7+D/k9IV1ya/Jp912etotjaTkZLB8mnL5axWiKsI8g2ioaVB6xhOI6XbBcw2M+8ff5/DZYdJDE3kkTGPEOQbpHUsIYQLktLthJyKHNbnrMehOJg9aDbzh8zXOpIQbum6iOuoaa7xiCU4uZDWQRcsF1ifs57jVcdJDUtlTuocAnwCtI4lhFuzO+w4FAfeBm+to3Q7Kd12+ubcN2w8vhEvvRdzBs8hNSxV60hCCDckpXsV9eZ61mWvo7C2kOGRw7lj4B0ybEYI0SlSuv9EURT2nt3L5tzN+Hv7MzdtLomhiVrHEkL0EFK636luqmbN0TWcPX+Wcf3HkZ6U7hHrS0II53Kd3Qs2GxQVgdkMRiPExYFX98ZzKA52Fe1iW8E2QowhzB8yn/7B/bv1ewoh2sdqtVJdXY2iKERGRmodp8toe6ZbXQ0rV8Jbb0FBAXh7g8EAdjtYLJCYCAsXwn33QWjXbSUpaywj89tMKi5UMCluEtMTpsuwGSE0pigKn332GZmZmbz77rvU19czcOBAevXqRUREBH/729+IiIjQOmanaVO6FgssXQqvvAI6HTQ3t/1aPz9QFHjsMViyBHx8rulb2h12thVsY1fRLsIDwlkwdAERJvf/DRSiJ7Db7TzzzDNs2LCB2NhYHA4HOTk53HXXXYwfP54NGzbg7e3NSy+9RGKie19jcX7pFhfDtGlQUgJNTe1/n78/REXBjh0Q0/5HNp+pP8Oao2uoM9cxPWE6N8XdhF6nv4bgQojusnv3bu677z4efPBB7rnnHvr06cPu3btZsmQJS5cuZeLEiUyaNIn09HSeeOIJreN2inNLt7gYRo6Emhp1CaGjDAZ1meHgwSuKd3fRbo5VHeMXI38BqMNmtuRtYe+ZvUQHRTN/yHx6+/fuqp9CCNHFnn76aQ4fPsyWLVuu+PwvfvELzGYzq1atYvHixWRnZ//La9yN8y6kWSzqGe61Fi6o76upUY+TkwPe3hyrPMbCDxYSYgxh2oBprMtZR5O1iZnJM3lp2ksybEYIN5CUlMSHH354xefKysooLy9n6NChAERFRXHgwAEt4nUpw3PPPfecU77T734H27er5dsZiqLucGhp4dyoQaRnppNXk0d1UzV6nZ4nJjxBenI6/YP7S+EK4SZCQ0PZtGkTW7ZsITg4mNzcXF577TW+/PJL/vCHPxAeHo5er2fs2LEMGDBA67id4pzlhepqiI5Wy7I1jz0G6emQkgJ9+kBlJezdC88/D9nZrb5FMRpJWuzHKX09DsUBwO3Jt7Np3qbu+imEEN3oiy++YMmSJZw+fZqSkhISExN54YUX+NGPfgSoW8i8vLzc/mTKOaX7n/+p7jxoa5fCqVPqvtzcXPVMNiVF/XxjI6SlwenT//oePz+q/+PX5C+axem60+TX5uOt9+a3E37bbT+GEKJ7VVVVcerUKaKioujXr1+rr7FYLPhc4y4mV+Cc0k1NhePH2/7600/D229fLtdHH1W3k138+NVX2z5uTk7XZhVCaMLhcKDXX7mzSFGUK85sf/7zn2M2m1m9erWz43WZ7t87ZbOpNz5czYsvXnk2u3375Y9bWtp+X36+enwhhNu7WLgWi4WL54L/vJSQmppKjpufaHV/6RYVqXeadcRjj6m/VlXBhg1tv87bWz2+EMLt2Ww26urq8PHx+ZeytX+342n06NHk5uZqEa/LdP+WMbNZ3V/bHt7e8MYb8NOfQn09zJqlFm9bDIa2L84JIdyK2WxmxowZJCcnM3r0aG6++WZCQkLw9fWlV69eAAwePJimpiYaGhoIDHTPR7Z3f+kaje3bl9u7N2zcCBMnQmmpupvh8OGrv8duV48vhHB7JpOJIUOGUFhYyPLly/n1r39NdHQ0aWlpxMbGkpCQwMyZMzGZTBw5coQbbrhB68jXpPsvpNlsEBBw9f25AwfC5s2QkACHDkFGhnqb8A/x8YELF7p9GpkQovtdvGhWV1dHfX09NTU17Nq1iy+++IJz585RXl5OXV0dtbW1vPnmmyxcuFDryNfENXYvHD+uFi/A0aNqkV70xhvw5putvq08tg97Pvw70xOmy3PKhOgB/nm3wkUWi4WTJ0/S3NzMrl27SE5OZtasWRok7DznnCIuXHj1fbrfXyIYMuTKr330Uevv8fMj7KEniA6K5tV9r9JkbSI+JJ6MlAzCA8K7JrcQwqlaK1yHw4GPjw9DvuuG0aNHOztWl3LOmW5NjTohrCsvehmN6hLE9+bs5tfkszl3MxUXKujj34eM5AySeid13fcUQohOct6UsaefVm9y6Mg4x7b4+6s3TbzwQpsvqbxQyebczeTV5OHn5cf0hOmMiholYx2FEJpyXulaLOotvYWF1z5lDNRtYvHxl6aMtUeTtYntBds5UHIAnU7HhP4TmDJgijzZVwjhdD1inm5H2B129pzZw85TO2mxtzA4bDC3Jd1GiF/INR1PCNF9rHZrj3tAbI9/csTVKIrCscpjbMnbQp25jn6B/bg95XZigrvm+EKIztmat5Xbkm7TOkaXcv1npPn7g8MBjz+u7oDo6C3FHVByvoSs3CyK64sJ9Ank1qRbua7vdW4/Sk4Id/Xa/tf48eAf09fUV+soXUbbpwHX1Kh7cFetUofXfP9pwFbr5acBL1rUpU8Dbo96cz0f5X/EkfIjeOu9mRQ3iYmxE/HSy40YQjjLgZIDlDeWk5GSoXWULqNt6X6fzaYOrzGb1e1gcXEuc6eZxW7hs6LP+Lz4c2wOGyMiRzAjcQYmH5PW0YTo0VpsLfzxyz/y7E3Pah2ly7hGq4FasC76aGUfgw83J9zMzQk3oygK35z7hr/s/wuNlkYG9BpARkqGPM5diG7g6+WLxd7JR3y5GNcpXTeh0+kY0W8EI/qNAKCwtpB3st+h/EI5oX6hzEyeycA+AzVOKUTPodPpcCiOHrPH3nWWF3qAqqYqtuRu4WT1SYxeRqbFT2Ns9Nge84dFCC1kfpvJiH4jeszJjJRuN2m2NrOjcAf7S/YDMDZ6LNPip2H0klGUQnREXnUee87s4d5h92odpUtI6TqB3WFn39l9fHLqE5qtzaSGpZKenE6on3N3ZAjhjhRF4Xef/o5lU5ZpHaVLyJquExj0BibETGBCzAQUReFE1QlWHlpJTXMNEaYIbk+5nbhecVrHFMIl9bR98lK6TqbT6RgUNohBYYMAONdwjqzcLIrqigj0CWRG4gyGRwzvcX/QhOgMo5eRZmszft5+WkfpNFlecCENLQ18XPAxh84dwqA3cGPsjdwUe1OPu/dciI7amreVXsZejO8/XusonSal66Ksdiu7T+9m9+ndWB1WhkUM45bEWwjyDdI6mhBOV9VUxdvfvs1vxv5G6yidJssLLsrb4M3U+KlMjZ+KoigcLjvMXw/8lQZLA7HBsdyecjuRgZFaxxTCKfr496G6qVrrGF1CStcN6HQ6hkcOZ3jkcACK6op499i7nGs8R4gxhPTkdAb1GSTrwEK4AVlecHM1zTVszdvKscpj+Bp8mRo/lXHR4zDoDVpHE6JL/Xnfn5k/ZD5hAWFaR+kUKd0exGwz80nhJ+w9uxdFURgTPYab42/uEVd8hdh3dh/VTdWkJ6drHaVTpHR7KIfiYP/Z/ewo3EGzrZnk3snMTJ5JH/8+WkcT4pqYbWZe3vMyz9z4jNZROkXWdHsovU7PuP7jGNd/HAAnq06y+shqqpqqCA8IJyM5g4TQBI1TCtF+Ri8jLbYWrWN0mpSuh0jpk0JKnxQAyhvLycrN4s1DbxLgHcCMxBmMiBwhF+KEy9PpdCiK4tZ/VmV5wcM1WhrZVrCNr0u/Rq/TMzF2IpPiJuFj8NE6mhD/YvWR1YyNHkty72Sto1wzKV1xic1h44viL/j01KdYHVaG9h3KrYm3EmwM1jqaEIC6TPZV6Vf8ZOhPtI5yzaR0RasUReFoxVG25m3lfMt5+gf1JyMlg+igaK2jCQ/mUBw8t+s5np/8vNZRrpms6YpW6XQ6hvYdytC+QwEori9m04lNlDSUEOwbzG1Jt5EWnubWa2vC/eh1etz9PFFKV7RLTHAMD41+CIA6cx1b87ayNnstPgYfJsdNZkLMBHlSsnAKXy9fWmwt+Hr5ah3lmsjyguiUFlsLnxZ9ypfFX+JQHIyKGsX0hOn4e/trHU30UJtzNxPmH8aY6DFaR7kmUrqiyzgUBwdLD7KtYBtN1iYSQxOZmTyT8IDwTh1XURRqa2sJDZUnbQiouFDBuux1PDLmEa2jXBP596DoMnqdntFRoxkdNRpQn22V+W0mlU2VhPmHMTN5Jkm9kzp83JMnT5KamsrIkSN5+OGHueeee7o6unAj4QHhVF6o1DrGNZMzXeEUFRcq2Jy7mfyafPy9/bk5/mZGRY1q95OSi4uLWblyJW+99RZlZWXcfffdPP7441x33XXdnFy4omd3Puu2z0yT0hVOd8Fyge2F2zlYehAdOmYPms2wiGFt7oT45zuQPvvsMyZPnkxCQgKHDh1ix44dDBs2jLi4OCf9BEJrf9r7J3563U/p7d9b6ygd1r7TDCG6UIBPALMGzuKFKS+wZNISBoQMuOrWM51Oh91uB6CwsJC1a9cSGRlJZmYmJpOJzMxMEhISSEtL47//+7+x2WzO+lGERkZHjeZAyQGtY1wTKV2hKS+9F72MvX7wdQaDOh948eLFfPLJJ7zyyiuMHq2uHW/YsIGysjLuvfde/uu//guj0ci//du/cfTo0W7NLrRzfeT1fHPuG61jXBMpXeHSLq5+NTY28sILL7Bx40Zefvll7rzzTgAcDgeKohAWFsZvf/tbcnJymD17NqtXr2bHjh1aRhfdyM/bD7PNrHWMayK7F4RLu7jssGLFClauXMlTTz3Fj370o0tf1+uvPG9YtmwZW7Zs4a233mLevHlOzSqczx0njsmZrnB5q1atYtmyZTz44IP8+7//O6Ce4QJX3BK6evVq/vSnP/HAAw9w77334uMjk9J6soTQBAprC7WO0WGye0G4tLfffpunnnqKG264gTVr1vzL1x0OB3q9nn/84x88+eSTzJ49m9///veYTKZLXxM90/HK4xwqO8T8IfO1jtIh8idSuKza2lr+53/+hwkTJrBixQrg8hnuRXq9niNHjvDoo48yfvx4li9fjslkuvQ10XOl9EnhRNUJrWN0mKzpCpcVEhLC559/TktLC76+6nCTi0Vqt9sxGAzs2rWLxx57jLS0NF577TX8/PzaXOezOWzodfp235AhXJu7ThyT0hUu72Lhfp/BYKCgoIB58+YxcOBA/va3v9G3b982C1dRFM7Un+GNb95Ap9MxLnocU+OnYvQyOuNHEN3Ex+CDxW5xqyedyJqucFu7d+/mmWee4fXXXyclJaXd77M77Ow9u5dPCj/BbDOTGpZKenI6oX4yUMfdbDqxiX6B/RgVNUrrKO0mpSs8mqIoHK86zpbcLdSaa4k0RZKRkkFcrzito4l2KGss471j712a9ewOZHlBeDSdTkdqWCqpYakAlDaUknUyi9P1pzH5mLg18darzoUQ2oowRVDWWKZ1jA6R0hXie/oF9uOBkQ8A0NDSwEf5H7Hh2Aa89F7cFHsTN8beiLfBW+OUwp3J8oIQ7WC1W9l9ejefnf4Mm8PG8Ijh3JJ4C4G+gVpH83gr9qxg0fBFhPiFaB2lXaR0heggRVE4XHaYD/M/pNHSSGxwLLen3E5kYKTW0TzS56c/p9nWzPSE6VpHaRcpXSE6qaiuiKyTWZxrPEeIMYT05HQG9Rkk68BOcsFygb/s/wtPTnxS6yjtImu6QnRSXK84Hh7zMAA1zTVsyd3C29++ja/Bl6nxUxkXPQ6D3qBxyp4rwCeAJmuT1jHaTUpXiC4U6hfKPdepz3Az28x8UvgJS3YtQVEUxkSP4eb4m/Hz9tM4Zc/kLhPHZHlBCCdwKA72n93P9sLtmG1mknsnMzN5Jn38+yWRtyAAAAdWSURBVGgdrUd485s3mTJgCgNCBmgd5QdJ6QqhgRNVJ9iSu4WqpioiTBFkpGQQHxKvdSy3lV2RTXZFNnPT5mod5QdJ6QqhsbLGMrJOZlFYW4jJx8SMxBmMiBzhFv9UdhV2h53nP3uepZOXah3lB8marhAaizBFcP+I+wFotDTycf7HvH/8fQw6AxNjJzIpbpJbDXTRgkFvwKE4fviFLkBKVwgXYvIxcWfqndyZeidWu5Uvir/gxd0vYrFbuC7iOm5NvJVgY7DWMV2Sl94Lq93q8ncMyvKCEG5AURS+Lf+WD/M/pN5cT0xwDBkpGUQHRWsdzWVsPL6R2F6xXB95vdZRrkpKVwg3dLruNFm5WZScL6GXsRfpyekMDhvs0evApQ2lbDqxiV+O+qXWUa5KlheEcEOxvWL51ehfAVDbXMvWvK2sOboGH4MPUwZMYXz/8XjpPet/736B/ShtKNU6xg/yrN8VIXqgEL8QFgxdAECLrYWdp3aydNdS7Iqd0VGjmZ4wHX9vf41TiotkeUGIHsqhOPiq5Cu2FWyjydpEUu8kZibPJDwgXOto3eblPS9z//X3u/TFRildITxEXnUeWblZVF6oJDwgnJnJM0nqnaR1rC61q2gXNoeNafHTtI7SJildITxQxYUKNuduJq86D39vf2YkzmBkv5Fu/6TkRksjfz3wVxbfsFjrKG2SNV0hPFB4QDiLhi8C1NGI2wu38+zOZ9HpdNwQcwOT4ybj6/WvT2F2dSYfE42WRq1jXJWUrhAeLsAngFkDZzFr4CxsDht7zuzhD1/8gRZbC0P6DuG2pNvoZeyldcwOceWJY7K8IIRolaIoZFdkszVvK3XmOqKDoslIySAmOEbraFf1+tevMyNxhsvmlNIVQrTL2fNnyTqZRXF9MUG+QdyWdBtD+w51uTPKb8u/5WTVSeYMnqN1lFZJ6QohOqzeXM+H+R9ypOwI3gZvJsdNZmLsRJe4IcPmsPHC7hd4btJzWkdplZSuEKJTLHYLu4p28fnpz7ErdkZEjmBG4gxMPibNMj2781mW3bgEiorAbAajEeLiwEv7vxSkdIUQXcahOPi69Gu2FWyj0dJIfEg8GSkZRJginBOguhpWrsS+8k0MhafA2xsMBrDbwWKBxERYuBDuuw9CQ52T6Z9I6Qohuk1BTQFZuVmUN5bT2783GckZpPRJ6fpvZLHA0qXwyiug00Fzc9uv9fMDRYHHHoMlS8DHubOKpXSFEE5R1VTF5tzNnKw6idHLyPSE6YyJHtP5GzKKi2HaNCgpgaYOPBXY3x+iomDHDohx3k4HKV0hhNM1WZvYUbiDfWf3oUPH+P7jmRo/FaOXsWMHKi6GkSOhpkZdQugog0FdZjh40GnFK6UrhNCU3WFn79m97CjcQYuthdSwVNKT0wn1u7zmesvbt/DqLa8ysM/Ay2+0WCAtDQoLr61wLzIYID4ecnLUNeBuJqUrhHAZiqJwvOo4m3M3U9tcS7/AfgyPHM4d79xBiDGEDXM2cF3EdeqLn34aXn21Y0sKbfH3h0cfhRde6PyxfoCUrhDCZZU2lHLfpvv4qOAjAKIDo1k/Zz3j/JMhOlrdDtaWu++GJ56AQYPUC2s7d8J//AcUFLT+eqNRXRfu5l0N7j1SSAjRo/UL7EetuRYvvRcRAREoKNz7f/fCypXqLoW2LFoE69bB9dfDuXPqEsJdd8GXX0Lfvq2/R6eDN9/snh/k+99GznSFEK7s9a9fJ6l3EmnhafTx76N+MjUVjh9v/Q3e3uoZa1gYvPsuzJkDkZFw4gQEBcFf/gK//nXr701NVdd2u5GUrhDCvdhsEBCgXkhrzfjx6hktwLx56hkvwMcfw/TpkJsLKW3sFfbxgQsXuvXONVleEEK4l6Kiq+8y6N//8scVFZc/Li9Xf73a1jBvb/X43UhKVwjhXsxmdY22o9ozDc1guPrFuS4gpSuEcC9G49X35Z45c/nj8PB//bi4uO332u3q8buRlK4Qwr3ExYHV2vbXv/oKqqrUj++8U/01MhLGjlU//uijtt9rtarH70ZSukII9+LlBQkJbX/daoWnnlI/vusudV/u8ePqzoXKSnjppbbfm5jY7eMfpXSFEO5n4UJ1WlhbXn8dFiyAQ4egXz91qtj778OECeq+3db4+anH7WayZUwI4X5qatQJYV150UvuSBNCiDaEhqrzcP39u+Z4/v7w+ONOGWwuZ7pCCPfkplPG5ExXCOGefHzUAeShode2bxcuz9PdscMphQtSukIIdxYTow4gj4/v+FKDv7/6PicOMAcpXSGEu4uJgexs+M1v1IthV9vVAGrZGo3q/NycHKcWLsiarhCiJ6mpUcczrloF+flXPg3Yar38NOBFi+RpwEII0aVsNnV4jdmsntnGxXX7jQ/tIaUrhBBOJGu6QgjhRFK6QgjhRFK6QgjhRFK6QgjhRFK6QgjhRFK6QgjhRFK6QgjhRFK6QgjhRFK6QgjhRFK6QgjhRFK6QgjhRFK6QgjhRP8fwblHMAdTh7gAAAAASUVORK5CYII=)"
      ],
      "metadata": {
        "id": "T62xgeR624Ne"
      }
    },
    {
      "cell_type": "markdown",
      "source": [
        "El nodo fuente sera el 0, la cantidad de vertices y arcos son 3"
      ],
      "metadata": {
        "id": "AUHuixOd3BIz"
      }
    },
    {
      "cell_type": "markdown",
      "source": [
        "Primero se crea el arreglo distancia y se colocan todos los nodos en infinito, excepto la fuente, el cual queda en distancia 0"
      ],
      "metadata": {
        "id": "8HxaGwop3ukZ"
      }
    },
    {
      "cell_type": "markdown",
      "source": [
        "Luego se mueve al nodo 1, se suma la distancia y el valor de su distancia ahora va a ser 67"
      ],
      "metadata": {
        "id": "-8jcJyFWEjlF"
      }
    },
    {
      "cell_type": "markdown",
      "source": [
        "Despues nos movemos al nodo 2, se aplica la suma y actualizamos su distancia con 164"
      ],
      "metadata": {
        "id": "6DyhStOhErNy"
      }
    },
    {
      "cell_type": "markdown",
      "source": [
        "Por ultimo llegamos al nodo 0 de nuevo, se suma la distancia y actualizamos su distancia como 241"
      ],
      "metadata": {
        "id": "5rXnOr5UFNQm"
      }
    },
    {
      "cell_type": "markdown",
      "source": [
        "Ahora que tenemos la mínima distancia,se debe comprobar que no haya un ciclo negativo, como el resultado de la distancia no da negativo, entonces no posee un ciclo negativo"
      ],
      "metadata": {
        "id": "YyBuZt-DFf-D"
      }
    },
    {
      "cell_type": "markdown",
      "source": [
        "Y se muestran los resultados de las distancias mínimas"
      ],
      "metadata": {
        "id": "Q6UO7tRyGV6G"
      }
    },
    {
      "cell_type": "markdown",
      "source": [
        "###2.2.2.Algoritmo Dijsktra"
      ],
      "metadata": {
        "id": "jnhC3fs_lXXa"
      }
    },
    {
      "cell_type": "markdown",
      "source": [
        "Tomemos el siguiente grafo"
      ],
      "metadata": {
        "id": "D-ePQRANnL4w"
      }
    },
    {
      "cell_type": "markdown",
      "source": [
        "![descarga.png](data:image/png;base64,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)"
      ],
      "metadata": {
        "id": "l2dNElNtHtUq"
      }
    },
    {
      "cell_type": "markdown",
      "source": [
        "El nodo fuente será el 0, la cantidad de vertices y arcos son 3"
      ],
      "metadata": {
        "id": "o8zPfsOQHt3B"
      }
    },
    {
      "cell_type": "markdown",
      "source": [
        "Primero se crea el arreglo distancia y se colocan todos los nodos en infinito, excepto la fuente, el cual queda en distancia 0"
      ],
      "metadata": {
        "id": "Ahdjj7HaH5wO"
      }
    },
    {
      "cell_type": "markdown",
      "source": [
        "También se crea un arreglo para marcar los nodos que han sido visitados"
      ],
      "metadata": {
        "id": "ZFtvyQgxIDLV"
      }
    },
    {
      "cell_type": "markdown",
      "source": [
        "Se busca la mínima distancia de los nodos que aún no han sido visitados,como ningún nodo es visitado y el unico nodo adyascente a 0 es 1,por lo que se marcara como visitado el 1 y se sumara la distancia a 1,quedando 67"
      ],
      "metadata": {
        "id": "Zli7mYwmIJJb"
      }
    },
    {
      "cell_type": "markdown",
      "source": [
        "Después se realiza el mismo paso para el nodo uno y se encuentra el 2, se suma la distancia que quedara 164 y se marca el nodo 2 como visitado"
      ],
      "metadata": {
        "id": "02E45raPQu4y"
      }
    },
    {
      "cell_type": "markdown",
      "source": [
        "Por último se vuelve a repetir este proceso y se encuentra la distancia mínima hacia el nodo 0, siendo 241 y se marca como visitado"
      ],
      "metadata": {
        "id": "kT4f3FWVRaI6"
      }
    },
    {
      "cell_type": "markdown",
      "source": [
        "Se muestran los resultados de las distancias minimas"
      ],
      "metadata": {
        "id": "T069DroER0hO"
      }
    },
    {
      "cell_type": "markdown",
      "source": [
        "##2.3.Ejecución paso a paso con verbose"
      ],
      "metadata": {
        "id": "zdUiFzV_lglh"
      }
    },
    {
      "cell_type": "markdown",
      "source": [
        "###2.3.1.Algoritmo Bellman-Ford"
      ],
      "metadata": {
        "id": "flnfaHPQlr-P"
      }
    },
    {
      "cell_type": "code",
      "source": [
        "g,a=instance_generator(3)\n",
        "BellmanFord(g, 3, len(g), 0,False,True,True)"
      ],
      "metadata": {
        "id": "I457LKdFnImN",
        "colab": {
          "base_uri": "https://localhost:8080/"
        },
        "outputId": "46fab522-dda7-4dd0-becc-edd7bf06205c"
      },
      "execution_count": 30,
      "outputs": [
        {
          "output_type": "stream",
          "name": "stdout",
          "text": [
            "Se reciben los siguientes datos:\n",
            "nodo fuente: 0\n",
            "cantidad de vertices: 3\n",
            "cantidad de arcos: 4\n",
            "grafo: [(1, 2, 32), (2, 0, 53), (0, 1, 66), (0, 1, 46)]\n",
            "-------------------------------------------------\n",
            "Se crea el arreglo que guardara la distancia\n",
            "-------------------------------------------------\n",
            "Se empiezan a recorrer los arcos y vertices\n",
            "Se comprueba el camino mas corto hacia el nodo v\n",
            "camino mas corto con i arcos + el peso del camino 100000000031 Camino corto actual 99999999999\n",
            "Se comprueba el camino mas corto hacia el nodo v\n",
            "camino mas corto con i arcos + el peso del camino 100000000052 Camino corto actual 0\n",
            "Se comprueba el camino mas corto hacia el nodo v\n",
            "camino mas corto con i arcos + el peso del camino 66 Camino corto actual 99999999999\n",
            "El camino es mas corto,se debe actualizar\n",
            "Se comprueba el camino mas corto hacia el nodo v\n",
            "camino mas corto con i arcos + el peso del camino 46 Camino corto actual 66\n",
            "El camino es mas corto,se debe actualizar\n",
            "Se comprueba el camino mas corto hacia el nodo v\n",
            "camino mas corto con i arcos + el peso del camino 78 Camino corto actual 99999999999\n",
            "El camino es mas corto,se debe actualizar\n",
            "Se comprueba el camino mas corto hacia el nodo v\n",
            "camino mas corto con i arcos + el peso del camino 131 Camino corto actual 0\n",
            "Se comprueba el camino mas corto hacia el nodo v\n",
            "camino mas corto con i arcos + el peso del camino 66 Camino corto actual 46\n",
            "Se comprueba el camino mas corto hacia el nodo v\n",
            "camino mas corto con i arcos + el peso del camino 46 Camino corto actual 46\n",
            "-------------------------------------------------\n",
            "Se comprobara que no hayan ciclos negativos\n",
            "El grafo no posee ciclos negativos\n",
            "-------------------------------------------------\n",
            "Camino mas corto desde la fuente\n",
            "Desde el nodo: 0 ----> 0\n",
            "Desde el nodo: 1 ----> 46\n",
            "Desde el nodo: 2 ----> 78\n"
          ]
        }
      ]
    },
    {
      "cell_type": "markdown",
      "source": [
        "###2.3.2.Algoritmo Dijsktra"
      ],
      "metadata": {
        "id": "bn0_QgiKlxNk"
      }
    },
    {
      "cell_type": "code",
      "source": [
        "g,a=DijkstraInstance_generator(3)\n",
        "g2=listT_to_matrix(g, 3)\n",
        "Dijkstra(g2,len(g2), 0,True,True)"
      ],
      "metadata": {
        "id": "gsJD1PfTnIRZ",
        "colab": {
          "base_uri": "https://localhost:8080/"
        },
        "outputId": "2ca984bc-fae9-4ec9-cf75-4d9ab0b310d1"
      },
      "execution_count": 28,
      "outputs": [
        {
          "output_type": "stream",
          "name": "stdout",
          "text": [
            "Se reciben los siguientes datos:\n",
            "Grafo: [[0, 0, 74], [64, 0, 0], [0, 72, 0]]\n",
            "Cantidad de vertices: 3\n",
            "Nodo fuente: 0\n",
            "-------------------------------------------------\n",
            "Se crea el arreglo que guardara la distancia\n",
            "Se crea un arreglo para marcar los nodos como visitados\n",
            "-------------------------------------------------\n",
            "Se recorre los nodos del grafo\n",
            "Se busca la distancia minima\n",
            "Se recorren los nodos en busca de la distancia minima\n",
            "Se marca el nodo como visitado\n",
            "-------------------------------------------------\n",
            "Se comprueba el camino mas corto hacia el nodo v\n",
            "comparacion entre la distancia  0 y la distancia 0\n",
            "Se comprueba el camino mas corto hacia el nodo v\n",
            "comparacion entre la distancia  9223372036854775807 y la distancia 0\n",
            "Se comprueba el camino mas corto hacia el nodo v\n",
            "comparacion entre la distancia  9223372036854775807 y la distancia 74\n",
            "se actualiza la distancia\n",
            "Se busca la distancia minima\n",
            "Se recorren los nodos en busca de la distancia minima\n",
            "Se marca el nodo como visitado\n",
            "-------------------------------------------------\n",
            "Se comprueba el camino mas corto hacia el nodo v\n",
            "comparacion entre la distancia  0 y la distancia 74\n",
            "Se comprueba el camino mas corto hacia el nodo v\n",
            "comparacion entre la distancia  9223372036854775807 y la distancia 146\n",
            "se actualiza la distancia\n",
            "Se comprueba el camino mas corto hacia el nodo v\n",
            "comparacion entre la distancia  74 y la distancia 74\n",
            "Se busca la distancia minima\n",
            "Se recorren los nodos en busca de la distancia minima\n",
            "Se marca el nodo como visitado\n",
            "-------------------------------------------------\n",
            "Se comprueba el camino mas corto hacia el nodo v\n",
            "comparacion entre la distancia  0 y la distancia 210\n",
            "Se comprueba el camino mas corto hacia el nodo v\n",
            "comparacion entre la distancia  146 y la distancia 146\n",
            "Se comprueba el camino mas corto hacia el nodo v\n",
            "comparacion entre la distancia  74 y la distancia 146\n",
            "-------------------------------------------------\n",
            "Camino mas corto desde la fuente\n",
            "Desde el nodo: 0 ----> 0\n",
            "Desde el nodo: 1 ----> 146\n",
            "Desde el nodo: 2 ----> 74\n"
          ]
        }
      ]
    },
    {
      "cell_type": "markdown",
      "source": [
        "##2.4.Ejecución con visualize"
      ],
      "metadata": {
        "id": "bmMc0bEGJMuo"
      }
    },
    {
      "cell_type": "code",
      "source": [
        "g,a=instance_generator(3)\n",
        "BellmanFord(g, 3, len(g), 0,True,False,True)"
      ],
      "metadata": {
        "colab": {
          "base_uri": "https://localhost:8080/",
          "height": 322
        },
        "id": "FB7mCJ6NJhly",
        "outputId": "129e6940-6e37-479b-c820-eac69c3d9333"
      },
      "execution_count": 31,
      "outputs": [
        {
          "output_type": "stream",
          "name": "stdout",
          "text": [
            "Camino mas corto desde la fuente\n",
            "Desde el nodo: 0 ----> 0\n",
            "Desde el nodo: 1 ----> 155\n",
            "Desde el nodo: 2 ----> 84\n"
          ]
        },
        {
          "output_type": "display_data",
          "data": {
            "text/plain": [
              "<Figure size 432x288 with 1 Axes>"
            ],
            "image/png": "[encoded data removed]"
          },
          "metadata": {}
        }
      ]
    },
    {
      "cell_type": "markdown",
      "source": [
        "#3.Correctitud"
      ],
      "metadata": {
        "id": "8AKlTT5JhqVw"
      }
    },
    {
      "cell_type": "markdown",
      "source": [
        "**Teorema (correctitud)**"
      ],
      "metadata": {
        "id": "NY1t77yenFzH"
      }
    },
    {
      "cell_type": "markdown",
      "source": [
        "El algoritmo Bellman Ford recibe un algoritmo grafo, su cantidad de nodos, cantidad de arcos y un nodo fuente que pertenece al mismo grafo. Retorna la distancia mínima desde el nodo fuente"
      ],
      "metadata": {
        "id": "xY87O97IEdpq"
      }
    },
    {
      "cell_type": "markdown",
      "source": [
        "**Prueba del teorema**"
      ],
      "metadata": {
        "id": "AJ28oXKyGa94"
      }
    },
    {
      "cell_type": "markdown",
      "source": [
        "Para probar teorema se utilizara inducción matemática y se va a utilizar la siguiente hipotesís:"
      ],
      "metadata": {
        "id": "OsCDmr0DGc2U"
      }
    },
    {
      "cell_type": "markdown",
      "source": [
        "Durante la i-ésima iteración, la distancia **s** a cada nodo **v** separado por una distancia máxima permitida de **i** arcos va a ser igual a distancia más corta"
      ],
      "metadata": {
        "id": "t0eorvUgHxk7"
      }
    },
    {
      "cell_type": "markdown",
      "source": [
        "**Caso base**"
      ],
      "metadata": {
        "id": "yuJ47uNmITuc"
      }
    },
    {
      "cell_type": "markdown",
      "source": [
        "Cuando el grafo posee solo un nodo su distancia máxima va a ser 0 debido ya que esta es la distancia máxima hacia si mismo"
      ],
      "metadata": {
        "id": "hLirMkGwIaUm"
      }
    },
    {
      "cell_type": "markdown",
      "source": [
        "**Caso inductivo**"
      ],
      "metadata": {
        "id": "TE9fdu66KMiI"
      }
    },
    {
      "cell_type": "markdown",
      "source": [
        "Al comienzo de la iteración **i+1**,la distancia del camino más corto desde **s** hasta **v** contiene un máximo de **i** arcos. Pero cuando se agrega un arco adicional se debe considerar la posibilidad de que existe un nuevo camino que minimice la distancia, pueden haber dos casos:"
      ],
      "metadata": {
        "id": "YIUwzuuDKO27"
      }
    },
    {
      "cell_type": "markdown",
      "source": [
        "El camino más corto desde **s** a **v** tiene **i** arcos o menos, esto implica que ningún camino de **s** hasta **v** formado por **i+1** arcos minimizara la distancia, esto nos va a dejar con la iteración anterior."
      ],
      "metadata": {
        "id": "PN4HfnYWNJ9s"
      }
    },
    {
      "cell_type": "markdown",
      "source": [
        "El camino más corto desde **s** a **v** tiene **i+1** arcos. Consideremos a **w** un nodo predecesor a **v**, el camino de **s** a **w** está formado por **i** arcos. Se sabe por inducción que la distancia al nodo **w** es óptima, después, al sumar la distancia de **(w,v)**, se va obtener la distancia de **s** a **v**, como en esta iteración se recorrerán los arcos que llegan hasta **v** se sabrá que uno de estos será el que minimice **s** a **v** "
      ],
      "metadata": {
        "id": "qjbLlsPbNzcH"
      }
    },
    {
      "cell_type": "markdown",
      "source": [
        "Como es correcto en el caso inductivo y el base, se prueba que el algoritmo es correcto."
      ],
      "metadata": {
        "id": "s7OYFkWkP-FF"
      }
    },
    {
      "cell_type": "markdown",
      "source": [
        "#4.Tiempo de ejecución"
      ],
      "metadata": {
        "id": "Uka6h6xvhxHg"
      }
    },
    {
      "cell_type": "markdown",
      "source": [
        "##4.1.Algoritmo Bellman-Ford"
      ],
      "metadata": {
        "id": "y9_mtYSRl2jg"
      }
    },
    {
      "cell_type": "markdown",
      "source": [
        "**Teorema**"
      ],
      "metadata": {
        "id": "vylRe1zXoAcZ"
      }
    },
    {
      "cell_type": "markdown",
      "source": [
        "El algoritmo Bellman-Ford tiene un tiempo de ejecución de O(VE) "
      ],
      "metadata": {
        "id": "YgUp7SmMwPzZ"
      }
    },
    {
      "cell_type": "markdown",
      "source": [
        "**Prueba del teorema**"
      ],
      "metadata": {
        "id": "5xOvudc31mFx"
      }
    },
    {
      "cell_type": "markdown",
      "source": [
        "Se puede probar el teorema revisando los procesos realizados por este algoritmo."
      ],
      "metadata": {
        "id": "yk0mcfYS1rmp"
      }
    },
    {
      "cell_type": "markdown",
      "source": [
        "Primero se inician las distancias de cada nodo, esto tiene complejidad **O(V)**"
      ],
      "metadata": {
        "id": "lIwGpdfd2CuJ"
      }
    },
    {
      "cell_type": "markdown",
      "source": [
        "Luego para encontrar el camino desde **s** hasta cualquier nodo eso tiene complejidad **O(VE)**"
      ],
      "metadata": {
        "id": "gyPA0xta2bhR"
      }
    },
    {
      "cell_type": "markdown",
      "source": [
        "Después, verificar que no hayan ciclos negativos tiene complejidad **O(E)**"
      ],
      "metadata": {
        "id": "OpVs_D_C3PBa"
      }
    },
    {
      "cell_type": "markdown",
      "source": [
        "La mayor complejidad de estas es **O(VE)** por lo que esta complejidad es el tiempo de ejecución del algoritmo"
      ],
      "metadata": {
        "id": "ph1TPWJG3fCM"
      }
    },
    {
      "cell_type": "markdown",
      "source": [
        "##4.2.Algoritmo Dijsktra"
      ],
      "metadata": {
        "id": "jO9GKnWJl67x"
      }
    },
    {
      "cell_type": "markdown",
      "source": [
        "**Teorema**"
      ],
      "metadata": {
        "id": "uHkDT7YenDAp"
      }
    },
    {
      "cell_type": "markdown",
      "source": [
        "El tiempo de ejecución de este algoritmo tiene complejidad **O(V∧2)**\n",
        " "
      ],
      "metadata": {
        "id": "Jy5vz2mqNCCm"
      }
    },
    {
      "cell_type": "markdown",
      "source": [
        "**Prueba del teorema**"
      ],
      "metadata": {
        "id": "PmdcVRjFODo6"
      }
    },
    {
      "cell_type": "markdown",
      "source": [
        "Se puede probar el teorema revisando los procesos que realiza el algoritmo"
      ],
      "metadata": {
        "id": "IOB9VKJfOIMM"
      }
    },
    {
      "cell_type": "markdown",
      "source": [
        "La complejidad de visitar todos los nodos tiene complejidad **O(V)**"
      ],
      "metadata": {
        "id": "Ag_ArJg5PY22"
      }
    },
    {
      "cell_type": "markdown",
      "source": [
        "Procesar un nodo tiene complejidad **O(V)**"
      ],
      "metadata": {
        "id": "R6_3CTj3Pht8"
      }
    },
    {
      "cell_type": "markdown",
      "source": [
        "Ahora procesar todos los nodos y visitarlos todos eso tiene complejidad **O(V∧2)**"
      ],
      "metadata": {
        "id": "AHNCkGwEPrDn"
      }
    },
    {
      "cell_type": "markdown",
      "source": [
        "Por lo tanto esta es la complejidad temporal del algoritmo, cabe destacar que esta complejidad se puede reducir a **O((V+E)logV)**"
      ],
      "metadata": {
        "id": "A6T8CkSsQYC3"
      }
    },
    {
      "cell_type": "markdown",
      "source": [
        "#5.Experimentos"
      ],
      "metadata": {
        "id": "j72lqfeAh2Jy"
      }
    },
    {
      "cell_type": "markdown",
      "source": [
        "A continuación se presentaran los resultados de los experimentos realizados"
      ],
      "metadata": {
        "id": "dlo4fFxFmFM9"
      }
    },
    {
      "cell_type": "markdown",
      "source": [
        "##5.1.Comparación de tiempo practico con el teorico"
      ],
      "metadata": {
        "id": "GL3kBci0mK5H"
      }
    },
    {
      "cell_type": "code",
      "source": [
        "import math\n",
        "import matplotlib.pyplot as plt\n",
        "import datetime\n",
        "from timeit import repeat\n",
        "\n",
        "x=[];\n",
        "y=[];\n",
        "\n",
        "for n in range(5,50):\n",
        "  g,a=instance_generator(n)\n",
        "  t = repeat(setup=\"from __main__ import BellmanFord\", stmt=f\"BellmanFord({g},{n}, {len(g)},{0})\", repeat=1, number=10)\n",
        "  x.append(n)\n",
        "  y.append(t)\n",
        "\n",
        "plt.plot(x,y)\n",
        "plt.legend([\"BellmanFord\"])\n",
        "plt.xlabel('Tamaño del grafo')\n",
        "plt.ylabel('Tiempo en ms')\n",
        "plt.show()"
      ],
      "metadata": {
        "id": "9HWBl7ccnBid",
        "colab": {
          "base_uri": "https://localhost:8080/",
          "height": 279
        },
        "outputId": "2926ae48-8207-4db5-c5d0-0393a144992b"
      },
      "execution_count": 35,
      "outputs": [
        {
          "output_type": "display_data",
          "data": {
            "text/plain": [
              "<Figure size 432x288 with 1 Axes>"
            ],
            "image/png": "[encoded data removed]"
          },
          "metadata": {
            "needs_background": "light"
          }
        }
      ]
    },
    {
      "cell_type": "markdown",
      "source": [
        "**Análisis de resultados**"
      ],
      "metadata": {
        "id": "xc5_S2Gja2j8"
      }
    },
    {
      "cell_type": "markdown",
      "source": [
        "Como se puede apreciar en la imagen se ven en forma exponencial, esta manera es similar a la forma ya explicada anteriormente la cual es **O(VE)** ya que generalmente la cantidad de arcos y vértices son lo mismo, que es lo mismo que **v*v** siendo esta una forma exponencial, por lo que los resultados practicos son similares a los teoricos."
      ],
      "metadata": {
        "id": "kzlrFGu4a7ol"
      }
    },
    {
      "cell_type": "markdown",
      "source": [
        "##5.2.Algoritmo Bellman-Ford vs algoritmo Dijsktra"
      ],
      "metadata": {
        "id": "d_QIHKRmmWAQ"
      }
    },
    {
      "cell_type": "code",
      "source": [
        "import math\n",
        "import matplotlib.pyplot as plt\n",
        "import datetime\n",
        "from timeit import repeat\n",
        "\n",
        "x=[];\n",
        "y=[];\n",
        "z=[];\n",
        "for n in range(5,50):\n",
        "  g,a=instance_generator(n)\n",
        "  g2,a=DijkstraInstance_generator(n)\n",
        "  g3=listT_to_matrix(g2, n)\n",
        "  t = repeat(setup=\"from __main__ import BellmanFord\", stmt=f\"BellmanFord({g},{n}, {len(g)},{0})\", repeat=1, number=10)\n",
        "  k = repeat(setup=\"from __main__ import Dijkstra\", stmt=f\"Dijkstra({g3},{len(g3)}, {0})\", repeat=1, number=10)\n",
        "  x.append(n)\n",
        "  y.append(t)\n",
        "  z.append(k)\n",
        "plt.plot(x,y)\n",
        "plt.plot(x,z)\n",
        "\n",
        "plt.legend([\"BellmanFord\",\"Dijkstra\"])\n",
        "plt.xlabel('Tamaño del grafo')\n",
        "plt.ylabel('Tiempo en ms')\n",
        "plt.show()"
      ],
      "metadata": {
        "id": "5I6hd6ZSnCJt",
        "colab": {
          "base_uri": "https://localhost:8080/",
          "height": 279
        },
        "outputId": "463b9788-3f89-42c2-f369-e5e7fd13dbc4"
      },
      "execution_count": 32,
      "outputs": [
        {
          "output_type": "display_data",
          "data": {
            "text/plain": [
              "<Figure size 432x288 with 1 Axes>"
            ],
            "image/png": "[encoded data removed]"
          },
          "metadata": {
            "needs_background": "light"
          }
        }
      ]
    },
    {
      "cell_type": "markdown",
      "source": [
        "**Análisis de los resultados**"
      ],
      "metadata": {
        "id": "Vw7HG7bbVfcM"
      }
    },
    {
      "cell_type": "markdown",
      "source": [
        "Como se puede apreciar los resultados, se puede apreciar que el algoritmo BellmanFord se coloca encima del dijkstra, esto se debe a que el tiempo de ejecución del Bellman posee una complejidad **O(VE)** y **O(V∧2)**, siendo la de **O(VE)** una complejidad menor ya que no siempre la cantidad de arcos y vertices son la misma."
      ],
      "metadata": {
        "id": "LdWvuc2JVjI7"
      }
    }
  ]
}