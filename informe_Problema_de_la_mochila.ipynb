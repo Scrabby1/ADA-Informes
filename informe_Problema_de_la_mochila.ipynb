{
  "nbformat": 4,
  "nbformat_minor": 0,
  "metadata": {
    "colab": {
      "provenance": [],
      "collapsed_sections": [
        "WTph_z-xHmTP",
        "Waoy5EzaA3Qp",
        "jUiQFsNeAwSH",
        "sLMTlTsrA7rZ"
      ],
      "toc_visible": true,
      "authorship_tag": "ABX9TyP6CGs99ZUQRXeLL2Nq5pLC",
      "include_colab_link": true
    },
    "kernelspec": {
      "name": "python3",
      "display_name": "Python 3"
    },
    "language_info": {
      "name": "python"
    }
  },
  "cells": [
    {
      "cell_type": "markdown",
      "metadata": {
        "id": "view-in-github",
        "colab_type": "text"
      },
      "source": [
        "<a href=\"https://colab.research.google.com/github/Scrabby1/ADA-Informes/blob/main/informe_Problema_de_la_mochila.ipynb\" target=\"_parent\"><img src=\"https://colab.research.google.com/assets/colab-badge.svg\" alt=\"Open In Colab\"/></a>"
      ]
    },
    {
      "cell_type": "markdown",
      "source": [
        "#1.Descripción del problema"
      ],
      "metadata": {
        "id": "_uSa9U_TAaOF"
      }
    },
    {
      "cell_type": "markdown",
      "source": [
        "**Entrada:** un valor **W** que representa la capacidad máxima de la mochila, un arreglo **val** con el precio de los objetos y otro arreglo con los pesos de los objetos **wt** ambos arreglos del mismo tamaño **n**, este tamaño también será recibido"
      ],
      "metadata": {
        "id": "nk2eQTzEBFvw"
      }
    },
    {
      "cell_type": "markdown",
      "source": [
        "**Salida:** El mayor costo que se puede acumular respetando la capacidad máxima"
      ],
      "metadata": {
        "id": "-7fkZ3mXCO6s"
      }
    },
    {
      "cell_type": "markdown",
      "source": [
        "Cuando hacemos un algoritmo para encontrar una solución, siempre se quiere encontrar la solución más eficiente de todas, este tipo de problema se llaman problemas de optimización, en este informe se vera la solución para encontrar el mayor precio que se puede almacenar en una mochila respetando su capacidad maxima, esto lo hará el algoritmo del problema de la mochila."
      ],
      "metadata": {
        "id": "PYJiiVh6DQ0j"
      }
    },
    {
      "cell_type": "markdown",
      "source": [
        "El tamaño del problema va a ser el tamaño de la entrada,en este caso sera el tamaño de los arreglos"
      ],
      "metadata": {
        "id": "y7rEQCL0DlA9"
      }
    },
    {
      "cell_type": "markdown",
      "source": [
        "#2.Problema de la mochila"
      ],
      "metadata": {
        "id": "ElfEMRCOAgUJ"
      }
    },
    {
      "cell_type": "markdown",
      "source": [
        "**Versión dinámica**"
      ],
      "metadata": {
        "id": "WAvKoqIwEkir"
      }
    },
    {
      "cell_type": "code",
      "source": [
        "import random\n",
        "\n",
        "def knapsack_instance_generator(N):\n",
        "  val = []\n",
        "  wt = []\n",
        "  prev_v = 0\n",
        "  prev_w = 0\n",
        "  for i in range(N):\n",
        "    v = random.randint(1, 100)\n",
        "    val.append(prev_v + v)\n",
        "    prev_v += v\n",
        "    \n",
        "    w = random.randint(1, 10)\n",
        "    wt.append(prev_w + w)\n",
        "    if (v >= 50):\n",
        "        prev_w += w\n",
        "\n",
        "  W = int(sum(wt) / 2)\n",
        "  return W, val, wt\n",
        "\n",
        "W, val, wt = knapsack_instance_generator(10)"
      ],
      "metadata": {
        "id": "l_nlnb55_qaA"
      },
      "execution_count": 1,
      "outputs": []
    },
    {
      "cell_type": "code",
      "execution_count": 2,
      "metadata": {
        "colab": {
          "base_uri": "https://localhost:8080/"
        },
        "id": "e3Jpx6HrdQKU",
        "outputId": "e475f04e-f3b3-496e-8b99-0a9eb73a85db"
      },
      "outputs": [
        {
          "output_type": "stream",
          "name": "stdout",
          "text": [
            "Precio maximo que cumple con la capacidad dada: 220\n",
            "cantidad de subproblemas: 204\n"
          ]
        }
      ],
      "source": [
        "subproblemas=0\n",
        "def mochila(W, wt, val, n,verbose=False):\n",
        "    K = [[0 for x in range(W + 1)] for x in range(n + 1)]\n",
        " \n",
        "    # construir la matriz K[][] desde abajo hacia arriba\n",
        "    if(verbose==True):\n",
        "      print(\"Se genera la matriz K\")\n",
        "    for i in range(n + 1):\n",
        "        for w in range(W + 1):\n",
        "            global subproblemas\n",
        "            subproblemas+=1\n",
        "            if i == 0 or w == 0:#caso base,cuando el peso es 0 o el objeto es nulo\n",
        "                if(verbose==True):\n",
        "                  print(\"el objeto entra en el caso base,su peso es 0 o directamente no hay objetos\")\n",
        "                K[i][w] = 0\n",
        "            elif wt[i-1] <= w:#caso donde el peso puede ser considerado parael valor maximo\n",
        "                if(verbose==True):\n",
        "                  print(\"entra en el caso comun\")\n",
        "                  print(\"El peso objeto:\",wt[i-1],\" es <= que la capacidad maxima\")\n",
        "                  print(\"Se comprueba el valor actual o los casos adyacentes a este\")\n",
        "                  print(\"valor actual:\",val[i-1] + K[i-1][w-wt[i-1]])\n",
        "                K[i][w] = max(val[i-1]\n",
        "                          + K[i-1][w-wt[i-1]], \n",
        "                              K[i-1][w])\n",
        "                if(verbose==True):\n",
        "                  print(\"Resultado calculado:\",K[i][w])\n",
        "            else:#caso donde el peso rebasa la capacidad maxima actual\n",
        "                if(verbose==True):\n",
        "                  print(\"El peso del objeto actual hace exceder la capacidad maxima,se debe tomar un valor adyascente\")\n",
        "                K[i][w] = K[i-1][w]\n",
        "                if(verbose==True):\n",
        "                  print(\"Resultado calculado:\",K[i][w])\n",
        "            if(verbose==True):\n",
        "              print(\"---------------------------------------------------------------------------------------------\")\n",
        "\n",
        "    \n",
        "    if(verbose==True):\n",
        "      print(\"Salida del algoritmo:\",K[n][W])\n",
        "    return K[n][W]\n",
        " \n",
        " \n",
        "#Ejemplo\n",
        "val = [60, 100, 120]\n",
        "wt = [10, 20, 30]\n",
        "W = 50\n",
        "n = len(val)\n",
        "subproblemas=0\n",
        "print(\"Precio maximo que cumple con la capacidad dada:\",mochila(W, wt, val, n))\n",
        "print(\"cantidad de subproblemas:\",subproblemas)"
      ]
    },
    {
      "cell_type": "markdown",
      "source": [
        "**Versión greedy**"
      ],
      "metadata": {
        "id": "zg3qTifiFLM5"
      }
    },
    {
      "cell_type": "code",
      "source": [
        "def partition(array,array2, low, high):#funcion encargada de ordenar segun un pivote\n",
        "    pivot = array[high]\n",
        "    i = low - 1\n",
        "    for j in range(low, high):\n",
        "        if array[j] <= pivot:\n",
        "            i = i + 1\n",
        "            (array[i], array[j]) = (array[j], array[i])\n",
        "            (array2[i], array2[j]) = (array2[j], array2[i])\n",
        "    (array2[i + 1], array2[high]) = (array2[high], array2[i + 1])\n",
        "    (array[i + 1], array[high]) = (array[high], array[i + 1])\n",
        "    return i + 1\n",
        "\n",
        "def quick_sort(array,array2, low, high):#Funcion encargada de ordenar los arreglos\n",
        "    if low < high:\n",
        "        pi = partition(array,array2, low, high)\n",
        "        quick_sort(array,array2, low, pi - 1)\n",
        "        quick_sort(array,array2, pi + 1, high)"
      ],
      "metadata": {
        "id": "KZbmqL6b2S8y"
      },
      "execution_count": 3,
      "outputs": []
    },
    {
      "cell_type": "code",
      "source": [
        "iteracion=0\n",
        "def mochilaGreedy(W, wt, val, n,verbose=False):\n",
        "    ratio=[0 for i in range(n)]#arreglo de proporciones\n",
        "    idx=[i for i in range(n)]#arreglo de indices\n",
        "    if(verbose==True):\n",
        "      print(\"Se inician ambos arreglos\")\n",
        "      print(\"Ratio:\",ratio)\n",
        "      print(\"Idx:\",idx)\n",
        "      print(\"---------------------------------------------------------------------------------------------\")\n",
        "\n",
        "    if(verbose==True):\n",
        "      print(\"Se calculan las proporciones para el arreglo ratio\")\n",
        "\n",
        "    for i in range(n):#Se colocan las proporciones\n",
        "      ratio[i]=val[i]/wt[i]\n",
        "\n",
        "    if(verbose==True):\n",
        "      print(\"Ratio:\",ratio)\n",
        "      print(\"---------------------------------------------------------------------------------------------\")\n",
        "      print(\"Se ordenara el arreglo idx a base de los indices de ratio ordenado\")\n",
        "\n",
        "    quick_sort(ratio,idx, 0, n-1)#se ordenan ambos arreglos\n",
        "    if(verbose==True):\n",
        "      print(\"Ratio:\",ratio)\n",
        "      print(\"idx:\",idx)\n",
        "      print(\"---------------------------------------------------------------------------------------------\")\n",
        "\n",
        "    if(verbose==True):\n",
        "      print(\"Se comprueba cuales objetos son aptos para la mochila\")\n",
        "\n",
        "\n",
        "    maxValue=0\n",
        "    for i in idx:#Se calcula el valor maximo\n",
        "      global iteracion\n",
        "      iteracion+=1\n",
        "      if(wt[i]<=W):\n",
        "        if(verbose==True):\n",
        "          print(\"objeto con valor \",val[i], \" y con peso \",wt[i])\n",
        "        maxValue+=val[i]\n",
        "        if(verbose==True):\n",
        "          print(\"valor maximo actual:\",maxValue)\n",
        "        W*=wt[i]\n",
        " \n",
        "    if(verbose==True):\n",
        "      print(\"---------------------------------------------------------------------------------------------\")\n",
        "      print(\"Salida del algoritmo:\",maxValue)\n",
        "    return maxValue\n",
        " \n",
        "\n",
        "val = [60, 100, 120]\n",
        "wt = [10, 20, 30]\n",
        "W = 50\n",
        "n = len(val)\n",
        "iteracion=0\n",
        "print(\"Precio maximo que cumple con la capacidad dada:\",mochilaGreedy(W, wt, val, n))\n",
        "print(\"Cantidad de iteraciones:\",iteracion)"
      ],
      "metadata": {
        "colab": {
          "base_uri": "https://localhost:8080/"
        },
        "id": "TPihpMMR2I5Z",
        "outputId": "fabcaee4-0deb-458e-8dc5-629d4ef964d4"
      },
      "execution_count": 4,
      "outputs": [
        {
          "output_type": "stream",
          "name": "stdout",
          "text": [
            "Precio maximo que cumple con la capacidad dada: 280\n",
            "Cantidad de iteraciones: 3\n"
          ]
        }
      ]
    },
    {
      "cell_type": "markdown",
      "source": [
        "##2.1.Descripciones de los algoritmos"
      ],
      "metadata": {
        "id": "DhCrB_kqFd57"
      }
    },
    {
      "cell_type": "markdown",
      "source": [
        "Los dos algoritmos poseen una subestructura optima la cual es la siguiente"
      ],
      "metadata": {
        "id": "NOydNtgNII2_"
      }
    },
    {
      "cell_type": "markdown",
      "source": [
        "![Captura de pantalla 2022-10-20 174257.png](data:image/png;base64,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)"
      ],
      "metadata": {
        "id": "bAVr-5P7IPdB"
      }
    },
    {
      "cell_type": "markdown",
      "source": [
        "Lo que nos explica esta forma es que depende de la clave actual **i** y peso actual **p**, el primer caso sería para valores nulos, el segundo caso sería cuando el peso actual supera a la capacidad que tenemos en ese momento,entonces se tomara el valor de la casilla anterior, en el tercer caso se va considerar el máximo entre el valor de la casilla anterior y la suma entre el peso previo y el valor del peso actual"
      ],
      "metadata": {
        "id": "2Cg8AsJSI6rF"
      }
    },
    {
      "cell_type": "markdown",
      "source": [
        "Como entrada, ambos algoritmos van a tener el arreglo de precios **val**, el arreglo de pesos **wt**, el tamaño de estos arreglos **n** y la capacidad de la mochila **w**"
      ],
      "metadata": {
        "id": "pRv1cdcGXQef"
      }
    },
    {
      "cell_type": "markdown",
      "source": [
        "**Versión dinámica**"
      ],
      "metadata": {
        "id": "y-2l5VJqNuXJ"
      }
    },
    {
      "cell_type": "markdown",
      "source": [
        "Este algoritmo opera dinamicamente a base de la subestructura optima.Primero vamos a crear la matriz **k** con dimensiones de **n+1** y **W+1**,esta va a ir alamcenando los valores maximos de cada subproblema"
      ],
      "metadata": {
        "id": "O0kOvzlsN-ca"
      }
    },
    {
      "cell_type": "markdown",
      "source": [
        "Se debe ir recorriendo la matriz, en la primera fila y columna se llenara de 0,luego se aplica la lógica de la subestructura optima y de ese modo se ira llenando la matriz"
      ],
      "metadata": {
        "id": "vXJMIvmCTZwI"
      }
    },
    {
      "cell_type": "markdown",
      "source": [
        "**Versión greedy**"
      ],
      "metadata": {
        "id": "Gw0Q3ZA3UzWr"
      }
    },
    {
      "cell_type": "markdown",
      "source": [
        "Para esta versión se ejecutan los siguientes pasos:\n",
        "\n",
        "A base de uno de los dos arreglos, obtener todos los índices de los objetos **idx** "
      ],
      "metadata": {
        "id": "2t0p0o1oU4Ye"
      }
    },
    {
      "cell_type": "markdown",
      "source": [
        "Se calcula el valor por peso de cada objeto y se guarda en un nuevo arreglo **ratio**"
      ],
      "metadata": {
        "id": "GsaQcEH2Wix0"
      }
    },
    {
      "cell_type": "markdown",
      "source": [
        "Se ordenan los índices **idx** segun el valor por el peso de manera ascendente **ratio**"
      ],
      "metadata": {
        "id": "22F-_cHMWoYD"
      }
    },
    {
      "cell_type": "markdown",
      "source": [
        "Se recorre los índices de **idx** y se van sumando a una variable que guardara el precio máximo"
      ],
      "metadata": {
        "id": "lWIw9vNhWvO1"
      }
    },
    {
      "cell_type": "markdown",
      "source": [
        "Al final los dos algoritmos van a retornar el precio máximo que respeta la capacidad de la mochila"
      ],
      "metadata": {
        "id": "-y7fbNszXGIn"
      }
    },
    {
      "cell_type": "markdown",
      "source": [
        "##2.2.Ejecución del algoritmo dinámico paso a paso (verbose=True)"
      ],
      "metadata": {
        "id": "Ook_UGnkFT6g"
      }
    },
    {
      "cell_type": "code",
      "source": [
        "W, val, wt = knapsack_instance_generator(3)\n",
        "print(\"Arreglo con valores:\",val)\n",
        "print(\"Arreglo con pesos:\",wt)\n",
        "print(\"capacidad maxima:\",W)\n",
        "a=mochila(W, wt, val, n,True)"
      ],
      "metadata": {
        "colab": {
          "base_uri": "https://localhost:8080/"
        },
        "id": "FcXD-lDqFjyH",
        "outputId": "09eaaae4-5372-45e2-8b8f-ec20f4cd1785"
      },
      "execution_count": null,
      "outputs": [
        {
          "output_type": "stream",
          "name": "stdout",
          "text": [
            "Arreglo con valores: [10, 35, 81]\n",
            "Arreglo con pesos: [2, 2, 7]\n",
            "capacidad maxima: 5\n",
            "Se genera la matriz K\n",
            "el objeto entra en el caso base,su peso es 0 o directamente no hay objetos\n",
            "---------------------------------------------------------------------------------------------\n",
            "el objeto entra en el caso base,su peso es 0 o directamente no hay objetos\n",
            "---------------------------------------------------------------------------------------------\n",
            "el objeto entra en el caso base,su peso es 0 o directamente no hay objetos\n",
            "---------------------------------------------------------------------------------------------\n",
            "el objeto entra en el caso base,su peso es 0 o directamente no hay objetos\n",
            "---------------------------------------------------------------------------------------------\n",
            "el objeto entra en el caso base,su peso es 0 o directamente no hay objetos\n",
            "---------------------------------------------------------------------------------------------\n",
            "el objeto entra en el caso base,su peso es 0 o directamente no hay objetos\n",
            "---------------------------------------------------------------------------------------------\n",
            "el objeto entra en el caso base,su peso es 0 o directamente no hay objetos\n",
            "---------------------------------------------------------------------------------------------\n",
            "El peso del objeto actual hace exceder la capacidad maxima,se debe tomar un valor adyascente\n",
            "Resultado calculado: 0\n",
            "---------------------------------------------------------------------------------------------\n",
            "entra en el caso comun\n",
            "El peso objeto: 2  es <= que la capacidad maxima\n",
            "Se comprueba el valor actual o los casos adyacentes a este\n",
            "valor actual: 10\n",
            "Resultado calculado: 10\n",
            "---------------------------------------------------------------------------------------------\n",
            "entra en el caso comun\n",
            "El peso objeto: 2  es <= que la capacidad maxima\n",
            "Se comprueba el valor actual o los casos adyacentes a este\n",
            "valor actual: 10\n",
            "Resultado calculado: 10\n",
            "---------------------------------------------------------------------------------------------\n",
            "entra en el caso comun\n",
            "El peso objeto: 2  es <= que la capacidad maxima\n",
            "Se comprueba el valor actual o los casos adyacentes a este\n",
            "valor actual: 10\n",
            "Resultado calculado: 10\n",
            "---------------------------------------------------------------------------------------------\n",
            "entra en el caso comun\n",
            "El peso objeto: 2  es <= que la capacidad maxima\n",
            "Se comprueba el valor actual o los casos adyacentes a este\n",
            "valor actual: 10\n",
            "Resultado calculado: 10\n",
            "---------------------------------------------------------------------------------------------\n",
            "el objeto entra en el caso base,su peso es 0 o directamente no hay objetos\n",
            "---------------------------------------------------------------------------------------------\n",
            "El peso del objeto actual hace exceder la capacidad maxima,se debe tomar un valor adyascente\n",
            "Resultado calculado: 0\n",
            "---------------------------------------------------------------------------------------------\n",
            "entra en el caso comun\n",
            "El peso objeto: 2  es <= que la capacidad maxima\n",
            "Se comprueba el valor actual o los casos adyacentes a este\n",
            "valor actual: 35\n",
            "Resultado calculado: 35\n",
            "---------------------------------------------------------------------------------------------\n",
            "entra en el caso comun\n",
            "El peso objeto: 2  es <= que la capacidad maxima\n",
            "Se comprueba el valor actual o los casos adyacentes a este\n",
            "valor actual: 35\n",
            "Resultado calculado: 35\n",
            "---------------------------------------------------------------------------------------------\n",
            "entra en el caso comun\n",
            "El peso objeto: 2  es <= que la capacidad maxima\n",
            "Se comprueba el valor actual o los casos adyacentes a este\n",
            "valor actual: 45\n",
            "Resultado calculado: 45\n",
            "---------------------------------------------------------------------------------------------\n",
            "entra en el caso comun\n",
            "El peso objeto: 2  es <= que la capacidad maxima\n",
            "Se comprueba el valor actual o los casos adyacentes a este\n",
            "valor actual: 45\n",
            "Resultado calculado: 45\n",
            "---------------------------------------------------------------------------------------------\n",
            "el objeto entra en el caso base,su peso es 0 o directamente no hay objetos\n",
            "---------------------------------------------------------------------------------------------\n",
            "El peso del objeto actual hace exceder la capacidad maxima,se debe tomar un valor adyascente\n",
            "Resultado calculado: 0\n",
            "---------------------------------------------------------------------------------------------\n",
            "El peso del objeto actual hace exceder la capacidad maxima,se debe tomar un valor adyascente\n",
            "Resultado calculado: 35\n",
            "---------------------------------------------------------------------------------------------\n",
            "El peso del objeto actual hace exceder la capacidad maxima,se debe tomar un valor adyascente\n",
            "Resultado calculado: 35\n",
            "---------------------------------------------------------------------------------------------\n",
            "El peso del objeto actual hace exceder la capacidad maxima,se debe tomar un valor adyascente\n",
            "Resultado calculado: 45\n",
            "---------------------------------------------------------------------------------------------\n",
            "El peso del objeto actual hace exceder la capacidad maxima,se debe tomar un valor adyascente\n",
            "Resultado calculado: 45\n",
            "---------------------------------------------------------------------------------------------\n",
            "Salida del algoritmo: 45\n"
          ]
        }
      ]
    },
    {
      "cell_type": "markdown",
      "source": [
        "##2.3.Ejecución del algoritmo greedy paso a paso (verbose=True)"
      ],
      "metadata": {
        "id": "WTph_z-xHmTP"
      }
    },
    {
      "cell_type": "code",
      "source": [
        "W, val, wt = knapsack_instance_generator(3)\n",
        "print(\"Arreglo con valores:\",val)\n",
        "print(\"Arreglo con pesos:\",wt)\n",
        "print(\"capacidad maxima:\",W)\n",
        "max=mochilaGreedy(W, wt, val, n,True)"
      ],
      "metadata": {
        "colab": {
          "base_uri": "https://localhost:8080/"
        },
        "id": "LRnmVPROHuRT",
        "outputId": "96d0b29a-affb-46f8-ec1e-3223970232d2"
      },
      "execution_count": null,
      "outputs": [
        {
          "output_type": "stream",
          "name": "stdout",
          "text": [
            "Arreglo con valores: [16, 104, 116]\n",
            "Arreglo con pesos: [6, 4, 5]\n",
            "capacidad maxima: 7\n",
            "Se inician ambos arreglos\n",
            "Ratio: [0, 0, 0]\n",
            "Idx: [0, 1, 2]\n",
            "---------------------------------------------------------------------------------------------\n",
            "Se calculan las proporciones para el arreglo ratio\n",
            "Ratio: [2.6666666666666665, 26.0, 23.2]\n",
            "---------------------------------------------------------------------------------------------\n",
            "Se ordenara el arreglo idx a base de los indices de ratio ordenado\n",
            "Ratio: [2.6666666666666665, 23.2, 26.0]\n",
            "idx: [0, 2, 1]\n",
            "---------------------------------------------------------------------------------------------\n",
            "Se comprueba cuales objetos son aptos para la mochila\n",
            "objeto con valor  16  y con peso  6\n",
            "valor maximo actual: 16\n",
            "objeto con valor  116  y con peso  5\n",
            "valor maximo actual: 132\n",
            "objeto con valor  104  y con peso  4\n",
            "valor maximo actual: 236\n",
            "---------------------------------------------------------------------------------------------\n",
            "Salida del algoritmo: 236\n"
          ]
        }
      ]
    },
    {
      "cell_type": "markdown",
      "source": [
        "#3.Correctitud"
      ],
      "metadata": {
        "id": "Waoy5EzaA3Qp"
      }
    },
    {
      "cell_type": "markdown",
      "source": [
        "##3.1.Correctitud algoritmo dinámico"
      ],
      "metadata": {
        "id": "InM6ab7FiV6G"
      }
    },
    {
      "cell_type": "markdown",
      "source": [
        "**Teorema (correctitud)**"
      ],
      "metadata": {
        "id": "fAD8Gg4vifgj"
      }
    },
    {
      "cell_type": "markdown",
      "source": [
        "El algoritmo entrega el precio máximo que respeta la capacidad **w** para dos arreglos de tamaño **n** considerando, uno siendo los valores y el otro el peso de los objetos."
      ],
      "metadata": {
        "id": "onIWu1AWizne"
      }
    },
    {
      "cell_type": "markdown",
      "source": [
        "**Prueba del teorema**"
      ],
      "metadata": {
        "id": "gTL0zAZpmLAY"
      }
    },
    {
      "cell_type": "markdown",
      "source": [
        "Para probar el teorema se utilizara la propiedad invariante del bucle la cual es la siguiente:"
      ],
      "metadata": {
        "id": "XSwIUmTWm-tw"
      }
    },
    {
      "cell_type": "markdown",
      "source": [
        "Al comienzo de la i-ésima iteración,el elemento K[i][w] siempre almacenará el máximo valor posible del subproblema actual"
      ],
      "metadata": {
        "id": "rmYAzszQooyR"
      }
    },
    {
      "cell_type": "markdown",
      "source": [
        "**Inicialización**"
      ],
      "metadata": {
        "id": "g7HI68abqZjB"
      }
    },
    {
      "cell_type": "markdown",
      "source": [
        "Antes de la primera iteración, la matriz **K** es inicializada solo con ceros. Lo que significa que la posición **K[i][w]**, tendrá el valor máximo posible "
      ],
      "metadata": {
        "id": "XLb8hYw2qgxC"
      }
    },
    {
      "cell_type": "markdown",
      "source": [
        "**Mantención**"
      ],
      "metadata": {
        "id": "x-eFWQJRrKKq"
      }
    },
    {
      "cell_type": "markdown",
      "source": [
        "Durante la i-ésima iteración pueden ocurrir dos casos:"
      ],
      "metadata": {
        "id": "mU_lKp6LrPUS"
      }
    },
    {
      "cell_type": "markdown",
      "source": [
        "Si **pesos[i-1]** es menor o igual que **K[i][w]** almacenará el máximo valor entre **valores[i-1]+K[i-1][w-pesos[i-1]]** y **K[i-1][w]**. "
      ],
      "metadata": {
        "id": "Ee7dsMjitYHr"
      }
    },
    {
      "cell_type": "markdown",
      "source": [
        "Si **pesos[i-1]** es mayor que **K[i][w]** almacenará el máximo valor encontrado anteriormente, ósea, **K[i-1][w]**."
      ],
      "metadata": {
        "id": "YIbxCxArvrmE"
      }
    },
    {
      "cell_type": "markdown",
      "source": [
        "Como el algoritmo es correcto durante su inicialización y mantención este algoritmo es correcto"
      ],
      "metadata": {
        "id": "aD1ztouZwQ3U"
      }
    },
    {
      "cell_type": "markdown",
      "source": [
        "##3.2.¿Porque la versión Greedy no es correcta?"
      ],
      "metadata": {
        "id": "cBoHCtUiwmLG"
      }
    },
    {
      "cell_type": "markdown",
      "source": [
        "Este algoritmo no es correcto debido a que no retorna el resultado óptimo"
      ],
      "metadata": {
        "id": "XXCkTNJiwxE9"
      }
    },
    {
      "cell_type": "markdown",
      "source": [
        "La razón de esto es que efectivamente si guarda un valor máximo para el caso actual. Pero si el algoritmo se encuentra con un objeto que tiene un peso que supera la capacidad máxima, va a dejar de funcionar, cuando se ha saltado objetos que podrían haber sido agregados"
      ],
      "metadata": {
        "id": "rznP6vQtxeQN"
      }
    },
    {
      "cell_type": "markdown",
      "source": [
        "#4.Tiempo de ejecución"
      ],
      "metadata": {
        "id": "jUiQFsNeAwSH"
      }
    },
    {
      "cell_type": "markdown",
      "source": [
        "##4.1.Algoritmo dinámico"
      ],
      "metadata": {
        "id": "CTeAYHt5AwaJ"
      }
    },
    {
      "cell_type": "markdown",
      "source": [
        "El peor y el mejor caso tiene complejidad **O(N*W)**"
      ],
      "metadata": {
        "id": "fbrfqRbmy_7H"
      }
    },
    {
      "cell_type": "markdown",
      "source": [
        "Siendo **n** la cantidad de objetos y **w** la capacidad máxima."
      ],
      "metadata": {
        "id": "zFVMINOp0Dj3"
      }
    },
    {
      "cell_type": "markdown",
      "source": [
        "En el caso de nuestra implementación pasaran los siguientes pasos: "
      ],
      "metadata": {
        "id": "IQYhF17p1V4A"
      }
    },
    {
      "cell_type": "markdown",
      "source": [
        "Se crea una matriz de **n+1** filas y **w+1** columnas esto es complejidad **O(N*W)**"
      ],
      "metadata": {
        "id": "tQiJ10VE1e4A"
      }
    },
    {
      "cell_type": "markdown",
      "source": [
        "Los ciclos **for** iterando en las filas tienen complejidad **O(N)**"
      ],
      "metadata": {
        "id": "gav8KwI-1ryn"
      }
    },
    {
      "cell_type": "markdown",
      "source": [
        "Los ciclos **for** iterando en las columnas tiene **O(W)**"
      ],
      "metadata": {
        "id": "DftIQLL92DcY"
      }
    },
    {
      "cell_type": "markdown",
      "source": [
        "Crear un arreglo vacío e insertar datos en ese mismo arreglo tiene complejidad **O(1)**"
      ],
      "metadata": {
        "id": "bCb8SkH_2koI"
      }
    },
    {
      "cell_type": "markdown",
      "source": [
        "De todas estas complejidades la mayor de ellas es la de la matriz, siendo esta **O(N*W)**,por lo tanto la complejidad de este algoritmo va a ser esa."
      ],
      "metadata": {
        "id": "Dm2pGfA_2wlw"
      }
    },
    {
      "cell_type": "markdown",
      "source": [
        "##4.2.Algoritmo greedy"
      ],
      "metadata": {
        "id": "UA3XysSoA1lh"
      }
    },
    {
      "cell_type": "markdown",
      "source": [
        "Analicemos el algoritmo"
      ],
      "metadata": {
        "id": "5jK1yjtvA7tf"
      }
    },
    {
      "cell_type": "markdown",
      "source": [
        "Este algoritmo crea dos arreglos de tamaño **n**, eso tiene complejidad **O(N)**\n"
      ],
      "metadata": {
        "id": "epr9IkLLLOYy"
      }
    },
    {
      "cell_type": "markdown",
      "source": [
        "Luego se le agregan los datos a **ratio**, esto tiene complejidad **O(N)**"
      ],
      "metadata": {
        "id": "vJVs0ZUaLZF8"
      }
    },
    {
      "cell_type": "markdown",
      "source": [
        "Después se realiza un ordenamiento de los datos en general, esto posee complejidad **O(N*log(N))**"
      ],
      "metadata": {
        "id": "v6rC1-VgNV5N"
      }
    },
    {
      "cell_type": "markdown",
      "source": [
        "Luego buscar el máximo es recorrer en un ciclo iterativo, esto posee complejidad **O(N)**"
      ],
      "metadata": {
        "id": "YTAb3_6KNqcH"
      }
    },
    {
      "cell_type": "markdown",
      "source": [
        "Como nuestra mayor complejidad es la del ordenamiento, esta nos dará la complejidad del algoritmo, la cual es **O(N*log(N))**"
      ],
      "metadata": {
        "id": "RUJtcI4EOAs2"
      }
    },
    {
      "cell_type": "markdown",
      "source": [
        "Cabe destacar que, si al algoritmo le pasamos los arreglos ya ordenados, su complejidad se verá reducida a **O(N)**"
      ],
      "metadata": {
        "id": "osuPczHiOfDm"
      }
    },
    {
      "cell_type": "markdown",
      "source": [
        "#5.Experimentos"
      ],
      "metadata": {
        "id": "sLMTlTsrA7rZ"
      }
    },
    {
      "cell_type": "markdown",
      "source": [
        "A continuación se mostraran los experimentos realizados"
      ],
      "metadata": {
        "id": "gOqMr6GDOqcq"
      }
    },
    {
      "cell_type": "markdown",
      "source": [
        "##5.1.Tiempos de ambos algoritmos"
      ],
      "metadata": {
        "id": "tGtPO6z8QcTU"
      }
    },
    {
      "cell_type": "code",
      "source": [
        "import math\n",
        "import matplotlib.pyplot as plt\n",
        "import datetime\n",
        "from timeit import repeat\n",
        "\n",
        "x=[];\n",
        "y=[];\n",
        "z=[];\n",
        "for n in range(5,50):\n",
        "  W, val, wt = knapsack_instance_generator(n)\n",
        "  t = repeat(setup=\"from __main__ import mochila\", stmt=f\"mochila({W},{wt}, {val},{n})\", repeat=1, number=10)\n",
        "  k = repeat(setup=\"from __main__ import mochilaGreedy\", stmt=f\"mochilaGreedy({W},{wt}, {val},{n},{False})\", repeat=1, number=10)\n",
        "  x.append(n)\n",
        "  y.append(t)\n",
        "  z.append(k)\n",
        "plt.plot(x,y)\n",
        "plt.plot(x,z)\n",
        "\n",
        "plt.legend([\"Dinamico\",\"Greedy\"])\n",
        "plt.xlabel('Tamaño del arreglo')\n",
        "plt.ylabel('Tiempo en ms')\n",
        "plt.show()"
      ],
      "metadata": {
        "colab": {
          "base_uri": "https://localhost:8080/",
          "height": 279
        },
        "id": "kEsvPU0YPBZv",
        "outputId": "5853b30c-100a-4449-b9cf-226a1634d3b4"
      },
      "execution_count": 5,
      "outputs": [
        {
          "output_type": "display_data",
          "data": {
            "text/plain": [
              "<Figure size 432x288 with 1 Axes>"
            ],
            "image/png": "[encoded data removed]"
          },
          "metadata": {
            "needs_background": "light"
          }
        }
      ]
    },
    {
      "cell_type": "markdown",
      "source": [
        "**Análisis del experimento**"
      ],
      "metadata": {
        "id": "cVU5RcIuQ37Y"
      }
    },
    {
      "cell_type": "markdown",
      "source": [
        "Se puede apreciar que el dinámico crece muchísimo más en comparación al greedy, esto ocurre debido a que la versión dinámica tiene que hacer una matriz que tiene complejidad **O(N*W)** mientras que la función más larga del greedy es el ordenamiento con el quicksort, este tiene complejidad **O(N*log(N))**"
      ],
      "metadata": {
        "id": "LjhH_WIk_jZc"
      }
    },
    {
      "cell_type": "markdown",
      "source": [
        "##5.2.Cantidad de iteraciones/subproblemas"
      ],
      "metadata": {
        "id": "yM-2BpplQ67t"
      }
    },
    {
      "cell_type": "code",
      "source": [
        "import math\n",
        "import matplotlib.pyplot as plt\n",
        "\n",
        "x=[n for n in range(5,50)]\n",
        "y=[];\n",
        "z=[];\n",
        "for n in range(5,50):\n",
        "  W, val, wt = knapsack_instance_generator(n)\n",
        "\n",
        "  subproblemas=0\n",
        "  mochila(W,wt,val,len(val))\n",
        "\n",
        "  iteracion=0\n",
        "  mochilaGreedy(W,wt,val,len(val))\n",
        "\n",
        "  y.append(subproblemas)\n",
        "  z.append(iteracion)\n",
        "plt.plot(x,y)\n",
        "plt.plot(x,z)\n",
        "\n",
        "plt.legend([\"Dinamico\",\"Greedy\"])\n",
        "plt.xlabel('Tamaño del arreglo')\n",
        "plt.ylabel('cantidad de iteraciones/subproblemas')\n",
        "plt.show()"
      ],
      "metadata": {
        "colab": {
          "base_uri": "https://localhost:8080/",
          "height": 279
        },
        "id": "KFv7VVBQREH7",
        "outputId": "1a2a6e48-479b-40de-d984-edee6b371a01"
      },
      "execution_count": 6,
      "outputs": [
        {
          "output_type": "display_data",
          "data": {
            "text/plain": [
              "<Figure size 432x288 with 1 Axes>"
            ],
            "image/png": "[encoded data removed]"
          },
          "metadata": {
            "needs_background": "light"
          }
        }
      ]
    },
    {
      "cell_type": "markdown",
      "source": [
        "**Análisis de los resultados**"
      ],
      "metadata": {
        "id": "2rJcJAlLRDH6"
      }
    },
    {
      "cell_type": "markdown",
      "source": [
        "Al igual que el experimento anterior se puede notar que el dinámico está muy por arriba del greedy, esto ocurre ya que, para una capacidad enorme, se tiene que resolver una enorme cantidad de subproblemas, mientras que greedy hace una cantidad de iteraciones equivalente al tamaño de los arreglos"
      ],
      "metadata": {
        "id": "FYJ7o8W5m74y"
      }
    },
    {
      "cell_type": "markdown",
      "source": [
        "##5.3.Valores de los items alcanzados"
      ],
      "metadata": {
        "id": "UA3qEZvond8s"
      }
    },
    {
      "cell_type": "code",
      "source": [
        "import math\n",
        "import matplotlib.pyplot as plt\n",
        "\n",
        "x=[n for n in range(5,50)]\n",
        "y=[];\n",
        "z=[];\n",
        "for n in range(5,50):\n",
        "  W, val, wt = knapsack_instance_generator(n)\n",
        "\n",
        "  a=mochila(W,wt,val,len(val))\n",
        "\n",
        "\n",
        "  b=mochilaGreedy(W,wt,val,len(val))\n",
        "\n",
        "  y.append(a)\n",
        "  z.append(b)\n",
        "plt.plot(x,y)\n",
        "plt.plot(x,z)\n",
        "\n",
        "plt.legend([\"Dinamico\",\"Greedy\"])\n",
        "plt.xlabel('Tamaño del arreglo')\n",
        "plt.ylabel('valores obtenidos')\n",
        "plt.show()"
      ],
      "metadata": {
        "colab": {
          "base_uri": "https://localhost:8080/",
          "height": 279
        },
        "id": "qcG0FYx7oHvF",
        "outputId": "b1253c2c-3635-4428-d499-7e7416d47b1d"
      },
      "execution_count": 7,
      "outputs": [
        {
          "output_type": "display_data",
          "data": {
            "text/plain": [
              "<Figure size 432x288 with 1 Axes>"
            ],
            "image/png": "[encoded data removed]"
          },
          "metadata": {
            "needs_background": "light"
          }
        }
      ]
    },
    {
      "cell_type": "markdown",
      "source": [
        "**Análisis de los resultados**"
      ],
      "metadata": {
        "id": "f1A5WQI_n4Tx"
      }
    },
    {
      "cell_type": "markdown",
      "source": [
        "Para poder analizar estos resultados debemos saber que el algoritmo greedy no es correcto, por lo tanto, esto nos puede inducir a errores en los resultados. Si apreciamos los gráficos, podemos notar que el algoritmo greedy se mantiene por arriba de los del dinámico la mayor parte, esto prueba que no es correcto ya que el dinámico no falla nunca"
      ],
      "metadata": {
        "id": "U2UdScvZqAld"
      }
    }
  ]
}