{
  "nbformat": 4,
  "nbformat_minor": 0,
  "metadata": {
    "colab": {
      "provenance": [],
      "toc_visible": true,
      "collapsed_sections": [
        "zSZAr99rXv9b",
        "197UOqPGXC4T",
        "QBCcskp8Q0eY",
        "9diq1G0OP5ZI",
        "4bmtNl_Mfm5C",
        "vlxPRS3OnPMO",
        "uJPwdVP8acKe",
        "jlk-7dK1aq91",
        "VASJMlSMBv9k",
        "iQ2RCX5chTHX",
        "5L7OEOcqpTYr"
      ],
      "authorship_tag": "ABX9TyMdsnHXQt/P7EXa3tUzCbdp",
      "include_colab_link": true
    },
    "kernelspec": {
      "name": "python3",
      "display_name": "Python 3"
    },
    "language_info": {
      "name": "python"
    }
  },
  "cells": [
    {
      "cell_type": "markdown",
      "metadata": {
        "id": "view-in-github",
        "colab_type": "text"
      },
      "source": [
        "<a href=\"https://colab.research.google.com/github/Scrabby1/ADA-Informes/blob/main/Informe_quickSort.ipynb\" target=\"_parent\"><img src=\"https://colab.research.google.com/assets/colab-badge.svg\" alt=\"Open In Colab\"/></a>"
      ]
    },
    {
      "cell_type": "markdown",
      "source": [
        "# 1.Descripción del problema"
      ],
      "metadata": {
        "id": "zSZAr99rXv9b"
      }
    },
    {
      "cell_type": "markdown",
      "source": [
        "Muchos algoritmos son creados con el propósito de solucionar los problemas de ordenamiento, los cuales han existido desde que se empezaron a desarrollar las tecnologías computacionales. Un algoritmo creado para solucionar este problema es el algoritmo de QuickSort."
      ],
      "metadata": {
        "id": "IXJKTO0mX9BZ"
      }
    },
    {
      "cell_type": "markdown",
      "source": [
        "El tamaño del problema es el tamaño de la entrada que recibe, en este caso va a ser el tamaño del arreglo."
      ],
      "metadata": {
        "id": "1MmVH87oY0OR"
      }
    },
    {
      "cell_type": "markdown",
      "source": [
        "# 2.QuickSort"
      ],
      "metadata": {
        "id": "197UOqPGXC4T"
      }
    },
    {
      "cell_type": "markdown",
      "source": [
        "A continuación se presentara la implementación de QuickSort"
      ],
      "metadata": {
        "id": "sOY6GcqrXGm5"
      }
    },
    {
      "cell_type": "code",
      "source": [
        "import numpy as np\n",
        "import random\n",
        "cont=0\n",
        "cont2=0\n",
        "cont3=0\n",
        "\n",
        "def swap(a,i,j):\n",
        "  aux=a[i]\n",
        "  a[i]=a[j]\n",
        "  a[j]=aux\n",
        "\n",
        "def partitionMid(a,low,high): #funcion partition que elige de pivote la mediana de un arreglo de 3 elementos\n",
        "  aux=np.random.choice(a,size=3,replace=True)\n",
        "  aux.sort()\n",
        "  mid=len(aux)//2\n",
        "  global cont2\n",
        "  for i in range(len(a)):\n",
        "    if(a[i]==aux[mid]):\n",
        "      swap(a,i,len(a)-1)\n",
        "      break\n",
        "  low=0\n",
        "  high=len(a)-1\n",
        "  pivote=a[high]\n",
        "  piInd=low\n",
        "  for i in range(low,high):\n",
        "    if(a[i]<=pivote):\n",
        "      swap(a,i,piInd)\n",
        "      piInd+=1\n",
        "      cont2+=1\n",
        "    cont2+=1\n",
        "  swap(a,high,piInd)\n",
        "\n",
        "  return piInd\n",
        "\n",
        "\n",
        "\n",
        "def partitionLow(a,low,high): #funcion partition que tiene como pivote el primer elemento del arreglo\n",
        "  pivote=a[low]\n",
        "  low2=low+1\n",
        "  high2=high\n",
        "  global cont3\n",
        "  while(True):\n",
        "    while(low2<=high2 and a[high2]>=pivote):\n",
        "      high2-=1\n",
        "      cont3+=1\n",
        "    while(low2<=high2 and a[low2]<=pivote):\n",
        "      low2+=1\n",
        "      cont3+=1\n",
        "    if(low2<=high2):\n",
        "      a[low2],a[high2]=a[high2],a[low2]\n",
        "      cont3+=1\n",
        "    else:\n",
        "      break\n",
        "  a[low],a[high2]=a[high2],a[low]\n",
        "  return high2\n",
        "\n",
        "def partitionHigh(a,low,high,verbose): #funcion partition que tiene como pivote el ultimo elemento del arreglo\n",
        "  if(verbose==True):\n",
        "    print(\"Se ingresa a la funcion partition\")\n",
        "\n",
        "  pivote=a[high]\n",
        "  piInd=low\n",
        "  global cont\n",
        "  for i in range(low,high):\n",
        "    if(a[i]<=pivote):\n",
        "      swap(a,i,piInd)\n",
        "      piInd+=1\n",
        "      cont+=1\n",
        "    cont+=1\n",
        "  swap(a,high,piInd)\n",
        "  if(verbose==True):\n",
        "    print(\"Se obtiene de pivote: \",a[piInd])\n",
        "    print(\"y el nuevo arreglo es:\",a)\n",
        "    print(\"-----------------------------------------\")\n",
        "  return piInd\n",
        "\n",
        "\n",
        "def quickSort(a,low,high,caso,verbose=False): #Funcion principal del algoritmo\n",
        "  if(low>=high):\n",
        "    return\n",
        "  if(caso==1): #dependiendo de la variable caso,se eligira la ubicacion del pivote\n",
        "    pa=partitionHigh(a,low,high,verbose)\n",
        "    global cont\n",
        "    cont+=1\n",
        "  if(caso==2):\n",
        "    pa=partitionLow(a,low,high)\n",
        "    global cont3\n",
        "    cont3+=1\n",
        "  if(caso==3):\n",
        "    pa=partitionMid(a,low,high)\n",
        "    global cont2\n",
        "    cont2+=1\n",
        "  if(verbose==True):\n",
        "    print(\"Sub-arreglos segun el pivote:\")\n",
        "    print(\"Izquierda del pivote\",a[low:pa])\n",
        "    print(\"Derecha del pivote\",a[pa+1:high+1])\n",
        "    print(\"Se realiza las llamadas recursivas para los sub arreglos\")\n",
        "    print(\"*****************************************\")\n",
        "\n",
        "  quickSort(a,low,pa-1,caso,verbose) #llamadas recursivas\n",
        "  quickSort(a,pa+1,high,caso,verbose)\n",
        "\n",
        "#Ejemplo\n",
        "\n",
        "a=[9, -3, 5, 2, 6, 8, -6, 1, 3]\n",
        "caso=1\n",
        "print(\"Arreglo de entrada:\",a)\n",
        "print(\"-----------------------------------------\")\n",
        "quickSort(a, 0, len(a) - 1,caso)\n",
        "print(\"Arreglo de salida:\",a)\n",
        "print(\"cantidad de comparaciones:\")\n",
        "if(caso==1):\n",
        "  print(cont)\n",
        "if(caso==2):\n",
        "  print(cont3)\n",
        "if(caso==3):\n",
        "  print(cont2)"
      ],
      "metadata": {
        "id": "KiBOzVa-X30X",
        "colab": {
          "base_uri": "https://localhost:8080/"
        },
        "outputId": "8991b5a2-033b-4cd9-83a2-4d6a60ab7b3f"
      },
      "execution_count": 106,
      "outputs": [
        {
          "output_type": "stream",
          "name": "stdout",
          "text": [
            "Arreglo de entrada: [9, -3, 5, 2, 6, 8, -6, 1, 3]\n",
            "-----------------------------------------\n",
            "Arreglo de salida: [-6, -3, 1, 2, 3, 5, 6, 8, 9]\n",
            "cantidad de comparaciones:\n",
            "28\n"
          ]
        }
      ]
    },
    {
      "cell_type": "markdown",
      "source": [
        "## 2.1.Descripción del algoritmo"
      ],
      "metadata": {
        "id": "QBCcskp8Q0eY"
      }
    },
    {
      "cell_type": "markdown",
      "source": [
        "El algoritmo quicksort recibe como entrada un arreglo **a**, el primer índice **low** y su ultimo índice **high**, este algoritmo utiliza el paradigma del divide y venceras que consiste en ir dividiendo el arreglo y solucinar los problemas cuando el arreglo es pequeño, en este caso el problema es ordenar el arreglo."
      ],
      "metadata": {
        "id": "PMgg0d5RQ9_S"
      }
    },
    {
      "cell_type": "markdown",
      "source": [
        "Para poder hacer el paradigma se utiliza de manera recursiva, este arreglo se basa en la eleccion de un pivote y a base de ese pivote ir ordenando el arreglo, esto lo consigue con dos funciones:la principal es quickSort que se encarga de dividir el arreglo y la función partition que se encarga de seleccionar el pivote y reorganizar el arreglo"
      ],
      "metadata": {
        "id": "JXEgt8SNSqsM"
      }
    },
    {
      "cell_type": "markdown",
      "source": [
        "La función partition para realizar su función recibe el índice inicial **low** y final **high** del arreglo **a**, cuando se entra en la función esta escoge un pivote, la elección para las explicaciones que haremos en este informe será el último elemento **a[high]**, una vez escogido el pivote la idea será organizar el arreglo recibido a base de este pivote, se debe organizar dejando los elementos a la izquierda del pivote que sean menores al pivote y a la derecha se tendrán los elementos mayores que el pivote, esta acción se lleva a cabo realizando intercambios de elementos usando la función swap, una vez organizado se retornara el índice del pivote."
      ],
      "metadata": {
        "id": "YeOxwdOnT3BF"
      }
    },
    {
      "cell_type": "markdown",
      "source": [
        "La función quickSort retorna el mismo arreglo si este es muy pequeño, si no ocurre ese caso se llama a la función partition para obtener el pivote y una vez realizado esto se llama la función quicksort de manera recursiva para reorganizar el arreglo desde la parte izquierda del pivote y la derecha del pivote."
      ],
      "metadata": {
        "id": "DflitxitVjqg"
      }
    },
    {
      "cell_type": "markdown",
      "source": [
        "Al final como salida vamos a tener el arreglo **a** con todos sus elementos ordenados de menor a mayor."
      ],
      "metadata": {
        "id": "hsJcj0b6aJUS"
      }
    },
    {
      "cell_type": "markdown",
      "source": [
        "###2.2.Ejemplo de la función partition"
      ],
      "metadata": {
        "id": "9diq1G0OP5ZI"
      }
    },
    {
      "cell_type": "markdown",
      "source": [
        "Consideremos el siguiente arreglo: **a=[2,8,7,1,3,5,6,4]**"
      ],
      "metadata": {
        "id": "Yg46JYYYQNmw"
      }
    },
    {
      "cell_type": "markdown",
      "source": [
        "Nuestra variables **low** y **high** seran los índices 0 y 7 respectivamente"
      ],
      "metadata": {
        "id": "oNLM27ewTN2j"
      }
    },
    {
      "cell_type": "markdown",
      "source": [
        "Nuestro **pivote** sera 4"
      ],
      "metadata": {
        "id": "gWy_0KX3S3cL"
      }
    },
    {
      "cell_type": "markdown",
      "source": [
        "La variable **piInd** sera el índice **low**"
      ],
      "metadata": {
        "id": "t1eG3ShvTZgq"
      }
    },
    {
      "cell_type": "markdown",
      "source": [
        "**i=0**, **a[i]=2** y **pivote = 4**"
      ],
      "metadata": {
        "id": "dfufIKP1UqU0"
      }
    },
    {
      "cell_type": "markdown",
      "source": [
        "Como la posición actual es menor al pivote se realiza un intercambio entre la posición que contiene **piInd** y **i**, en este caso no ocurre un cambio debido a que son la misma posición, pero piInd se incrementa **piInd=1**"
      ],
      "metadata": {
        "id": "mmLKeiaBVBnk"
      }
    },
    {
      "cell_type": "markdown",
      "source": [
        "**a=[2,8,7,1,3,5,6,4]**"
      ],
      "metadata": {
        "id": "BlyzpdEpWfHK"
      }
    },
    {
      "cell_type": "markdown",
      "source": [
        "**i=1**, **a[i]=8**"
      ],
      "metadata": {
        "id": "IhGM8rJcVp8Q"
      }
    },
    {
      "cell_type": "markdown",
      "source": [
        "La posición actual no es menor por lo que no ocurre un intercambio"
      ],
      "metadata": {
        "id": "O83vmutpWY-Z"
      }
    },
    {
      "cell_type": "markdown",
      "source": [
        "**a=[2,8,7,1,3,5,6,4]**"
      ],
      "metadata": {
        "id": "H2MYsLQzWf2S"
      }
    },
    {
      "cell_type": "markdown",
      "source": [
        "**i=2**, **a[i]=7**"
      ],
      "metadata": {
        "id": "kyWLqABDWjVL"
      }
    },
    {
      "cell_type": "markdown",
      "source": [
        "La posición actual no es menor por lo que no ocurre un intercambio"
      ],
      "metadata": {
        "id": "6NPZ9gpKWm_l"
      }
    },
    {
      "cell_type": "markdown",
      "source": [
        "**a=[2,8,7,1,3,5,6,4]**"
      ],
      "metadata": {
        "id": "6KE5LqC9W3V8"
      }
    },
    {
      "cell_type": "markdown",
      "source": [
        "**i=3**, **a[i]=1**"
      ],
      "metadata": {
        "id": "4UeESwhjWue5"
      }
    },
    {
      "cell_type": "markdown",
      "source": [
        "La posición actual es menor al pivote por lo que se realiza un intercambio entre la posición que tiene piInd y i, en este caso serán **a[piInd]=8** y **a[i]=1** y se incrementa piInd, **piInd=2**"
      ],
      "metadata": {
        "id": "5somNSjIW9oK"
      }
    },
    {
      "cell_type": "markdown",
      "source": [
        "**a=[2,1,7,8,3,5,6,4]**"
      ],
      "metadata": {
        "id": "jwWvMpl4XkBr"
      }
    },
    {
      "cell_type": "markdown",
      "source": [
        "**i=4**, **a[i]=3**"
      ],
      "metadata": {
        "id": "oLdp1uVTXuRa"
      }
    },
    {
      "cell_type": "markdown",
      "source": [
        "La posición actual es menor que el pivote, por lo que se debe hacer un intercambio entre la posición que tiene piInd y i, en este caso serán **a[piInd]=7** y **a[i]=3**. Se incrementa piInd, **piInd=3**"
      ],
      "metadata": {
        "id": "y_XgoQ1CXyVL"
      }
    },
    {
      "cell_type": "markdown",
      "source": [
        "**a=[2,1,3,8,7,5,6,4]**"
      ],
      "metadata": {
        "id": "-O-n0ckbcewm"
      }
    },
    {
      "cell_type": "markdown",
      "source": [
        "**i=5**, **a[i]=5**"
      ],
      "metadata": {
        "id": "WcLi8zLacuO_"
      }
    },
    {
      "cell_type": "markdown",
      "source": [
        "La posición actual no es menor por lo que no ocurre un intercambio\n"
      ],
      "metadata": {
        "id": "0R8hjyyOczbk"
      }
    },
    {
      "cell_type": "markdown",
      "source": [
        "**a=[2,1,3,8,7,5,6,4]**"
      ],
      "metadata": {
        "id": "gPQKcRASc9Nf"
      }
    },
    {
      "cell_type": "markdown",
      "source": [
        "**i=6**, **a[i]=6**"
      ],
      "metadata": {
        "id": "jgoVL_2IdA61"
      }
    },
    {
      "cell_type": "markdown",
      "source": [
        "La posición actual no es menor por lo que no ocurre un intercambio"
      ],
      "metadata": {
        "id": "ZyCnZ2O6c-pb"
      }
    },
    {
      "cell_type": "markdown",
      "source": [
        "Al final del ciclo iterativo ocurre un intercambio entre piInd y el pivote, como arreglo vamos a tener"
      ],
      "metadata": {
        "id": "Fc_2q9vbdlK3"
      }
    },
    {
      "cell_type": "markdown",
      "source": [
        "**a=[2,1,3,4,7,5,6,8]**"
      ],
      "metadata": {
        "id": "EhD4FgGKfKT6"
      }
    },
    {
      "cell_type": "markdown",
      "source": [
        "###2.3.Ejemplo QuickSort"
      ],
      "metadata": {
        "id": "4bmtNl_Mfm5C"
      }
    },
    {
      "cell_type": "markdown",
      "source": [
        "Tomemos el siguiente arreglo: **a=[9, -3, 5, 2, 6, 8, -6, 1, 3]**"
      ],
      "metadata": {
        "id": "2LWRykXpf_3B"
      }
    },
    {
      "cell_type": "markdown",
      "source": [
        "Se obtiene el primer pivote el cual sera **3** gracias a la funcion partition, luego ordenando el arreglo vamos a tener"
      ],
      "metadata": {
        "id": "xfftUYtSgSaV"
      }
    },
    {
      "cell_type": "markdown",
      "source": [
        "**a=[-3, 2, -6, 1, 3, 8, 5, 9, 6]**"
      ],
      "metadata": {
        "id": "RmM4qsFEgc-P"
      }
    },
    {
      "cell_type": "markdown",
      "source": [
        "Se realiza quicksort para el lado izquierdo del pivote y el derecho, especificamente para **a[low:pa]=[-3,2,-6,1]** y **a[pa+1:high+1]=[8,5,9,6]**"
      ],
      "metadata": {
        "id": "JyXPAOxchQul"
      }
    },
    {
      "cell_type": "markdown",
      "source": [
        "primero veremos el lado izquierdo:\n",
        "como pivote vamos a tener **1** y ordenado por el pivote quedara **[-3,-6,1,2]**"
      ],
      "metadata": {
        "id": "z-BEn0D_jIUo"
      }
    },
    {
      "cell_type": "markdown",
      "source": [
        "Como el lado derecho del pivote solo tiene un elemento (siendo el 2) miraremos el lado izquierdo de este, haciendo la llamada del quicksort quedara **[-6,-3]** y con esto el sub-arreglo izquierdo por el primer pivote sera **[-6,-3,1,2]**"
      ],
      "metadata": {
        "id": "bwonbnvrkc2o"
      }
    },
    {
      "cell_type": "markdown",
      "source": [
        "Volvamos al primer sub-arreglo del pivote derecho **[8,5,9,6]**, llamando quicksort tendremos como pivote al **6** y ordenado a base de este quedara **[5,6,9,8]**"
      ],
      "metadata": {
        "id": "wzAG52g2k-vD"
      }
    },
    {
      "cell_type": "markdown",
      "source": [
        "El lado izquierdo del pivote ya se encuentra ordenado (solo un elemento 5), veamos el derecho **[9,8]**"
      ],
      "metadata": {
        "id": "itZ-yYRYlzlu"
      }
    },
    {
      "cell_type": "markdown",
      "source": [
        "LLamando quicksort y realizando el orden con el pivote se tendra que **[8,9]**"
      ],
      "metadata": {
        "id": "b_tnpKixmfuu"
      }
    },
    {
      "cell_type": "markdown",
      "source": [
        "Teniendo los lados del pivote ordenados vamos a tener el arreglo completamente ordenado **a[-6-3,1,2,3,5,6,8,9]**"
      ],
      "metadata": {
        "id": "IrT_7ta9nAwD"
      }
    },
    {
      "cell_type": "markdown",
      "source": [
        "###2.4.Ejecucion del algoritmo paso a paso (verbose=True)"
      ],
      "metadata": {
        "id": "vlxPRS3OnPMO"
      }
    },
    {
      "cell_type": "code",
      "source": [
        "a=random.sample(range(-100,100),6)\n",
        "print(\"Arreglo de entrada:\",a)\n",
        "print(\"-----------------------------------------\")\n",
        "quickSort(a, 0, len(a) - 1,1,True)\n",
        "print(\"Arreglo de salida:\",a)\n",
        "print(\"-----------------------------------------\")"
      ],
      "metadata": {
        "colab": {
          "base_uri": "https://localhost:8080/"
        },
        "id": "H6FK4q30nho2",
        "outputId": "ede54b59-26cf-4f6f-a1fb-a1752d684fcc"
      },
      "execution_count": 3,
      "outputs": [
        {
          "output_type": "stream",
          "name": "stdout",
          "text": [
            "Arreglo de entrada: [54, 87, -57, 30, 51, -43]\n",
            "-----------------------------------------\n",
            "Se ingresa a la funcion partition\n",
            "Se obtiene de pivote:  -43\n",
            "y el nuevo arreglo es: [-57, -43, 54, 30, 51, 87]\n",
            "-----------------------------------------\n",
            "Sub-arreglos segun el pivote:\n",
            "Izquierda del pivote [-57]\n",
            "Derecha del pivote [54, 30, 51, 87]\n",
            "Se realiza las llamadas recursivas para los sub arreglos\n",
            "*****************************************\n",
            "Se ingresa a la funcion partition\n",
            "Se obtiene de pivote:  87\n",
            "y el nuevo arreglo es: [-57, -43, 54, 30, 51, 87]\n",
            "-----------------------------------------\n",
            "Sub-arreglos segun el pivote:\n",
            "Izquierda del pivote [54, 30, 51]\n",
            "Derecha del pivote []\n",
            "Se realiza las llamadas recursivas para los sub arreglos\n",
            "*****************************************\n",
            "Se ingresa a la funcion partition\n",
            "Se obtiene de pivote:  51\n",
            "y el nuevo arreglo es: [-57, -43, 30, 51, 54, 87]\n",
            "-----------------------------------------\n",
            "Sub-arreglos segun el pivote:\n",
            "Izquierda del pivote [30]\n",
            "Derecha del pivote [54]\n",
            "Se realiza las llamadas recursivas para los sub arreglos\n",
            "*****************************************\n",
            "Arreglo de salida: [-57, -43, 30, 51, 54, 87]\n",
            "-----------------------------------------\n"
          ]
        }
      ]
    },
    {
      "cell_type": "markdown",
      "source": [
        "# 3.Correctitud"
      ],
      "metadata": {
        "id": "uJPwdVP8acKe"
      }
    },
    {
      "cell_type": "markdown",
      "source": [
        "## 3.1.Funcion Partition"
      ],
      "metadata": {
        "id": "jlk-7dK1aq91"
      }
    },
    {
      "cell_type": "markdown",
      "source": [
        "**Teorema (correctitud)**"
      ],
      "metadata": {
        "id": "EcOOwSLUebV5"
      }
    },
    {
      "cell_type": "markdown",
      "source": [
        "La función partition realiza correctamente la obtención del pivote **piInd** y organiza los datos a los lados de este de tal forma que los elementos **a[low,piInd-1]** sean menores a **piInd** y los elementos en **a[piInd,high]** sean mayores a **piInd**"
      ],
      "metadata": {
        "id": "dFZjyrZNkFTo"
      }
    },
    {
      "cell_type": "markdown",
      "source": [
        "**Prueba del teorema**"
      ],
      "metadata": {
        "id": "MLwA5us4kbz4"
      }
    },
    {
      "cell_type": "markdown",
      "source": [
        "Para probar el teorema se utilizara la propiedad del bucle invariante"
      ],
      "metadata": {
        "id": "2Lqhlpp5kd3N"
      }
    },
    {
      "cell_type": "markdown",
      "source": [
        "La propiedad dice que:\n",
        "Al comienzo de cada iteración se cumple que para cualquier índice k:\n",
        "\n",
        "Si low<=k<=i entonces a[k]<=pivote, siendo low la posición inicial del arreglo recibido y i el último elemento menor que el pivote\n",
        "\n",
        "Si i<k<piInd, entonces a[k]>pivote siendo piInd el último elemento mayor registrado"
      ],
      "metadata": {
        "id": "sP_l_uY2kxO-"
      }
    },
    {
      "cell_type": "markdown",
      "source": [
        "**Inicialización:** antes de iterar i=low-1 y piInd=low\n",
        "\n",
        "Por lo tanto, k va a ser igual que low y i, pero también va a ser igual a piInd por lo que se cumplen las dos condiciones establecidas\n"
      ],
      "metadata": {
        "id": "c1jIEhbyxpRN"
      }
    },
    {
      "cell_type": "markdown",
      "source": [
        "**Mantención:** Durante la i-ésima iteración pueden ocurrir dos casos:\n",
        "\n",
        "caso a): a[i]>pivote, solo se realiza un cambio entre a[piInd] y a[high] y se incrementa i\n",
        "\n",
        "caso b): a[i]<=pivote, se realiza el cambio entre hecho en el caso a y además se realizara el cambio entre a[i] y a[piInd] y se incrementara piInd y i."
      ],
      "metadata": {
        "id": "oPrJnziU1BYd"
      }
    },
    {
      "cell_type": "markdown",
      "source": [
        "Al finalizar la iteración se habrá hecho los cambios apropiados para que se siga cumpliendo la propiedad.\n",
        "\n"
      ],
      "metadata": {
        "id": "RTHI31OA6dwX"
      }
    },
    {
      "cell_type": "markdown",
      "source": [
        "La propiedad se mantiene durante la inicialización y la mantención, por lo que la función partition es correcta."
      ],
      "metadata": {
        "id": "MejNadK-7YSt"
      }
    },
    {
      "cell_type": "markdown",
      "source": [
        "## 3.2.Función quickSort"
      ],
      "metadata": {
        "id": "VASJMlSMBv9k"
      }
    },
    {
      "cell_type": "markdown",
      "source": [
        "**Teorema (Correctitud)**"
      ],
      "metadata": {
        "id": "yB8ez8dGCgrK"
      }
    },
    {
      "cell_type": "markdown",
      "source": [
        "El algoritmo quickSort recibe un arreglo no ordenado y realiza correctamente el ordenamiento de este."
      ],
      "metadata": {
        "id": "OmOjXwQDF0qV"
      }
    },
    {
      "cell_type": "markdown",
      "source": [
        "**Prueba del teorema**"
      ],
      "metadata": {
        "id": "GNjUNgyFGaYI"
      }
    },
    {
      "cell_type": "markdown",
      "source": [
        "Se utilizará inducción matemática para probar el teorema."
      ],
      "metadata": {
        "id": "FBrCLArdGp7w"
      }
    },
    {
      "cell_type": "markdown",
      "source": [
        "Durante el caso base **P(1)** retorna solo el arreglo ya que es muy pequeño **n=1**"
      ],
      "metadata": {
        "id": "T-iejlf-HAhB"
      }
    },
    {
      "cell_type": "markdown",
      "source": [
        "Durante el caso inductivo se debe probar que **P(m)** es cierto para **m < n**"
      ],
      "metadata": {
        "id": "rmdCXn6vcJA2"
      }
    },
    {
      "cell_type": "markdown",
      "source": [
        "QuickSort realiza particiones tales que **m=n/2** para los dos sub-arreglos, esto cumple con **m < n** por lo tanto se asume que quickSort entrega correctamente el arreglo ordenado"
      ],
      "metadata": {
        "id": "Pe3NCRwjdDuq"
      }
    },
    {
      "cell_type": "markdown",
      "source": [
        "Cabe destacar que la función Partition es llamada antes de la llamada recursiva, esta función ya fue probada que funciona correctamente, por lo que la función quickSort funciona correctamente"
      ],
      "metadata": {
        "id": "3pzDRdWLeA2-"
      }
    },
    {
      "cell_type": "markdown",
      "source": [
        "# 4.Tiempo de ejecución"
      ],
      "metadata": {
        "id": "iQ2RCX5chTHX"
      }
    },
    {
      "cell_type": "markdown",
      "source": [
        "Primero analizaremos el tiempo de ejecución durante el peor caso, este peor caso vendrá cuando la elección del pivote sea el mayor elemento del arreglo o el menor, no importa donde este colocado, esto nos dejará con solo un lado con los datos y el resto completamente vacío. Esto se podría decir que quedaran dos sub-arreglos uno con **n-1** elementos y otro con **1** elemento vacío."
      ],
      "metadata": {
        "id": "dc23ZkQUhX_G"
      }
    },
    {
      "cell_type": "markdown",
      "source": [
        "**Explicación**"
      ],
      "metadata": {
        "id": "Kub2pfhGjcND"
      }
    },
    {
      "cell_type": "markdown",
      "source": [
        "Sea **T(n)** el tiempo total del algoritmo en su peor caso y **n** el tamaño del arreglo"
      ],
      "metadata": {
        "id": "-Z26RXgujfix"
      }
    },
    {
      "cell_type": "markdown",
      "source": [
        "**T(n)=T(n-1)+constante*n**\n",
        "Mientras más dividimos el arreglo en dos partes vamos a tener una de un pequeño elemento y otra de tamaño **n-1**."
      ],
      "metadata": {
        "id": "Ey3wCa2tj-jx"
      }
    },
    {
      "cell_type": "markdown",
      "source": [
        "Si seguimos haciendo divisiones vamos a tener"
      ],
      "metadata": {
        "id": "rqJvwR2Yex4v"
      }
    },
    {
      "cell_type": "markdown",
      "source": [
        "**T(n) = T(n-2) + constante * (n-1) + constante * n =  T(n-2) + 2 * constante * n - constante**"
      ],
      "metadata": {
        "id": "2XAh9aHce1Oo"
      }
    },
    {
      "cell_type": "markdown",
      "source": [
        "**T(n) = T(n-3) + 3 * constante * n - 2 * constante - constante**"
      ],
      "metadata": {
        "id": "aCv2O_HjgM7E"
      }
    },
    {
      "cell_type": "markdown",
      "source": [
        "**T(n) = T(n-k) + k * constante * n - (k-1) * constante ..... - 2 * constante - constante**\n"
      ],
      "metadata": {
        "id": "Dx8MyiAWgUEA"
      }
    },
    {
      "cell_type": "markdown",
      "source": [
        "Si llegamos hasta que el valor n-ésimo vamos a tener que"
      ],
      "metadata": {
        "id": "cUTiKW-Lh3ev"
      }
    },
    {
      "cell_type": "markdown",
      "source": [
        "**T(n) = T(0) + constante * n * n - constante * [n * (n-1)/2]**"
      ],
      "metadata": {
        "id": "IzihmvleiCXO"
      }
    },
    {
      "cell_type": "markdown",
      "source": [
        "Si removemos los términos constantes vamos a tener que:\n",
        "**T(n)=n * n - [n * (n-1)/2]**"
      ],
      "metadata": {
        "id": "RxCRWuG4iQNm"
      }
    },
    {
      "cell_type": "markdown",
      "source": [
        "Nuestro valor que mayor crece es **n^2**, por lo tanto el tiempo de ejecución en el peor caso es **O(n^2)**."
      ],
      "metadata": {
        "id": "uqMrKMnHih0n"
      }
    },
    {
      "cell_type": "markdown",
      "source": [
        "**Mejor caso**"
      ],
      "metadata": {
        "id": "snFPRkFRlxP9"
      }
    },
    {
      "cell_type": "markdown",
      "source": [
        "El mejor caso ocurre cuando el pivote elegido es el elemento del medio del arreglo"
      ],
      "metadata": {
        "id": "YnAgFAcTl9k1"
      }
    },
    {
      "cell_type": "markdown",
      "source": [
        "La siguiente ecuación recurrente es utilizada para el mejor caso:\n",
        "\n",
        "**T(n)=2T(n/2)+O(n)**"
      ],
      "metadata": {
        "id": "w7AR0NXgmRrO"
      }
    },
    {
      "cell_type": "markdown",
      "source": [
        "siendo 2 las llamadas recursivas, 2 las divisiones que debe hacer y **O(n)** proviene de la función partition"
      ],
      "metadata": {
        "id": "74o6YlQQm0iK"
      }
    },
    {
      "cell_type": "markdown",
      "source": [
        "Utilizando el teorema maestro vamos a caer en el segundo caso, por lo que la complejidad para el mejor caso sería: **O(nlogn)**."
      ],
      "metadata": {
        "id": "Epotq2pDrIIw"
      }
    },
    {
      "cell_type": "markdown",
      "source": [
        "#5.Experimentos"
      ],
      "metadata": {
        "id": "5L7OEOcqpTYr"
      }
    },
    {
      "cell_type": "markdown",
      "source": [
        "A continuación se presentaran los experimentos realizados"
      ],
      "metadata": {
        "id": "WxR4IweHpjLn"
      }
    },
    {
      "cell_type": "markdown",
      "source": [
        "**Comparación entre el peor caso y el mejor caso**"
      ],
      "metadata": {
        "id": "PJ5B56cJqWsx"
      }
    },
    {
      "cell_type": "code",
      "source": [
        "import math\n",
        "import matplotlib.pyplot as plt\n",
        "\n",
        "x=[n for n in range(5,100)]\n",
        "y1=[(((n*n)-n)/2) for n in range(5,100)]#peor caso\n",
        "y2=[n*math.log2(n) for n in range(5,100)]#mejor caso\n",
        "y=[];\n",
        "\n",
        "for n in range(5,100):\n",
        "  a = random.sample(range(1,100),n)\n",
        "  cont=0\n",
        "  quickSort(a, 0, len(a) - 1,1)\n",
        "  y.append(cont)\n",
        "plt.plot(x,y)\n",
        "plt.plot(x,y1)\n",
        "plt.plot(x,y2)\n",
        "plt.legend([\"quickSort\",\"Peor caso\",\"Mejor caso\"])\n",
        "\n",
        "plt.xlabel('tamaño del arreglo')\n",
        "plt.ylabel('cantidad de comparaciones')\n",
        "plt.show()"
      ],
      "metadata": {
        "colab": {
          "base_uri": "https://localhost:8080/",
          "height": 0
        },
        "id": "WFlQiu9Srnlg",
        "outputId": "8a0c7ed5-f1d8-4d66-a8b4-2651f9739aaa"
      },
      "execution_count": 64,
      "outputs": [
        {
          "output_type": "display_data",
          "data": {
            "text/plain": [
              "<Figure size 432x288 with 1 Axes>"
            ],
            "image/png": "[encoded data removed]"
          },
          "metadata": {
            "needs_background": "light"
          }
        }
      ]
    },
    {
      "cell_type": "markdown",
      "source": [
        "**Análisis de los resultados**"
      ],
      "metadata": {
        "id": "VI0ZMHpx4vz9"
      }
    },
    {
      "cell_type": "markdown",
      "source": [
        "Se puede apreciar que, durante el peor caso, el quicksort realiza una enorme cantidad de comparaciones, esto se debe a que el arreglo ya se encuentra ordenado, también se puede destacar lo cerca que están el mejor y el caso normal, esto muestra que el mejor caso no es muy distinto al caso promedio, pero se puede apreciar que no tiene distintos picos en su línea."
      ],
      "metadata": {
        "id": "ItHFw8JU4zhj"
      }
    },
    {
      "cell_type": "markdown",
      "source": [
        "**Comparación entre el QuickSort y el MergeSort**"
      ],
      "metadata": {
        "id": "tTaVZEGt5yYu"
      }
    },
    {
      "cell_type": "code",
      "source": [
        "cont2=0 \n",
        "\n",
        "def Merge(arr,sub1,sub2):\n",
        "  i=j=k=0\n",
        "  global cont2\n",
        "  while(i < len(sub1) and j < len(sub2)): \n",
        "    if(sub1[i]<sub2[j]):\n",
        "      arr[k]=sub1[i]\n",
        "      i += 1\n",
        "      cont2+=1\n",
        "    else:\n",
        "      arr[k]=sub2[j]\n",
        "      j += 1\n",
        "      cont2+=1\n",
        "    k += 1\n",
        "\n",
        "  while(i<len(sub1)): \n",
        "    arr[k]=sub1[i]\n",
        "    i+=1\n",
        "    k+=1\n",
        "    cont2+=1\n",
        "\n",
        "  while(j < len(sub2)):\n",
        "    arr[k]=sub2[j]\n",
        "    j+=1\n",
        "    k+=1\n",
        "    cont2+=1\n",
        "  \n",
        "  \n",
        "\n",
        "\n",
        "def MergeSort(a,verbose=False):\n",
        "  if(len(a)>1):\n",
        "    medio=len(a)//2 \n",
        "    subDe=a[:medio]\n",
        "    subIz=a[medio:]\n",
        "    MergeSort(subDe,verbose) \n",
        "    MergeSort(subIz,verbose)\n",
        "    Merge(a,subIz,subDe)"
      ],
      "metadata": {
        "id": "IS0MOf416zUH"
      },
      "execution_count": 23,
      "outputs": []
    },
    {
      "cell_type": "code",
      "source": [
        "import datetime\n",
        "from timeit import repeat\n",
        "\n",
        "x=[];\n",
        "y=[];\n",
        "z=[];\n",
        "for n in range(5,500):\n",
        "  a = random.sample(range(1,1000),n)\n",
        "  b = random.sample(range(1,1000),n)\n",
        "  t = repeat(setup=\"from __main__ import quickSort\", stmt=f\"quickSort({a},{0}, {len(a) - 1},{1})\", repeat=1, number=10)\n",
        "  k = repeat(setup=\"from __main__ import MergeSort\", stmt=f\"MergeSort({b})\", repeat=1, number=10)\n",
        "  x.append(n)\n",
        "  y.append(t)\n",
        "  z.append(k)\n",
        "plt.plot(x,y)\n",
        "plt.plot(x,z)\n",
        "\n",
        "plt.legend([\"QuickSort\",\"MergeSort\"])\n",
        "plt.xlabel('Tamaño del arreglo')\n",
        "plt.ylabel('Tiempo en ms')\n",
        "plt.show()"
      ],
      "metadata": {
        "colab": {
          "base_uri": "https://localhost:8080/",
          "height": 0
        },
        "id": "bPJqhDmJ7lO6",
        "outputId": "9209a4ff-eae2-41ae-d1e7-24ee000aa2d5"
      },
      "execution_count": 70,
      "outputs": [
        {
          "output_type": "display_data",
          "data": {
            "text/plain": [
              "<Figure size 432x288 with 1 Axes>"
            ],
            "image/png": "[encoded data removed]"
          },
          "metadata": {
            "needs_background": "light"
          }
        }
      ]
    },
    {
      "cell_type": "markdown",
      "source": [
        "**Análisis del resultado**"
      ],
      "metadata": {
        "id": "r--EaZRb9LCa"
      }
    },
    {
      "cell_type": "markdown",
      "source": [
        "Se puede destacar que el quicksort esta por debajo del mergeSort, esto ocurre ya que el algoritmo es mas rapido realizando su funcion, cabe destacar que hay varios picos que pasan entre el mergeSort y lo superan dejando claro que el mergeSort es eficiente para algunos casos, esto se destaca debido a que es un mal caso para el quickSort pero no para el MergeSort."
      ],
      "metadata": {
        "id": "exAWnVoCO3L-"
      }
    },
    {
      "cell_type": "markdown",
      "source": [
        "**Rendimiento segun la elección del pivote**"
      ],
      "metadata": {
        "id": "d1ZVhv91_QdR"
      }
    },
    {
      "cell_type": "code",
      "source": [
        "import datetime\n",
        "from timeit import repeat\n",
        "\n",
        "x=[];\n",
        "x2=[];\n",
        "x3=[];\n",
        "y=[];\n",
        "z=[];\n",
        "w=[];\n",
        "for n in range(1,11):\n",
        "  a = random.sample(range(1,1000),n)\n",
        "  t = repeat(setup=\"from __main__ import quickSort\", stmt=f\"quickSort({a}, {0}, {len(a) - 1},{1})\", repeat=1, number=10) #pivote en el extremo derecho \n",
        "  k = repeat(setup=\"from __main__ import quickSort\", stmt=f\"quickSort({a}, {0}, {len(a) - 1},{2})\", repeat=1, number=10) #pivote en el extremo izquierdo\n",
        "  j = repeat(setup=\"from __main__ import quickSort\", stmt=f\"quickSort({a}, {0}, {len(a) - 1},{3})\", repeat=1, number=10) #pivote elegido por la mediana de un sub-arreglo de tamaño tres\n",
        "  x.append(n)\n",
        "  y.append(t)\n",
        "\n",
        "  x2.append(n)\n",
        "  z.append(k)\n",
        "\n",
        "  x3.append(n)\n",
        "  w.append(j)\n",
        "\n",
        "plt.plot(x,y)\n",
        "plt.plot(x2,z)\n",
        "plt.plot(x3,w)\n",
        "\n",
        "plt.legend([\"Derecho\",\"Izquierdo\",\"Mediana aleatoria\"])\n",
        "plt.xlabel('Tamaño del arreglo')\n",
        "plt.ylabel('tiempo en ms')\n",
        "plt.show()"
      ],
      "metadata": {
        "colab": {
          "base_uri": "https://localhost:8080/",
          "height": 0
        },
        "id": "GFU_rl4HKYXw",
        "outputId": "2c49b009-562c-444d-d102-ab958cc7defe"
      },
      "execution_count": 90,
      "outputs": [
        {
          "output_type": "display_data",
          "data": {
            "text/plain": [
              "<Figure size 432x288 with 1 Axes>"
            ],
            "image/png": "[encoded data removed]"
          },
          "metadata": {
            "needs_background": "light"
          }
        }
      ]
    },
    {
      "cell_type": "code",
      "source": [
        "import datetime\n",
        "from timeit import repeat\n",
        "\n",
        "x=[];\n",
        "x2=[];\n",
        "\n",
        "y=[];\n",
        "z=[];\n",
        "\n",
        "for n in range(5,500):\n",
        "  a = random.sample(range(1,1000),n)\n",
        "  t = repeat(setup=\"from __main__ import quickSort\", stmt=f\"quickSort({a}, {0}, {len(a) - 1},{1})\", repeat=1, number=10) #pivote en el extremo derecho \n",
        "  k = repeat(setup=\"from __main__ import quickSort\", stmt=f\"quickSort({a}, {0}, {len(a) - 1},{2})\", repeat=1, number=10) #pivote en el extremo izquierdo\n",
        "  x.append(n)\n",
        "  y.append(t)\n",
        "\n",
        "  x2.append(n)\n",
        "  z.append(k)\n",
        "\n",
        "\n",
        "plt.plot(x,y)\n",
        "plt.plot(x2,z)\n",
        "plt.legend([\"Derecho\",\"Izquierdo\"])\n",
        "plt.xlabel('Tamaño del arreglo')\n",
        "plt.ylabel('tiempo en ms')\n",
        "plt.show()"
      ],
      "metadata": {
        "colab": {
          "base_uri": "https://localhost:8080/",
          "height": 0
        },
        "id": "Jpo63IhOjxh0",
        "outputId": "98da815c-9466-4338-d592-21d367831abd"
      },
      "execution_count": 91,
      "outputs": [
        {
          "output_type": "display_data",
          "data": {
            "text/plain": [
              "<Figure size 432x288 with 1 Axes>"
            ],
            "image/png": "[encoded data removed]"
          },
          "metadata": {
            "needs_background": "light"
          }
        }
      ]
    },
    {
      "cell_type": "markdown",
      "source": [
        "**Análisis de resultados**"
      ],
      "metadata": {
        "id": "adqHewxA_WYB"
      }
    },
    {
      "cell_type": "markdown",
      "source": [
        "Se puede notar en el primer grafico que tanto el pivote en el extremo derecho y izquierdo se mantienen igual, pero la mediana de un arreglo tres crece enormemente, esto se debe a que toma mucho más tiempo la elección de la media, esta requiere varios procesos para elegir el pivote correcto. Si miramos el segundo grafico nos podemos dar cuenta que hay una diferencia entre la elección del pivote en el extremo derecho e izquierdo, se puede decir que esta diferencia ocurre porque el derecho tiene que realizar una mayor cantidad de comparaciones debido al orden inverso que habitualmente se usa. Por lo tanto, se puede concluir que la mejor elección del pivote es el extremo derecho"
      ],
      "metadata": {
        "id": "9w7ttFuXvuk4"
      }
    }
  ]
}