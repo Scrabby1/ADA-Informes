{
  "nbformat": 4,
  "nbformat_minor": 0,
  "metadata": {
    "colab": {
      "provenance": [],
      "toc_visible": true,
      "collapsed_sections": [
        "i1A3R_-2Wcii",
        "vKvne20ndXMx",
        "EuriaIEgg_at",
        "MdE6nJom8KZm",
        "tjK1NXp0F8lH",
        "t0ohHXcjH5UL"
      ],
      "authorship_tag": "ABX9TyMu5rYqFEZMIEV8LlqFmyug",
      "include_colab_link": true
    },
    "kernelspec": {
      "name": "python3",
      "display_name": "Python 3"
    },
    "language_info": {
      "name": "python"
    }
  },
  "cells": [
    {
      "cell_type": "markdown",
      "metadata": {
        "id": "view-in-github",
        "colab_type": "text"
      },
      "source": [
        "<a href=\"https://colab.research.google.com/github/Scrabby1/ADA-Informes/blob/main/Informe_corte_de_varillas.ipynb\" target=\"_parent\"><img src=\"https://colab.research.google.com/assets/colab-badge.svg\" alt=\"Open In Colab\"/></a>"
      ]
    },
    {
      "cell_type": "markdown",
      "source": [
        "# 1.Descripción del problema"
      ],
      "metadata": {
        "id": "i1A3R_-2Wcii"
      }
    },
    {
      "cell_type": "markdown",
      "source": [
        "**Entrada:** largo de arreglo **n**, arreglo con distintos valores desde **i=1...n**."
      ],
      "metadata": {
        "id": "h-5MWJhfXe7g"
      }
    },
    {
      "cell_type": "markdown",
      "source": [
        "**Salida:** Retornó maximo de **rn**, siendo este la suma máxima posible del arreglo, esto es dividiendo el arreglo o no."
      ],
      "metadata": {
        "id": "UpS2qGSVYO-M"
      }
    },
    {
      "cell_type": "markdown",
      "source": [
        "Cuando hacemos un algoritmo para encontrar una solución, siempre se quiere encontrar la solución más eficiente de todas, este tipo de problema se llaman problemas de optimización, en este informe se vera la solución para encontrar el mayor precio de un arreglo n, esto lo hará el algoritmo del corte de varillas."
      ],
      "metadata": {
        "id": "K3C2jawPZctx"
      }
    },
    {
      "cell_type": "markdown",
      "source": [
        "El problema de este problema va a ser la entrada del arreglo, en este caso será n, la posición de venta en que se quiere encontrar el precio máximo"
      ],
      "metadata": {
        "id": "wssUT0h3cGMG"
      }
    },
    {
      "cell_type": "markdown",
      "source": [
        "# 2.Corte de varillas"
      ],
      "metadata": {
        "id": "vKvne20ndXMx"
      }
    },
    {
      "cell_type": "code",
      "source": [
        "import random\n",
        "\n",
        "def cutrod_instance_generator(N):\n",
        "  A = []\n",
        "  prev = 0\n",
        "  for i in range(N):\n",
        "    r=random.randint(0,10)\n",
        "    A.append(prev+r)\n",
        "    prev+=r\n",
        "  return A"
      ],
      "metadata": {
        "id": "TtLgbyW1fMnB"
      },
      "execution_count": 1,
      "outputs": []
    },
    {
      "cell_type": "code",
      "source": [
        "llamadas=0\n",
        "def corte(arr,n,verbose=False): #versión recursiva\n",
        "  if(n<=0):\n",
        "    if(verbose==True):\n",
        "      print(\"Arreglo muy pequeño:\",0)\n",
        "    return 0 #caso base\n",
        "  maxi=-99999999999\n",
        "  for i in range(0,n):\n",
        "    global llamadas\n",
        "    llamadas += 1\n",
        "    if(verbose==True):\n",
        "      print(\"Se comprueba el valor maximo de una varilla de largo\",n-i)\n",
        "      print(\"-------------------------------------\")\n",
        "    maxi=max(maxi,arr[i]+corte(arr,n-i-1,verbose))\n",
        "    if(verbose==True):\n",
        "      print(\"La mayor ganancia posible es:\",maxi)\n",
        "      print(\"*************************************\")\n",
        "\n",
        "  return maxi\n",
        "#ejemplo\n",
        "A=[2, 8, 9, 9, 10, 10, 13, 23, 26, 33]\n",
        "print(\"Arreglo de entrada:\",A)\n",
        "resultado=corte(A,len(A),False)\n",
        "print(\"Mayor ganancia posible:\",resultado)\n",
        "print(\"LLamadas recursivas realizadas:\", llamadas)"
      ],
      "metadata": {
        "colab": {
          "base_uri": "https://localhost:8080/"
        },
        "id": "vdGFMrazddJZ",
        "outputId": "e29e2032-ecfe-40c6-f1ac-136d8be5d14f"
      },
      "execution_count": 4,
      "outputs": [
        {
          "output_type": "stream",
          "name": "stdout",
          "text": [
            "Arreglo de entrada: [2, 8, 9, 9, 10, 10, 13, 23, 26, 33]\n",
            "Mayor ganancia posible: 40\n",
            "LLamadas recursivas realizadas: 1023\n"
          ]
        }
      ]
    },
    {
      "cell_type": "code",
      "source": [
        "subProblemas=0\n",
        "\n",
        "def corteD(arr,n,verbose=False): #versión dinamica\n",
        "  r=[0 for x in range(n+1)] #Se crean los arreglos para guardar los resultados y los cortes necesarios para el problema que realizaremos\n",
        "  cortes = [0 for x in range(n + 1)]\n",
        "  if(verbose==True):\n",
        "    print(\"r[0] =\",0)\n",
        "  r[0]=0\n",
        "\n",
        "  for i in range(1,n+1):#trabajamos por toda la varilla\n",
        "    maxi=float(\"-inf\")\n",
        "    if(verbose==True):\n",
        "      print(\"Se evalua una varilla de largo\",i)\n",
        "\n",
        "    for j in range(i):#Se divide la varilla de largo i en dos varillas de largo j y \"i-j-1\" y se vera cual de estas tiene la mayor ganancia\n",
        "      global subProblemas\n",
        "      subProblemas += 1\n",
        "      if(verbose==True):\n",
        "        print(\"Caso\",j+1,\":La varilla es de largo\",j+1)\n",
        "      if(verbose==True):\n",
        "        print(\"La maxima ganancia sera el mayor entre:\",maxi,\"y\",arr[j]+r[i-j-1], \"(\",arr[j],\"(precios largo\",j+1,\") + \",r[i-j-1],\"(Resultado del subproblema\",i-j-1, \")\")\n",
        "      maxi=max(maxi,arr[j]+r[i-j-1])\n",
        "      cortes[i] = j\n",
        "      if(verbose==True):\n",
        "        print(\"Mayor ganancia posible por el momento:\",maxi)\n",
        "        print(\"-------------------------------------\")\n",
        "    if(verbose==True):\n",
        "      print(\"r[\",i,\"]=\",maxi)\n",
        "      print(\"*************************************\")\n",
        "    r[i]=maxi#Se guarda la mayor ganancia\n",
        "  return r[n],cortes"
      ],
      "metadata": {
        "id": "hs1jLNdJhAI1"
      },
      "execution_count": 3,
      "outputs": []
    },
    {
      "cell_type": "code",
      "source": [
        "#Ejemplo dinamico\n",
        "A=[2, 8, 9, 9, 10, 10, 13, 23, 26, 33]\n",
        "subProblemas=0\n",
        "print(\"Arreglo de entrada:\",A)\n",
        "tamano=len(A)\n",
        "resultado,cortes=corteD(A,tamano)\n",
        "print(\"La mayor ganancia posible es:\",resultado)\n",
        "print(\"Cantidad de sub-problemas resueltos:\", subProblemas)\n",
        "print(\"Cortes:\", cortes[len(A)])"
      ],
      "metadata": {
        "colab": {
          "base_uri": "https://localhost:8080/"
        },
        "id": "8ZsdGl6-jre6",
        "outputId": "fea0c3d6-be9a-4547-c847-f6d5c5df3f3b"
      },
      "execution_count": 5,
      "outputs": [
        {
          "output_type": "stream",
          "name": "stdout",
          "text": [
            "Arreglo de entrada: [2, 8, 9, 9, 10, 10, 13, 23, 26, 33]\n",
            "La mayor ganancia posible es: 40\n",
            "Cantidad de sub-problemas resueltos: 55\n",
            "Cortes: 9\n"
          ]
        }
      ]
    },
    {
      "cell_type": "markdown",
      "source": [
        "##2.1.Descripción de algoritmo"
      ],
      "metadata": {
        "id": "EuriaIEgg_at"
      }
    },
    {
      "cell_type": "markdown",
      "source": [
        "Ambas versiones de este algoritmo reciben el arreglo **arr** y el tamaño en que se quiere saber el precio máximo **n**"
      ],
      "metadata": {
        "id": "g5pPPPgLpvzl"
      }
    },
    {
      "cell_type": "markdown",
      "source": [
        "Este algoritmo posee lo que se conoce como una subestructura óptima la cual es la siguiente"
      ],
      "metadata": {
        "id": "9NbA2zNNsPdk"
      }
    },
    {
      "cell_type": "markdown",
      "source": [
        "![image.png](data:image/png;base64,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)"
      ],
      "metadata": {
        "id": "GWLGVI1Dk-Nn"
      }
    },
    {
      "cell_type": "markdown",
      "source": [
        "Lo que se puede apreciar de la imagen son los dos casos posibles para un rn, siendo rn el precio máximo de una varilla de largo n, el caso Pn es cuando es la varilla completa, sin haber realizado cortes y el segundo caso es cuando se debe realizar un corte y recurrir al precio máximo de otro caso"
      ],
      "metadata": {
        "id": "gEpFyrG_lBgh"
      }
    },
    {
      "cell_type": "markdown",
      "source": [
        "Es gracias a esta subestructura optima que se puede construir ambos algoritmos, tanto el recursivo y el dinámico"
      ],
      "metadata": {
        "id": "zOWgbIBJlZ7w"
      }
    },
    {
      "cell_type": "markdown",
      "source": [
        "Ambos algoritmos reciben en la entrada el arreglo **arr** y el precio en la n-ésima posición **n**."
      ],
      "metadata": {
        "id": "jVqTPwcSmFif"
      }
    },
    {
      "cell_type": "markdown",
      "source": [
        "**Versión recursiva:** Esta versión realiza cortes desde 1 hasta **n**, viendo todos los valores máximos **maxi** para cada iteración **i** de manera recursiva, incluso si ya los calculo antes. Una vez realizado la búsqueda por la mayor ganancia por toda la barra y haberlo encontrado, se retorna ese valor\n"
      ],
      "metadata": {
        "id": "vq22EDwcnR6S"
      }
    },
    {
      "cell_type": "markdown",
      "source": [
        "**Version dinamica:** Esta versión crea un arreglo donde va a guardar los resultados **r** luego se va recorriendo desde 1 hasta **n** para ir encontrando todos los resultados de cada medida guardándolos en el arreglo, desde 1 hasta **n** casos posibles utilizando los resultados previos ya realizados, al final vamos a retornar el arreglo **r** en la posición **n**"
      ],
      "metadata": {
        "id": "e-LXiH-Fl7dW"
      }
    },
    {
      "cell_type": "markdown",
      "source": [
        "Como salida de los dos algoritmos vamos a tener el resultado de la ganancia máxima posible del largo **n**"
      ],
      "metadata": {
        "id": "eB6go8DebShA"
      }
    },
    {
      "cell_type": "markdown",
      "source": [
        "##2.2.Ejemplo versión dinámica"
      ],
      "metadata": {
        "id": "MdE6nJom8KZm"
      }
    },
    {
      "cell_type": "markdown",
      "source": [
        "Tomemos el siguiente arreglo:"
      ],
      "metadata": {
        "id": "GXZbNTBG-CG1"
      }
    },
    {
      "cell_type": "markdown",
      "source": [
        "A=[1,3,5,7,16,16,23]"
      ],
      "metadata": {
        "id": "mK1spbs0-LaV"
      }
    },
    {
      "cell_type": "markdown",
      "source": [
        "Busquemos el mayor precio para una varilla de largo tres"
      ],
      "metadata": {
        "id": "E88rJtiz-WSp"
      }
    },
    {
      "cell_type": "markdown",
      "source": [
        "Primero se crea el arreglo **r** del mismo tamaño que nuestro arreglo original y lo llenamos de 0"
      ],
      "metadata": {
        "id": "0VGJ2p6c-a3g"
      }
    },
    {
      "cell_type": "markdown",
      "source": [
        "r=[0,0,0,0,0,0,0]"
      ],
      "metadata": {
        "id": "WjscLxR8-iMW"
      }
    },
    {
      "cell_type": "markdown",
      "source": [
        "en la primera posición vamos a mantener el 0"
      ],
      "metadata": {
        "id": "M30iQrDb-tXK"
      }
    },
    {
      "cell_type": "markdown",
      "source": [
        "Se ve el primer caso, varilla de largo 1"
      ],
      "metadata": {
        "id": "892pWQXG-nzb"
      }
    },
    {
      "cell_type": "markdown",
      "source": [
        "Una varilla de largo 1 tiene como única opción la vara completa, por lo tanto la mayor ganancia de nuestra varilla de largo 1 es:"
      ],
      "metadata": {
        "id": "nReNjvCA-xnr"
      }
    },
    {
      "cell_type": "markdown",
      "source": [
        "r=[0,1,0,0,0,0,0]"
      ],
      "metadata": {
        "id": "tW6tnubn-9Qz"
      }
    },
    {
      "cell_type": "markdown",
      "source": [
        "Ahora veremos una varilla de largo 2"
      ],
      "metadata": {
        "id": "Gf8RjCMc_BHP"
      }
    },
    {
      "cell_type": "markdown",
      "source": [
        "Existen dos casos:\n",
        "\n",
        "1)Dividir la varilla en dos partes de largo 1, esto nos dará como resultado 2\n",
        "\n",
        "2)No realizar divisiones, entregándonos un valor de 3"
      ],
      "metadata": {
        "id": "ACqBRVDH_Zib"
      }
    },
    {
      "cell_type": "markdown",
      "source": [
        "La mayor ganancia posible para una varilla de largo 2 es de valor 3"
      ],
      "metadata": {
        "id": "P7GbfdzfBw97"
      }
    },
    {
      "cell_type": "markdown",
      "source": [
        "r=[0,1,3,0,0,0,0]"
      ],
      "metadata": {
        "id": "WPaGz0DXB8p9"
      }
    },
    {
      "cell_type": "markdown",
      "source": [
        "Veremos una varilla de largo 3"
      ],
      "metadata": {
        "id": "Bi0dt-qmB_UN"
      }
    },
    {
      "cell_type": "markdown",
      "source": [
        "Existen tres casos posibles:"
      ],
      "metadata": {
        "id": "pDC-aPX3CCXZ"
      }
    },
    {
      "cell_type": "markdown",
      "source": [
        "1)Tres divisiones de largo 1, entregandonos un total de 3\n",
        "\n",
        "2)Dos divisiones, una de largo 1 y otra de 2,entregandonos un resultado de 4\n",
        "\n",
        "3)Ninguna división, entregándonos un resultado de 5"
      ],
      "metadata": {
        "id": "8BvsYCHMCFTg"
      }
    },
    {
      "cell_type": "markdown",
      "source": [
        "La máxima ganancia posible para una varilla de largo 3 es el valor 5"
      ],
      "metadata": {
        "id": "V5mfIW0TEGfT"
      }
    },
    {
      "cell_type": "markdown",
      "source": [
        "Como ya llegamos a la varilla de largo 3, aquí se acaba nuestro código, retornando la ganancia máxima posible la cual será 5"
      ],
      "metadata": {
        "id": "tkYMzYuxEKfl"
      }
    },
    {
      "cell_type": "markdown",
      "source": [
        "##2.3.Ejecución verbose algoritmo recursivo"
      ],
      "metadata": {
        "id": "tjK1NXp0F8lH"
      }
    },
    {
      "cell_type": "code",
      "source": [
        "llamadas=0\n",
        "A=[2, 8, 9, 9, 10, 10, 13, 23, 26, 33]\n",
        "print(\"Arreglo de entrada:\",A)\n",
        "resultado=corte(A,3,True)\n",
        "print(\"Mayor ganancia posible:\",resultado)\n",
        "print(\"LLamadas recursivas realizadas:\", llamadas)"
      ],
      "metadata": {
        "colab": {
          "base_uri": "https://localhost:8080/"
        },
        "id": "-snadCUkHkbW",
        "outputId": "1c7f2a7c-97ed-4f07-a902-3d6a3c226a6f"
      },
      "execution_count": 6,
      "outputs": [
        {
          "output_type": "stream",
          "name": "stdout",
          "text": [
            "Arreglo de entrada: [2, 8, 9, 9, 10, 10, 13, 23, 26, 33]\n",
            "Se comprueba el valor maximo de una varilla de largo 3\n",
            "-------------------------------------\n",
            "Se comprueba el valor maximo de una varilla de largo 2\n",
            "-------------------------------------\n",
            "Se comprueba el valor maximo de una varilla de largo 1\n",
            "-------------------------------------\n",
            "Arreglo muy pequeño: 0\n",
            "La mayor ganancia posible es: 2\n",
            "*************************************\n",
            "La mayor ganancia posible es: 4\n",
            "*************************************\n",
            "Se comprueba el valor maximo de una varilla de largo 1\n",
            "-------------------------------------\n",
            "Arreglo muy pequeño: 0\n",
            "La mayor ganancia posible es: 8\n",
            "*************************************\n",
            "La mayor ganancia posible es: 10\n",
            "*************************************\n",
            "Se comprueba el valor maximo de una varilla de largo 2\n",
            "-------------------------------------\n",
            "Se comprueba el valor maximo de una varilla de largo 1\n",
            "-------------------------------------\n",
            "Arreglo muy pequeño: 0\n",
            "La mayor ganancia posible es: 2\n",
            "*************************************\n",
            "La mayor ganancia posible es: 10\n",
            "*************************************\n",
            "Se comprueba el valor maximo de una varilla de largo 1\n",
            "-------------------------------------\n",
            "Arreglo muy pequeño: 0\n",
            "La mayor ganancia posible es: 10\n",
            "*************************************\n",
            "Mayor ganancia posible: 10\n",
            "LLamadas recursivas realizadas: 7\n"
          ]
        }
      ]
    },
    {
      "cell_type": "markdown",
      "source": [
        "##2.4.Ejecución verbose algoritmo dinámico"
      ],
      "metadata": {
        "id": "t0ohHXcjH5UL"
      }
    },
    {
      "cell_type": "code",
      "source": [
        "llamadas=0\n",
        "A=[2, 8, 9, 9, 10, 10, 13, 23, 26, 33]\n",
        "print(\"Arreglo de entrada:\",A)\n",
        "resultado,cortes=corteD(A,3,True)\n",
        "print(\"Mayor ganancia posible:\",resultado)\n",
        "print(\"LLamadas recursivas realizadas:\", llamadas)"
      ],
      "metadata": {
        "colab": {
          "base_uri": "https://localhost:8080/"
        },
        "id": "_82y3tJWIIRI",
        "outputId": "121f9341-babe-4014-a14b-09d4f2e04d0e"
      },
      "execution_count": 7,
      "outputs": [
        {
          "output_type": "stream",
          "name": "stdout",
          "text": [
            "Arreglo de entrada: [2, 8, 9, 9, 10, 10, 13, 23, 26, 33]\n",
            "r[0] = 0\n",
            "Se evalua una varilla de largo 1\n",
            "Caso 1 :La varilla es de largo 1\n",
            "La maxima ganancia sera el mayor entre: -inf y 2 ( 2 (precios largo 1 ) +  0 (Resultado del subproblema 0 )\n",
            "Mayor ganancia posible por el momento: 2\n",
            "-------------------------------------\n",
            "r[ 1 ]= 2\n",
            "*************************************\n",
            "Se evalua una varilla de largo 2\n",
            "Caso 1 :La varilla es de largo 1\n",
            "La maxima ganancia sera el mayor entre: -inf y 4 ( 2 (precios largo 1 ) +  2 (Resultado del subproblema 1 )\n",
            "Mayor ganancia posible por el momento: 4\n",
            "-------------------------------------\n",
            "Caso 2 :La varilla es de largo 2\n",
            "La maxima ganancia sera el mayor entre: 4 y 8 ( 8 (precios largo 2 ) +  0 (Resultado del subproblema 0 )\n",
            "Mayor ganancia posible por el momento: 8\n",
            "-------------------------------------\n",
            "r[ 2 ]= 8\n",
            "*************************************\n",
            "Se evalua una varilla de largo 3\n",
            "Caso 1 :La varilla es de largo 1\n",
            "La maxima ganancia sera el mayor entre: -inf y 10 ( 2 (precios largo 1 ) +  8 (Resultado del subproblema 2 )\n",
            "Mayor ganancia posible por el momento: 10\n",
            "-------------------------------------\n",
            "Caso 2 :La varilla es de largo 2\n",
            "La maxima ganancia sera el mayor entre: 10 y 10 ( 8 (precios largo 2 ) +  2 (Resultado del subproblema 1 )\n",
            "Mayor ganancia posible por el momento: 10\n",
            "-------------------------------------\n",
            "Caso 3 :La varilla es de largo 3\n",
            "La maxima ganancia sera el mayor entre: 10 y 9 ( 9 (precios largo 3 ) +  0 (Resultado del subproblema 0 )\n",
            "Mayor ganancia posible por el momento: 10\n",
            "-------------------------------------\n",
            "r[ 3 ]= 10\n",
            "*************************************\n",
            "Mayor ganancia posible: 10\n",
            "LLamadas recursivas realizadas: 0\n"
          ]
        }
      ]
    },
    {
      "cell_type": "markdown",
      "source": [
        "#3.Correctitud"
      ],
      "metadata": {
        "id": "LqlcLFOiYm9I"
      }
    },
    {
      "cell_type": "markdown",
      "source": [
        "**Teorema (correctitud)**"
      ],
      "metadata": {
        "id": "02WFUQpgYwSB"
      }
    },
    {
      "cell_type": "markdown",
      "source": [
        "El algoritmo corteD recibe un arreglo **arr** y un largo **n**, este algoritmo retorna correctamente el mayor precio posible de la varilla de largo **n**"
      ],
      "metadata": {
        "id": "ZENimmVxbEgJ"
      }
    },
    {
      "cell_type": "markdown",
      "source": [
        "**Prueba del teorema**"
      ],
      "metadata": {
        "id": "SX4TP4wddlvx"
      }
    },
    {
      "cell_type": "markdown",
      "source": [
        "Para probar este teorema se utilizara inducción matematica"
      ],
      "metadata": {
        "id": "xmekrIayeODZ"
      }
    },
    {
      "cell_type": "markdown",
      "source": [
        "**Caso base:**"
      ],
      "metadata": {
        "id": "5mZzuJYaeYI5"
      }
    },
    {
      "cell_type": "markdown",
      "source": [
        "Durante el caso base n=0, ya se encuentra el mayor precio posible del subproblema ya que este es siempre el mismo valor. "
      ],
      "metadata": {
        "id": "k0hei_0Heme5"
      }
    },
    {
      "cell_type": "markdown",
      "source": [
        "**Caso inductivo:**"
      ],
      "metadata": {
        "id": "H9kPNyJ3ficp"
      }
    },
    {
      "cell_type": "markdown",
      "source": [
        "Vamos a tener **r(n)=max(p(i)+r(n-i),p(n))**, aquí pueden haber dos casos"
      ],
      "metadata": {
        "id": "pnC50de0fvLx"
      }
    },
    {
      "cell_type": "markdown",
      "source": [
        "**Primer caso:** Cuando es mayor **p(i)+r(n-i)**, el subproblema **r(n-i)** ya fue resuelto en anteriores iteraciones y este retorna el precio máximo\n",
        "\n",
        "**Segundo caso:** Cuando **p(n)** es mayor, retorna el máximo precio correspondiente, el cual es en este caso la varilla completa de largo **n**"
      ],
      "metadata": {
        "id": "aPjeZXg5f-Ph"
      }
    },
    {
      "cell_type": "markdown",
      "source": [
        "#4.Tiempo de ejecución"
      ],
      "metadata": {
        "id": "4--_xF_RhhbR"
      }
    },
    {
      "cell_type": "markdown",
      "source": [
        "\n",
        "Definamos una función matemática que describa la cantidad de subproblemas que deben ser resueltos en la función de tamaño n, esta es la siguiente:"
      ],
      "metadata": {
        "id": "SCymJpW1QF8Q"
      }
    },
    {
      "cell_type": "markdown",
      "source": [
        "$T(n)=\\sum\\limits_{i=1}^{n+1}\\sum\\limits_{j=0}^{i}c$"
      ],
      "metadata": {
        "id": "Th7vpFNXS1TI"
      }
    },
    {
      "cell_type": "markdown",
      "source": [
        "Se pueden notar dos sumatorias, las dos corresponden al largo de la varilla desde 1 hasta n y los subproblemas de la varilla, en estos se calculan las ganancias máximas"
      ],
      "metadata": {
        "id": "uGDOm1rUS7U-"
      }
    },
    {
      "cell_type": "markdown",
      "source": [
        "$T(n)=c\\sum\\limits_{i=1}^{n+1}j$\n",
        "\n",
        "$T(n)=c*n(n+1)/2$"
      ],
      "metadata": {
        "id": "M56s7pKjWGXL"
      }
    },
    {
      "cell_type": "markdown",
      "source": [
        "Una vez resuelta la sumatoria, vamos a tener:"
      ],
      "metadata": {
        "id": "jdtoqhXrWO3f"
      }
    },
    {
      "cell_type": "markdown",
      "source": [
        "$T(n) = O(n^2)$"
      ],
      "metadata": {
        "id": "ljMWR1KxWgOP"
      }
    },
    {
      "cell_type": "markdown",
      "source": [
        "Gracias a esta función, podemos encontrar el tiempo de ejecución de cada subproblemas el cual es O(n)"
      ],
      "metadata": {
        "id": "lBCpg46SZfaQ"
      }
    },
    {
      "cell_type": "markdown",
      "source": [
        "Finalmente vamos a tener como tiempo de ejecución del algoritmo corte de varillas dinámico gracias a las dos sumatorias, en total nos va a dar O(n^2)"
      ],
      "metadata": {
        "id": "5FWprO-Paxsz"
      }
    },
    {
      "cell_type": "markdown",
      "source": [
        "**Complejidad Espacial**"
      ],
      "metadata": {
        "id": "LD-N-H7UqCP3"
      }
    },
    {
      "cell_type": "markdown",
      "source": [
        "El algoritmo corte de varillas tiene una complejidad espacial de $O(n)$. Esto se debe a que este algoritmo utiliza un arreglo de largo $n$ (largo de la varilla) en el que va almacenando la ganancia máxima de venta de cada largo de la varilla desde 1 hasta $n + 1$."
      ],
      "metadata": {
        "id": "GyqxZ8--qPsN"
      }
    },
    {
      "cell_type": "markdown",
      "source": [
        "#5.Experimentos"
      ],
      "metadata": {
        "id": "TEd9TBB_ox6_"
      }
    },
    {
      "cell_type": "markdown",
      "source": [
        "A continuación se van a presentar los distintos experimentos realizados "
      ],
      "metadata": {
        "id": "nwntm9vJpxDL"
      }
    },
    {
      "cell_type": "markdown",
      "source": [
        "##5.1.Versión recursiva contra la dinámica"
      ],
      "metadata": {
        "id": "oBj2o0ZOrk5s"
      }
    },
    {
      "cell_type": "code",
      "source": [
        "import matplotlib.pyplot as plt\n",
        "import datetime\n",
        "from timeit import repeat\n",
        "import random\n",
        "\n",
        "x=[]; y=[]\n",
        "\n",
        "for n in range(10,500):\n",
        "\n",
        "  a = random.sample(range(1, 1000), n)\n",
        "  t = repeat(setup=\"from __main__ import corteD\", stmt=f\"corteD({a}, {len(a)})\", repeat=1, number=20)\n",
        "\n",
        "  x.append(n)\n",
        "  y.append(t)\n",
        "\n",
        "plt.plot(x,y)\n",
        "plt.legend([\"Version dinamica\"])\n",
        "\n",
        "plt.xlabel('Tamaño del arreglo')\n",
        "plt.ylabel('Tiempo en ms')\n",
        "plt.show()"
      ],
      "metadata": {
        "colab": {
          "base_uri": "https://localhost:8080/",
          "height": 279
        },
        "id": "zgyqCoV6qeoe",
        "outputId": "b9247e1e-9048-4c29-f64b-5bf31f3d531e"
      },
      "execution_count": 9,
      "outputs": [
        {
          "output_type": "display_data",
          "data": {
            "text/plain": [
              "<Figure size 432x288 with 1 Axes>"
            ],
            "image/png": "[encoded data removed]"
          },
          "metadata": {
            "needs_background": "light"
          }
        }
      ]
    },
    {
      "cell_type": "code",
      "source": [
        "z=[]; w=[]\n",
        "\n",
        "for n in range(10,20):\n",
        "  a = random.sample(range(1, 1000), n)\n",
        "  t2 = repeat(setup=\"from __main__ import corte\", stmt=f\"corte({a}, {len(a)})\", repeat=1, number=20)\n",
        "  z.append(n)\n",
        "  w.append(t2)\n",
        "\n",
        "plt.plot(z,w)\n",
        "plt.legend([\"Version recursiva\"])\n",
        "\n",
        "plt.xlabel('Tamaño del arreglo')\n",
        "plt.ylabel('Tiempo en ms')\n",
        "plt.show()"
      ],
      "metadata": {
        "colab": {
          "base_uri": "https://localhost:8080/",
          "height": 279
        },
        "id": "Gx7pzep0t5Yh",
        "outputId": "b7829e3f-2f16-4280-f6f5-4a95d0e86ec4"
      },
      "execution_count": 10,
      "outputs": [
        {
          "output_type": "display_data",
          "data": {
            "text/plain": [
              "<Figure size 432x288 with 1 Axes>"
            ],
            "image/png": "[encoded data removed]"
          },
          "metadata": {
            "needs_background": "light"
          }
        }
      ]
    },
    {
      "cell_type": "markdown",
      "source": [
        "**Análisis del problema**"
      ],
      "metadata": {
        "id": "KsSMqtC7xgBg"
      }
    },
    {
      "cell_type": "markdown",
      "source": [
        "Como se puede notar en ambos gráficos, la versión dinámica es mucho más eficiente ya que realiza una mayor cantidad de problemas en un menor tiempo a la cantidad de problemas que debe resolver la versión recursiva. La razón de esta diferencia es que el tiempo de ejecución de la versión recursiva es O(2^n) y la dinámica es O(n^2), la versión recursiva crece considerablemente mayor"
      ],
      "metadata": {
        "id": "Vc8H7r_-xjZy"
      }
    },
    {
      "cell_type": "markdown",
      "source": [
        "##5.3.Cantidad de subproblemas hechos por la versión dinámica"
      ],
      "metadata": {
        "id": "Cwgse1P8zg4w"
      }
    },
    {
      "cell_type": "code",
      "source": [
        "x=[n for n in range(5,100)] \n",
        "y=[]; \n",
        "\n",
        "for n in range(5,100):\n",
        "  a = cutrod_instance_generator(n)\n",
        "\n",
        "  subProblemas = 0\n",
        "  corteD(a,len(a))\n",
        "  y.append(subProblemas)\n",
        "\n",
        "plt.plot(x,y)\n",
        "plt.legend([\"Corte de varilla Bottom-Up\"])\n",
        "\n",
        "plt.xlabel('Tamaño del arreglo')\n",
        "plt.ylabel('Sub-problemas resueltos')\n",
        "plt.show()"
      ],
      "metadata": {
        "colab": {
          "base_uri": "https://localhost:8080/",
          "height": 279
        },
        "id": "_vhB1P-808MR",
        "outputId": "a0d4ce8c-55d8-4319-993b-8f95d7280f95"
      },
      "execution_count": 12,
      "outputs": [
        {
          "output_type": "display_data",
          "data": {
            "text/plain": [
              "<Figure size 432x288 with 1 Axes>"
            ],
            "image/png": "[encoded data removed]"
          },
          "metadata": {
            "needs_background": "light"
          }
        }
      ]
    },
    {
      "cell_type": "markdown",
      "source": [
        "**Análisis de los resultados**"
      ],
      "metadata": {
        "id": "fse3P96l1Wpu"
      }
    },
    {
      "cell_type": "markdown",
      "source": [
        "Se puede apreciar un crecimiento a la medida que más largo es el arreglo, esto tiene sentido debido a que el análisis previo que hicimos el tiempo de ejecución esta hecho de dos sumatorias, una de estas equivale a la cantidad de subProblemas, esta sumatoria nos da O((n^2)/2), esto se da a que solo nos interesa una sumatoria de la doble sumatoria"
      ],
      "metadata": {
        "id": "lT2_h4P01aEc"
      }
    }
  ]
}