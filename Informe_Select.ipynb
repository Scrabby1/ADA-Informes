{
  "nbformat": 4,
  "nbformat_minor": 0,
  "metadata": {
    "colab": {
      "provenance": [],
      "toc_visible": true,
      "collapsed_sections": [
        "gbnw_F9KOK-j",
        "jsWJra-4WKte",
        "_M5xylrDWRsc",
        "sdl77IyJAOPJ",
        "BuGqmH6P8VxD",
        "cdBU0LRryKt1",
        "w5t3It581-go",
        "wn9MX2ew0le9",
        "ZHpQQHBvJsNy",
        "_XOo1EfaV5SK"
      ],
      "authorship_tag": "ABX9TyPiO7yRK4aeoktr34AHf5vM",
      "include_colab_link": true
    },
    "kernelspec": {
      "name": "python3",
      "display_name": "Python 3"
    },
    "language_info": {
      "name": "python"
    }
  },
  "cells": [
    {
      "cell_type": "markdown",
      "metadata": {
        "id": "view-in-github",
        "colab_type": "text"
      },
      "source": [
        "<a href=\"https://colab.research.google.com/github/Scrabby1/ADA-Informes/blob/main/Informe_Select.ipynb\" target=\"_parent\"><img src=\"https://colab.research.google.com/assets/colab-badge.svg\" alt=\"Open In Colab\"/></a>"
      ]
    },
    {
      "cell_type": "markdown",
      "source": [
        "# 1.Descripción del problema"
      ],
      "metadata": {
        "id": "gbnw_F9KOK-j"
      }
    },
    {
      "cell_type": "markdown",
      "source": [
        "**Entrada:** conjunto de **n** números diferentes en un arreglo **A** y un índice **k**.\n",
        "\n",
        "**Salida:** un **x** elemento el cual corresponde al dato buscado,este dato sera el menor k-ésimo elemento del arreglo."
      ],
      "metadata": {
        "id": "TUQpbrqWSA0_"
      }
    },
    {
      "cell_type": "markdown",
      "source": [
        "Uno de los usos que podemos darle a los algoritmos es poder seleccionar un dato especifico que queremos utilizar, en este caso como en la estadística queremos seleccionar el menor dato k-ésimo de la colección que tenemos. Este tipo de problema se le conoce como problema de selección, en este informe vamos a demostrar un algoritmo con el propósito de solucionar el problema, siendo este el algoritmo select."
      ],
      "metadata": {
        "id": "5ChrPMGlOjnI"
      }
    },
    {
      "cell_type": "markdown",
      "source": [
        "El tamaño de este problema será el tamaño de la entrada en este caso va a ser el tamaño del arreglo"
      ],
      "metadata": {
        "id": "WsTDzyWDUyyk"
      }
    },
    {
      "cell_type": "markdown",
      "source": [
        "# 2.Select"
      ],
      "metadata": {
        "id": "jsWJra-4WKte"
      }
    },
    {
      "cell_type": "code",
      "source": [
        "def InsertionSort(a):\n",
        "  b = len(a)\n",
        "  global cont\n",
        "  for i in range(1,b):\n",
        "    key = a[i]\n",
        "    k = i - 1\n",
        "    while k >= 0 and key < a[k]: #Se realizan comparaciones desde los elementos a la izquierda hasta que un numero menor sea encontrado\n",
        "      a[k + 1] = a[k]\n",
        "      k = k - 1\n",
        "      cont+=1\n",
        "    a[k + 1] = key #se coloca el valor en la posicion que le corresponde\n",
        "\n",
        "  return a"
      ],
      "metadata": {
        "id": "wgpoRI_pUOuM"
      },
      "execution_count": 140,
      "outputs": []
    },
    {
      "cell_type": "code",
      "source": [
        "def partition(A, inicio, final): \n",
        "  i = -1\n",
        "  j = 0\n",
        "  pivote = A[final] #el pivote sera el ultimo dato\n",
        "  global cont\n",
        "  while(True): #se reorganizan los datos segun el pivote,si son menores se colocan a la izquierda y a la derecha en el otro caso\n",
        "    if(j == final): break\n",
        "    if(A[j] > pivote): \n",
        "      j += 1\n",
        "    else:\n",
        "      aux = A[j]\n",
        "      A[j] = A[i + 1]\n",
        "      A[i + 1] = aux\n",
        "      i += 1\n",
        "      j += 1\n",
        "      cont+=1\n",
        "    cont+=1\n",
        "  aux = A[final]\n",
        "  A[final] = A[i + 1]\n",
        "  A[i + 1] = aux\n",
        "  q = i + 1\n",
        "  return q"
      ],
      "metadata": {
        "id": "AwBiewFmuYIZ"
      },
      "execution_count": 141,
      "outputs": []
    },
    {
      "cell_type": "code",
      "source": [
        "import math\n",
        "\n",
        "def pivotSelection(arr, izq, der,verbose=False):\n",
        "  global cont\n",
        "  if(verbose==True):\n",
        "    print(\"Se entra en la funcion pivotSelection\")\n",
        "    print(\"------------------------------------------------\")\n",
        "  if (len(arr) <= 5):#Si el arreglo es menor o igual a 5,se retorna la mediana de esta\n",
        "    cont+=1\n",
        "    if(verbose==True):\n",
        "      print(\"Se debe retornar la mediana del arreglo debido a el arreglo que es muy pequeño:\",arr[len(arr)//2])\n",
        "      print(\"************************************************\") \n",
        "    arr = InsertionSort(arr)\n",
        "    return arr[len(arr)//2]\n",
        "  \n",
        "  subArr = math.ceil((der - izq + 1) / 5)#Se divide el arreglo\n",
        "  if(verbose==True):\n",
        "    print(\"Se crean los sub-arreglos\")\n",
        "  indiceMedianas = []\n",
        "  medianas = []\n",
        "  \n",
        "  for k in range(subArr):\n",
        "    subRangoIzq = izq + 5 * k\n",
        "    subRangoDer = izq + 4 + 5 * k\n",
        "\n",
        "    if (subRangoDer > der): \n",
        "      subRangoDer = der\n",
        "    if(verbose==True):\n",
        "      print(\"sub-arreglo\",k+1)\n",
        "      print(arr[subRangoIzq:subRangoDer+1])\n",
        "\n",
        "    arr[subRangoIzq:subRangoDer+1] = InsertionSort(arr[subRangoIzq:subRangoDer+1])#se ordenan los arreglos\n",
        "    indiceMedianas.append((subRangoDer + subRangoIzq) // 2)\n",
        "    medianas.append(arr[indiceMedianas[k]])#se obtiene las medianas\n",
        "  if(verbose==True):\n",
        "    print(\"se obtienen las medianas de esos sub-arreglos\")\n",
        "    print(medianas)\n",
        "\n",
        "  if(verbose==True):\n",
        "    print(\"se debe obtener la mediana de nuestro nuevo arreglo con las medianas\")\n",
        "    print(\"************************************************\")\n",
        "\n",
        "  cont+=1\n",
        "  medianas = pivotSelection(medianas, 0, len(medianas) - 1,verbose)#se obtiene la mediana de las medianas\n",
        "\n",
        "  if(isinstance(medianas, int) == False):\n",
        "    medianaDeMedianas = medianas[subArr//2]\n",
        "  else:\n",
        "    return partition(arr, izq, der)#se llama a la funcion partition para ordenar el arreglo segun el pivote de mediana de medianas\n",
        "\n",
        "  for k in range(subArr):\n",
        "    if (medianaDeMedianas == arr[indiceMedianas[k]]):\n",
        "      i = indiceMedianas[k]\n",
        "      break\n",
        "\n",
        "  (arr[der], arr[i]) = (arr[i], arr[der])\n",
        "\n",
        "  return partition(arr, izq, der)"
      ],
      "metadata": {
        "id": "G6YvldGzWSJE"
      },
      "execution_count": 145,
      "outputs": []
    },
    {
      "cell_type": "code",
      "source": [
        "def select(arr,left,right,k,verbose=False):\n",
        "  if(k>0 and k<=right-left+1):\n",
        "    if(verbose==True):\n",
        "      print(\"Arreglo recibido en la funcion Select:\",arr[left:right+1])\n",
        "    indPiv=pivotSelection(arr,left,right,verbose)#se obtiene el indice del pivote de mediana de medianas\n",
        "    if(verbose==True):\n",
        "      print(\"pivote resultante:\",arr[indPiv])\n",
        "    if(indPiv-left==k-1):#si es igual que el indice k,se retorna el arreglo en ese indice\n",
        "      if(verbose==True):\n",
        "        print(\"Se debe retornar el arreglo,este es:\",arr[indPiv])\n",
        "        print(\"------------------------------------------------\")\n",
        "      return arr[indPiv]\n",
        "    \n",
        "    if(indPiv-left>k-1):#si es menor,se realiza una llamada recursiva al lado izquierda\n",
        "      if(verbose==True):\n",
        "         print(\"El elemento a buscar se encuentra a la izquierda del arreglo, debido a que el elemento es menor que el pivote\")\n",
        "         print(\"------------------------------------------------\")\n",
        "      return select(arr,left,indPiv-1,k,verbose)\n",
        "    if(verbose==True):\n",
        "      print(\"El elemento a buscar se encuentra a la derecha del arreglo, debido a que el elemento es mayor que el pivote\")\n",
        "      print(\"------------------------------------------------\")\n",
        "    return select(arr,indPiv+1,right,k-indPiv+left-1,verbose)#en caso contrario se hace al lado derecho\n",
        "\n",
        "\n",
        "#Ejemplo\n",
        "arreglo = [1, 10, 4, 9, 2, 3, 15, 8]\n",
        "print(\"Arreglo de entrada:\",arreglo)\n",
        "buscar = 3\n",
        "cont=0\n",
        "encontrado = select(arreglo, 0, len(arreglo)-1, buscar)\n",
        "print(\"buscar el menor elemento:\",buscar)\n",
        "print(\"------------------------------------------------\")\n",
        "print(\"El elemento encontrado fue:\",encontrado)\n",
        "print(\"Cantidad de comparaciones:\",cont)"
      ],
      "metadata": {
        "id": "hRymDy5cNlIg",
        "colab": {
          "base_uri": "https://localhost:8080/"
        },
        "outputId": "7947935d-db7f-4fbe-9bbe-2f862fe0fee3"
      },
      "execution_count": 146,
      "outputs": [
        {
          "output_type": "stream",
          "name": "stdout",
          "text": [
            "Arreglo de entrada: [1, 10, 4, 9, 2, 3, 15, 8]\n",
            "buscar el menor elemento: 3\n",
            "------------------------------------------------\n",
            "El elemento encontrado fue: 3\n",
            "Cantidad de comparaciones: 50\n"
          ]
        }
      ]
    },
    {
      "cell_type": "markdown",
      "source": [
        "##2.1.Descripción del algoritmo"
      ],
      "metadata": {
        "id": "_M5xylrDWRsc"
      }
    },
    {
      "cell_type": "markdown",
      "source": [
        "El algoritmo select recibe como entrada un arreglo **A** de tamaño **n** y una posición a buscar el cual es el mínimo del arreglo. El algoritmo select esta compuesto de cuatro funciones estas son:"
      ],
      "metadata": {
        "id": "-1BqrFabXflL"
      }
    },
    {
      "cell_type": "markdown",
      "source": [
        "**PivoteSelection:** esta función recibe como parámetros el arreglo arr y sus índices finales e iniciales **izq** y **der** esta función realiza los siguientes pasos:\n",
        "\n",
        "1)Dividir el arreglo en sub-arreglos de 5 elementos cada uno, si no se cubren todos los datos se crea un sub-arreglo con los elementos restantes y si el arreglo es de tamaño menor o igual que 5 se retorna automáticamente la mediana de ese arreglo\n",
        "\n",
        "2)Se buscan las medianas de los sub-arreglos para hacerlo se ordenan con la función insertionSort\n",
        "\n",
        "3) Se crea un arreglo que contiene las medianas, luego se obtiene la mediana de esas medianas llamando recursivamente a pivotSelection, esta mediana va a ser nuestro pivote, luego usando la función partition se obtiene el índice y esto retornara la función.\n"
      ],
      "metadata": {
        "id": "EAd7_0ckYFRV"
      }
    },
    {
      "cell_type": "markdown",
      "source": [
        "**InsertionSort:** Esta función fue vista previamente, cumple el propósito de ordenar el arreglo que recibe como entrada. Para realizar el orden del arreglo esta va realizando comparaciones entre las posiciones de cada arreglo y realiza intercambios hasta que el elemento este bien colocado en el arreglo. Como salida vamos a tener nuestro arreglo ordenado"
      ],
      "metadata": {
        "id": "hJ9TJf_WttTf"
      }
    },
    {
      "cell_type": "markdown",
      "source": [
        "**Partition:** Otra función vista previamente, esta se encarga de ordenar el arreglo **arr** según el pivote recibido, esta función asegura que los elementos menores queden al lado izquierdo del pivote y los mayores al derecho, esto lo realiza utilizando dos índices para poder recorrer el arreglo y realizar las comparaciones"
      ],
      "metadata": {
        "id": "HzC0m8NcYJCN"
      }
    },
    {
      "cell_type": "markdown",
      "source": [
        "**Select:** función principal del algoritmo, recibe como parámetros el arreglo **arr**, la menor posición **l**, la mayor **r** y el elemento a buscar **k** esta funciona de manera recursiva, una vez llamada la función pivoteSelection esta va a retornar un índice, este índice se utilizara para ver hacia donde debemos seguir realizando nuestra búsqueda, esto quiere decir que si el elemento que buscamos es menor a la posición del índice resultado quiere decir que debemos realizar la búsqueda por la izquierda y si es mayor por la derecha, de manera recursividad realizaremos la búsqueda por el lado que corresponde hasta encontrar el elemento más pequeño de este arreglo"
      ],
      "metadata": {
        "id": "iA7YjW0uYLUM"
      }
    },
    {
      "cell_type": "markdown",
      "source": [
        "Como salida vamos a tener el elemento k-ésimo más pequeño del arreglo."
      ],
      "metadata": {
        "id": "anjCguM2wRvG"
      }
    },
    {
      "cell_type": "markdown",
      "source": [
        "##2.2.Ejemplo"
      ],
      "metadata": {
        "id": "sdl77IyJAOPJ"
      }
    },
    {
      "cell_type": "markdown",
      "source": [
        "Tomemos el siguiente arreglo:\n",
        "\n",
        "**A=[1, 61, 51, 63, 24, 93]**\n",
        "\n",
        "busquemos el 3er elemento más pequeño\n",
        "\n",
        "Como el tamaño de este arreglo es de 6 vamos a tener dos sub-arreglos los cuales son:\n",
        "\n",
        "**A1=[1,61,51,63,24]**\n",
        "y\n",
        "**A2=[93]**"
      ],
      "metadata": {
        "id": "QDk2a2c_Avxr"
      }
    },
    {
      "cell_type": "markdown",
      "source": [
        "Se ordenan los arreglos con la función en insertionSort\n",
        "\n",
        "**A1=[1,24,51,61,63]**\n",
        "y \n",
        "**A2=[93]**"
      ],
      "metadata": {
        "id": "YqR0zUWhDJRM"
      }
    },
    {
      "cell_type": "markdown",
      "source": [
        "Se obtiene las medianas de ambos sub-arreglos y se crea un sub-arreglo con esas medianas"
      ],
      "metadata": {
        "id": "xZTf_zvPDcO5"
      }
    },
    {
      "cell_type": "markdown",
      "source": [
        "**M=[51,93]**"
      ],
      "metadata": {
        "id": "kFW8bYGJD25E"
      }
    },
    {
      "cell_type": "markdown",
      "source": [
        "Se hace una llamada recursiva de pivoteSelection y se obtiene la mediana del arreglo M"
      ],
      "metadata": {
        "id": "J8IP394xD8A2"
      }
    },
    {
      "cell_type": "markdown",
      "source": [
        "**M=[93]**"
      ],
      "metadata": {
        "id": "Wl4J8LizEHwg"
      }
    },
    {
      "cell_type": "markdown",
      "source": [
        "con este pivote se llama la función partition para ordenar el arreglo según el pivote"
      ],
      "metadata": {
        "id": "7b1FgaSRFGR3"
      }
    },
    {
      "cell_type": "markdown",
      "source": [
        "**A=[1,61,51,63,24,93]**"
      ],
      "metadata": {
        "id": "l0pkXT6cFYOu"
      }
    },
    {
      "cell_type": "markdown",
      "source": [
        "no ocurre un cambio debido a que el pivote es el mayor elemento, podemos notar que el elemento que buscamos es menor al pivote y también que este se encuentra a su izquierda"
      ],
      "metadata": {
        "id": "yEeZOz9fFnyJ"
      }
    },
    {
      "cell_type": "markdown",
      "source": [
        "Llamamos a select con el siguiente arreglo"
      ],
      "metadata": {
        "id": "QxfHedjpGLGP"
      }
    },
    {
      "cell_type": "markdown",
      "source": [
        "**B=[1,61,51,63,24]**"
      ],
      "metadata": {
        "id": "yeciVK_uGSlj"
      }
    },
    {
      "cell_type": "markdown",
      "source": [
        "Cuando ingresamos a la función pivoteSelection podemos notar que el tamaño del arreglo es 5, por lo que se retorna automáticamente la mediana "
      ],
      "metadata": {
        "id": "K71T5tSiHBTr"
      }
    },
    {
      "cell_type": "markdown",
      "source": [
        "Podemos notar que el índice donde se encuentra esta mediana es el 3 y también podemos notar que es el tercer valor más pequeño de este arreglo, por lo que hemos encontrado el 3er menor elemento siendo este el 51"
      ],
      "metadata": {
        "id": "yckv6flfHiRc"
      }
    },
    {
      "cell_type": "markdown",
      "source": [
        "## 2.3.Ejecución del algoritmo paso a paso (verbose=True)"
      ],
      "metadata": {
        "id": "BuGqmH6P8VxD"
      }
    },
    {
      "cell_type": "code",
      "source": [
        "import random\n",
        "a= random.sample(range(1,100),6)\n",
        "b=random.randint(1, 6)\n",
        "print(\"se quiere buscar el menor elemento\",b)\n",
        "encontrar=select(a, 0, len(a)-1, b,True)\n",
        "print(\"El elemento encontrado fue:\",encontrar)"
      ],
      "metadata": {
        "colab": {
          "base_uri": "https://localhost:8080/"
        },
        "id": "ApTUWdGd9a-5",
        "outputId": "9efc416d-81a8-435b-92b6-b67dd19df05e"
      },
      "execution_count": 124,
      "outputs": [
        {
          "output_type": "stream",
          "name": "stdout",
          "text": [
            "se quiere buscar el menor elemento 6\n",
            "Arreglo recibido en la funcion Select: [12, 47, 43, 95, 75, 10]\n",
            "Se entra en la funcion pivotSelection\n",
            "------------------------------------------------\n",
            "Se crean los sub-arreglos\n",
            "sub-arreglo 1\n",
            "[12, 47, 43, 95, 75]\n",
            "sub-arreglo 2\n",
            "[10]\n",
            "se obtienen las medianas de esos sub-arreglos\n",
            "[47, 10]\n",
            "se debe obtener la mediana de nuestro nuevo arreglo con las medianas\n",
            "************************************************\n",
            "Se entra en la funcion pivotSelection\n",
            "------------------------------------------------\n",
            "Se debe retornar la mediana del arreglo debido a el arreglo que es muy pequeño: 10\n",
            "************************************************\n",
            "pivote resultante: 10\n",
            "El elemento a buscar se encuentra a la derecha del arreglo, debido a que el elemento es mayor que el pivote\n",
            "------------------------------------------------\n",
            "Arreglo recibido en la funcion Select: [43, 47, 75, 95, 12]\n",
            "Se entra en la funcion pivotSelection\n",
            "------------------------------------------------\n",
            "Se crean los sub-arreglos\n",
            "sub-arreglo 1\n",
            "[43, 47, 75, 95, 12]\n",
            "se obtienen las medianas de esos sub-arreglos\n",
            "[47]\n",
            "se debe obtener la mediana de nuestro nuevo arreglo con las medianas\n",
            "************************************************\n",
            "Se entra en la funcion pivotSelection\n",
            "------------------------------------------------\n",
            "Se debe retornar la mediana del arreglo debido a el arreglo que es muy pequeño: 47\n",
            "************************************************\n",
            "pivote resultante: 95\n",
            "Se debe retornar el arreglo,este es: 95\n",
            "------------------------------------------------\n",
            "El elemento encontrado fue: 95\n"
          ]
        }
      ]
    },
    {
      "cell_type": "markdown",
      "source": [
        "# 3.Correctitud"
      ],
      "metadata": {
        "id": "T3Z-0l7fyHzX"
      }
    },
    {
      "cell_type": "markdown",
      "source": [
        "##3.1.InsertionSort"
      ],
      "metadata": {
        "id": "cdBU0LRryKt1"
      }
    },
    {
      "cell_type": "markdown",
      "source": [
        "**Teorema (Correctitud)**"
      ],
      "metadata": {
        "id": "_KHLiFhueIS6"
      }
    },
    {
      "cell_type": "markdown",
      "source": [
        "El algoritmo InsertionSort genera un arreglo de [a1,a2,...,an] con los mismos elementos que recibió en la **entrada** pero estos terminan como **salida** ordenados de menor a mayor."
      ],
      "metadata": {
        "id": "D4_k3WIZeStm"
      }
    },
    {
      "cell_type": "markdown",
      "source": [
        "**Prueba del teorema**"
      ],
      "metadata": {
        "id": "xd1YhJeOe2T4"
      }
    },
    {
      "cell_type": "markdown",
      "source": [
        "Para probar el teorema vamos a comprobar que la propiedad de bucle invariante del InsertionSort se cumple"
      ],
      "metadata": {
        "id": "dg9ftcwBfFLa"
      }
    },
    {
      "cell_type": "markdown",
      "source": [
        "La propiedad de bucle invariante del algoritmo insertionSort dice lo siguiente:"
      ],
      "metadata": {
        "id": "gEghVAREfPb5"
      }
    },
    {
      "cell_type": "markdown",
      "source": [
        "Cuando empieza una iteración del bucle que abarca al otro bucle (el for en este caso), el subarreglo a[0..i-1] contiene los mismos elementos del arreglo original, pero ordenados de menor a mayor."
      ],
      "metadata": {
        "id": "DCxy-FOnfYER"
      }
    },
    {
      "cell_type": "markdown",
      "source": [
        "**Inicialización**"
      ],
      "metadata": {
        "id": "ZVq4R955f5mm"
      }
    },
    {
      "cell_type": "markdown",
      "source": [
        "Al comienzo de la iteracion solo tendremos la primera posición del arreglo, el primer elemento del arreglo siempre esta y al ser solo un elemento este ya esta ordenado"
      ],
      "metadata": {
        "id": "DG0dOXIbf_dE"
      }
    },
    {
      "cell_type": "markdown",
      "source": [
        "**Mantención**"
      ],
      "metadata": {
        "id": "NzMvcGtUhB_D"
      }
    },
    {
      "cell_type": "markdown",
      "source": [
        "Nos colocaremos en la i-ésima iteración, asumiremos que todos los elementos previos a la posición i se encuentran ordenados, ósea que el subarreglo a[0...i-1] se encuentra ordenado.\n"
      ],
      "metadata": {
        "id": "_tr55C92hGsR"
      }
    },
    {
      "cell_type": "markdown",
      "source": [
        "Una vez hagamos la iteración, la posición i se moverá a la ubicación que le corresponde, si analizamos el nuevo subarreglo a[0...i] contiene los elementos del arreglo original y este se encontrara ordenado de menor a mayor"
      ],
      "metadata": {
        "id": "7OFD9h9Rhirr"
      }
    },
    {
      "cell_type": "markdown",
      "source": [
        "**Correctitud**"
      ],
      "metadata": {
        "id": "mQQZtbc5GZlA"
      }
    },
    {
      "cell_type": "markdown",
      "source": [
        "Como la propiedad del bucle invariante a resultado ser correcta en el inicio y en la mantención, al finalizar el algoritmo nosotros tendremos un arreglo de **n** elementos ordenado"
      ],
      "metadata": {
        "id": "W1TbAfkil8tM"
      }
    },
    {
      "cell_type": "markdown",
      "source": [
        "## 3.2.Partition"
      ],
      "metadata": {
        "id": "w5t3It581-go"
      }
    },
    {
      "cell_type": "markdown",
      "source": [
        "**Teorema (correctitud)**\n",
        "\n",
        "La función Partition recibe un arreglo A[p..r], lo reorganiza y retorna un índice \"q\" de tal forma que los elementos del arreglo A[p..q-1] son menores o iguales a A[q] y los elementos del arreglo A[q+1..r] son mayores a A[q].\n",
        "\n",
        "**Prueba del teorema**\n",
        "\n",
        "A continuación se utilizará la propiedad invariante de bucle de la función partition para probar su teorema de correctitud. Su propiedad invariante de bucle es la siguiente:\n",
        "\n",
        "\"Al comienzo de cada iteración, se cumple que para cualquier índice \"k\":\n",
        "\n",
        "Si **p ≤ k ≤ i**, entonces **A[k] ≤ A[r]**\n",
        "\n",
        "Si **i < k < j**, entonces **A[k] > A[r]**\"\n",
        "\n",
        "**Inicialización**\n",
        "\n",
        "Antes de la primera iteración, el índice i = -1 y j = 0, por lo que \"k\" sólo puede ser menor que 0. Esto significa que tanto **A[k] ≤ A[r]** como **A[k] > A[r]** están vacíos (debido a que \"k\" no es un índice válido para el arreglo). Luego, durante la primera iteración, se comparará el elemento de la posición \"j\" con el pivote y luego, dependiendo del resultado de la comparación, el elemento de la posición \"j\" será agregado al conjunto que va desde \"p\" hasta \"i\" o al conjunto que va desde \"i\" hasta \"j\", dependiendo de si este es menor o mayor que el pivote.\n",
        "\n",
        "**Mantención**\n",
        "\n",
        "Después de la n-ésima iteración, el índice \"j\" será igual a \"n - 1\" y se cumplirá que **i < j < r**, entonces para el conjunto de los números A[k] con **p ≤ k ≤ i**, este contendrá **(i - p) + 1** elementos **A[k] ≤ A[r]** y para el conjunto **i < k < j** el conjunto contendrá **(j - i) + 1** elementos **A[k] > A[r]**.\n",
        "\n",
        "Correctitud\n",
        "\n",
        "Finalmente, al ser correctas tanto la inicialización como la mantención y al reorganizar el arreglo de entrada y retornar el índice \"q\" que lo divide en un lado con elementos menores a este y otro con elementos mayores a este, se concluye que el teorema de correctitud de la función Partition es correcto."
      ],
      "metadata": {
        "id": "xCBeKvtm2kbm"
      }
    },
    {
      "cell_type": "markdown",
      "source": [
        "## 3.3.PivoteSelection"
      ],
      "metadata": {
        "id": "wn9MX2ew0le9"
      }
    },
    {
      "cell_type": "markdown",
      "source": [
        "**Teorema (correctitud)**"
      ],
      "metadata": {
        "id": "4lGvXrH95FEn"
      }
    },
    {
      "cell_type": "markdown",
      "source": [
        "La función pivoteSelection retorna correctamente el índice del arreglo que este recibe"
      ],
      "metadata": {
        "id": "8Z9rpf2qA28w"
      }
    },
    {
      "cell_type": "markdown",
      "source": [
        "**Prueba del teorema**"
      ],
      "metadata": {
        "id": "URLtgPnbDh_V"
      }
    },
    {
      "cell_type": "markdown",
      "source": [
        "Para probar este teorema se realizara inducción matematica"
      ],
      "metadata": {
        "id": "qnwELklCDkhg"
      }
    },
    {
      "cell_type": "markdown",
      "source": [
        "Durante el caso base **P(1)** pivoteSelection retornara la mediana del arreglo directamente, ya que solo hay un arreglo y una mediana.  "
      ],
      "metadata": {
        "id": "5DuCGRgWFGUY"
      }
    },
    {
      "cell_type": "markdown",
      "source": [
        "Durante el caso inductivo se debe probar **P(m)** es correcto para m < n"
      ],
      "metadata": {
        "id": "toYZD90-GQdM"
      }
    },
    {
      "cell_type": "markdown",
      "source": [
        "Si el arreglo es mayor a 5, la función pivoteSelection realizara particiones tales que m=n/5 de cada sub-arreglo más un arreglo k que tendrá el resto de elementos, se sabe que k < m y también se sabe que m < n por lo tanto se asume que el pivoteSelection entrega correctamente el índice"
      ],
      "metadata": {
        "id": "iCvo6W9EGu84"
      }
    },
    {
      "cell_type": "markdown",
      "source": [
        "Cabe destacar que las funciones insertionSort y partition son llamadas dentro de la función pivoteSelection, ya se ha probado que ambas funciones están correctas, por lo tanto la función pivoteSelection funciona correctamente"
      ],
      "metadata": {
        "id": "te3Tcgq-Ivp8"
      }
    },
    {
      "cell_type": "markdown",
      "source": [
        "## 3.4.Select"
      ],
      "metadata": {
        "id": "ZHpQQHBvJsNy"
      }
    },
    {
      "cell_type": "markdown",
      "source": [
        "**Teorema (correctitud)**"
      ],
      "metadata": {
        "id": "pvwsv4X0Jwjd"
      }
    },
    {
      "cell_type": "markdown",
      "source": [
        "La función select recibe un arreglo, su primer y ultimo índice y un índice k, esta función retorna el elemento mayor que k-1 del arreglo "
      ],
      "metadata": {
        "id": "4PMCf9bfKGyF"
      }
    },
    {
      "cell_type": "markdown",
      "source": [
        "**Prueba del teorema**"
      ],
      "metadata": {
        "id": "wMedntpTL4fE"
      }
    },
    {
      "cell_type": "markdown",
      "source": [
        "Para poder probar el teorema se utilizara inducción matematica"
      ],
      "metadata": {
        "id": "mEf6QuHIL7lj"
      }
    },
    {
      "cell_type": "markdown",
      "source": [
        "Durante el caso base **P(1)** se retornara la posición donde se encuentra el pivote de pivoteSelection esto ocurre debido a que el arreglo ya es muy pequeño"
      ],
      "metadata": {
        "id": "sYiL78FIRqDb"
      }
    },
    {
      "cell_type": "markdown",
      "source": [
        "Durante el caso inductivo se debe probar **P(m)** para m < n"
      ],
      "metadata": {
        "id": "5Wy40MNqS0wG"
      }
    },
    {
      "cell_type": "markdown",
      "source": [
        "Después de haber llamado el pivoteSelection vamos a tener un arreglo ordenado según un pivote y si el pivote no está en el índice que buscamos, entonces se realizara una búsqueda en uno de los lados que corresponde. Nuestro lado de búsqueda será un arreglo m, este arreglo si o si va a ser menor que m debido a que trabajara con una cierta cantidad de datos originales del arreglo y no con todos"
      ],
      "metadata": {
        "id": "34IduLsRSRNO"
      }
    },
    {
      "cell_type": "markdown",
      "source": [
        "Cabe destacar que la función pivoteSelection ya fue probada que era correcta, por lo tanto la función select también es correcta."
      ],
      "metadata": {
        "id": "km5W2FvtTZiK"
      }
    },
    {
      "cell_type": "markdown",
      "source": [
        "#4.Tiempo de ejecución"
      ],
      "metadata": {
        "id": "_XOo1EfaV5SK"
      }
    },
    {
      "cell_type": "markdown",
      "source": [
        "Analicemos el peor caso"
      ],
      "metadata": {
        "id": "GVvw-GRxcH9N"
      }
    },
    {
      "cell_type": "markdown",
      "source": [
        "Recordemos que el tamaño n es dividido en n/5 arreglos de cinco elementos cada uno. Si consideramos M como el arreglo de todas las medianas de los sub-arreglos entonces m tiene (n/5)-una mediana por cada uno de los sub-arreglos. Consideremos la mediana de esta lista (la mediana de medianas) p. La mitad de estos elementos en M son menores que p. La mitad de M seria n/10. Por cada uno de estos n/10 elementos se encuentran dos elementos más pequeños que este. Por lo tanto, habrá 3n/10 < p y en el peor caso habrán 7n/10 elementos restantes. El tiempo normal que toma el algoritmo para encontrar las medianas de los arreglos, la partición toma T(n)=T(n/5)+O(n) siendo O(n) el tiempo de la función partition. Ahora si tomamos "
      ],
      "metadata": {
        "id": "CTKvb4hsV8kq"
      }
    },
    {
      "cell_type": "markdown",
      "source": [
        "**T(n)=T(n/5)+T(7n/10)+O(n)**"
      ],
      "metadata": {
        "id": "GRL-5r2Dc0aW"
      }
    },
    {
      "cell_type": "markdown",
      "source": [
        "Podemos usar el teorema maestro para demostrar que la recurrencia es igual a O(n) esto ocurre debido a que caemos en el segundo caso."
      ],
      "metadata": {
        "id": "SsuxtpTuc-se"
      }
    },
    {
      "cell_type": "markdown",
      "source": [
        "Cabe destacar que gracias al metodo que usamos para elegir el pivote reduce el tiempo de ejecucion de O(n^2) a O(n) en la mayoria de casos, la unica forma en que el tiempo de ejecucion terminara en O(n^2) es si terminamos con un pivote en una situacion super desfavorable"
      ],
      "metadata": {
        "id": "ZDoBT-rSO7Z6"
      }
    },
    {
      "cell_type": "markdown",
      "source": [
        "# 5.Experimentos"
      ],
      "metadata": {
        "id": "vOUYA0eQmMHH"
      }
    },
    {
      "cell_type": "markdown",
      "source": [
        "A continuación se presentaran los siguientes experimentos realizados"
      ],
      "metadata": {
        "id": "E2l4bIhimO1P"
      }
    },
    {
      "cell_type": "markdown",
      "source": [
        "##5.1.Mejor y peor caso de select"
      ],
      "metadata": {
        "id": "P8enb4m1tkZQ"
      }
    },
    {
      "cell_type": "code",
      "source": [
        "import matplotlib.pyplot as plt\n",
        "import random\n",
        "\n",
        "x=[n for n in range(6,20)] #mejor caso\n",
        "y1=[n*n for n in range(6,20)] #peor caso\n",
        "y2=[n for n in range(6,20)]\n",
        "y=[];\n",
        "\n",
        "for n in range(6,20):\n",
        "  a= random.sample(range(1,100),n)\n",
        "  cont=0\n",
        "  b=select(a, 0, len(a)-1, 1)\n",
        "  y.append(cont)\n",
        "\n",
        "plt.plot(x,y2)\n",
        "plt.plot(x,y1)\n",
        "plt.legend([\"Mejor caso\",\"Peor caso\"])\n",
        "\n",
        "plt.xlabel('tamaño del arreglo')\n",
        "plt.ylabel('cantidad de comparaciones')\n",
        "plt.show()"
      ],
      "metadata": {
        "colab": {
          "base_uri": "https://localhost:8080/",
          "height": 279
        },
        "id": "M0Mo_plQjsfK",
        "outputId": "615d34ee-c4c9-49ac-f263-dea8e4da4290"
      },
      "execution_count": 144,
      "outputs": [
        {
          "output_type": "display_data",
          "data": {
            "text/plain": [
              "<Figure size 432x288 with 1 Axes>"
            ],
            "image/png": "[encoded data removed]"
          },
          "metadata": {
            "needs_background": "light"
          }
        }
      ]
    },
    {
      "cell_type": "markdown",
      "source": [
        "**Análisis de resultados**"
      ],
      "metadata": {
        "id": "809CpymBtfy2"
      }
    },
    {
      "cell_type": "markdown",
      "source": [
        "Se puede apreciar que en el peor caso hay una gran curva ascendiente, esta curva se debe a la manera en que el pivote termina siendo escogido, terminando en una situacion super desfavorable.Se puede observar que el mejor caso queda muy por debajo del peor caso, esto ocurre ya que en el mejor caso es mas lineal y la cantidad de comparaciones es notablemente menor en todas las funciones que hay."
      ],
      "metadata": {
        "id": "UdcCtikdxSOx"
      }
    },
    {
      "cell_type": "markdown",
      "source": [
        "##5.2.Randomized-select vs select"
      ],
      "metadata": {
        "id": "4K6J62YftbH-"
      }
    },
    {
      "cell_type": "code",
      "source": [
        "import random\n",
        "def randomizedPartition(A,low,high):\n",
        "  i=random.randint(low,high)\n",
        "\n",
        "  (A[high],A[i])=(A[i],A[high])\n",
        "  return partition(A,low,high)\n",
        "\n",
        "def selectR(arr,left,right,k):\n",
        "  if(k>0 and k<=right-left+1):\n",
        "    indPiv=randomizedPartition(arr,left,right)\n",
        "    if(indPiv-left==k-1):\n",
        "      return arr[indPiv]\n",
        "    \n",
        "    if(indPiv-left>k-1):\n",
        "      return select(arr,left,indPiv-1,k)\n",
        "    return select(arr,indPiv+1,right,k-indPiv+left-1)\n"
      ],
      "metadata": {
        "id": "YRHl2KjIRet8"
      },
      "execution_count": 126,
      "outputs": []
    },
    {
      "cell_type": "code",
      "source": [
        "import datetime\n",
        "from timeit import repeat\n",
        "\n",
        "x=[];\n",
        "y=[];\n",
        "z=[];\n",
        "for n in range(6,500):\n",
        "  a = random.sample(range(1,1000),n)\n",
        "  b = random.sample(range(1,1000),n)\n",
        "  t = repeat(setup=\"from __main__ import select\", stmt=f\"select({a},{0}, {len(a) - 1},{1})\", repeat=1, number=10)\n",
        "  k = repeat(setup=\"from __main__ import selectR\", stmt=f\"selectR({a},{0}, {len(a) - 1},{1})\", repeat=1, number=10)\n",
        "  x.append(n)\n",
        "  y.append(t)\n",
        "  z.append(k)\n",
        "plt.plot(x,y)\n",
        "plt.plot(x,z)\n",
        "\n",
        "plt.legend([\"select\",\"Random-select\"])\n",
        "plt.xlabel('Tamaño del arreglo')\n",
        "plt.ylabel('Tiempo en ms')\n",
        "plt.show()"
      ],
      "metadata": {
        "colab": {
          "base_uri": "https://localhost:8080/",
          "height": 279
        },
        "id": "G-qzbne-pmVw",
        "outputId": "4f9c89e6-dc1f-4855-a8da-0237724b893e"
      },
      "execution_count": 139,
      "outputs": [
        {
          "output_type": "display_data",
          "data": {
            "text/plain": [
              "<Figure size 432x288 with 1 Axes>"
            ],
            "image/png": "[encoded data removed]"
          },
          "metadata": {
            "needs_background": "light"
          }
        }
      ]
    },
    {
      "cell_type": "markdown",
      "source": [
        "**Análisis de los resultados**"
      ],
      "metadata": {
        "id": "-77HLPoGRIHY"
      }
    },
    {
      "cell_type": "markdown",
      "source": [
        "En primer lugar, se puede apreciar que los dos están muy cerca del otro, casi pegados, esto ocurre ya que los dos hacen de la misma forma la función select, en lo que cambian es la forma en obtener el pivote. Ahora si miramos más en detalle podemos notar que select se encuentra arriba de randomSelect en la mayor parte, esto ocurre ya que la forma de seleccionar el pivote de select es más lenta que random, random escoge aleatoriamente su pivote, pero se puede apreciar que hay veces donde select se encuentra debajo de random, esto ocurre debido a que select tomo un pivote más favorable mientras que random escogió uno menos favorable. También se puede ver que hay varios picos en select, esto ocurre por lo mismo hablado, cuando se elige mal el pivote."
      ],
      "metadata": {
        "id": "GdNpvSjysNCQ"
      }
    }
  ]
}