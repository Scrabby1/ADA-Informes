{
  "nbformat": 4,
  "nbformat_minor": 0,
  "metadata": {
    "colab": {
      "provenance": [],
      "collapsed_sections": [
        "u1guCudmIRyx",
        "a5i_ufIKIpIr"
      ],
      "toc_visible": true,
      "authorship_tag": "ABX9TyO1F/MZ5R85PX171vCqF827",
      "include_colab_link": true
    },
    "kernelspec": {
      "name": "python3",
      "display_name": "Python 3"
    },
    "language_info": {
      "name": "python"
    }
  },
  "cells": [
    {
      "cell_type": "markdown",
      "metadata": {
        "id": "view-in-github",
        "colab_type": "text"
      },
      "source": [
        "<a href=\"https://colab.research.google.com/github/Scrabby1/ADA-Informes/blob/main/Informe_BST_optimo.ipynb\" target=\"_parent\"><img src=\"https://colab.research.google.com/assets/colab-badge.svg\" alt=\"Open In Colab\"/></a>"
      ]
    },
    {
      "cell_type": "markdown",
      "source": [
        "#1.Descripción del problema"
      ],
      "metadata": {
        "id": "nTPnSuvcMiYN"
      }
    },
    {
      "cell_type": "markdown",
      "source": [
        "**Entrada:** Secuencia ordenada de **n** claves. Cada clave tiene una probabilidad de ser buscada. Existen claves ficticias que representan búsquedas fallidas. Cada clave ficticia tiene una probabilidad de ser buscada. La suma de estas probabilidades y las de las claves comunes debe ser uno."
      ],
      "metadata": {
        "id": "qaUY1N0DMray"
      }
    },
    {
      "cell_type": "markdown",
      "source": [
        "**Salida:** Un árbol de búsqueda optimo, ósea un árbol que minimice el costo esperado (cantidad de nodos visitados)."
      ],
      "metadata": {
        "id": "EXObSWJ_OUSY"
      }
    },
    {
      "cell_type": "markdown",
      "source": [
        "Cuando hacemos un algoritmo para encontrar una solución, siempre se quiere encontrar la solución más eficiente de todas, este tipo de problema se llaman problemas de optimización, en este informe se vera la solución para encontrar un árbol el cual contiene el menor coste esperado, esto lo hará el algoritmo del árbol de búsqueda binario optimo."
      ],
      "metadata": {
        "id": "urNRod6BOo-M"
      }
    },
    {
      "cell_type": "markdown",
      "source": [
        "El problema de este problema va a ser la entrada del arreglo, en este caso el tamaño de la secuencia con las claves"
      ],
      "metadata": {
        "id": "TwlN7BToRNUk"
      }
    },
    {
      "cell_type": "markdown",
      "source": [
        "#2.Árbol de busqueda binario optimo"
      ],
      "metadata": {
        "id": "b1LWVbx6T8os"
      }
    },
    {
      "cell_type": "code",
      "source": [
        "import random\n",
        "import numpy as np\n",
        "\n",
        "def optimal_bst_instance_generator(n):\n",
        "    keys = sorted(random.sample(range(1, 100), n))\n",
        "    arr = np.random.random(n*2+1)\n",
        "    arr /= arr.sum()\n",
        "    \n",
        "    p = list(arr[:n]) # Probabilidad de las claves\n",
        "    q = arr[n:] # Probabilidad de las claves ficticias\n",
        "    return keys, p, q\n",
        "    \n",
        "keys, p, q = optimal_bst_instance_generator(10)"
      ],
      "metadata": {
        "id": "f38m0ofeb3Tl"
      },
      "execution_count": 42,
      "outputs": []
    },
    {
      "cell_type": "code",
      "source": [
        "def Sum(freq, i, j):\n",
        "    s = 0\n",
        "    for k in range(i, j + 1):\n",
        "        s += freq[k]\n",
        "    return s"
      ],
      "metadata": {
        "id": "4A7wuo5ZUG_7"
      },
      "execution_count": 43,
      "outputs": []
    },
    {
      "cell_type": "markdown",
      "source": [
        "Version recursiva"
      ],
      "metadata": {
        "id": "wtw6ZsybUTEH"
      }
    },
    {
      "cell_type": "code",
      "execution_count": 49,
      "metadata": {
        "id": "ztJ4UGC9zfA-"
      },
      "outputs": [],
      "source": [
        "cont = 0\n",
        "def optCost(freq, i, j,verbose=False):\n",
        "    if j < i:\n",
        "        if(verbose==True):\n",
        "          print(\"No se encuentran elementos.Se debe retornar 0\")   \n",
        "        return 0\n",
        "    if j == i:\n",
        "        if(verbose==True):\n",
        "          print(\"Solo hay un elemento en este subarreglo,se debe retornar este.\")   \n",
        "        return freq[i]\n",
        "    \n",
        "    if(verbose==True):\n",
        "      print(\"arreglo de probabilidades actual:\",freq[i:j+1])\n",
        "    fsum = Sum(freq, i, j)\n",
        "    if(verbose==True):\n",
        "      print(\"Suma de probabilidades:\",fsum)\n",
        "    Min = 999999999999\n",
        "    for r in range(i, j + 1):\n",
        "        global cont;\n",
        "        cont+=2\n",
        "\n",
        "        if(verbose==True):\n",
        "          print(\"----------------------------------------------------------------------\")\n",
        "\n",
        "        coste = (optCost(freq, i, r - 1,verbose) +\n",
        "                optCost(freq, r + 1, j,verbose))\n",
        "        \n",
        "        if(verbose==True):\n",
        "          print(\"Se encontro el siguiente costo:\",coste)\n",
        "\n",
        "        if coste < Min:\n",
        "            if(verbose==True):\n",
        "              print(\"El costo encontrado es menor que el menor costo encontrado por lo que se actualizara el menor costo encontrado\")\n",
        "            Min = coste\n",
        "    return Min + fsum\n",
        "\n",
        "def optimalSearchTreeRecursivo(keys, freq, n,verbose=False):\n",
        "    return optCost(freq, 0, n - 1,verbose)\n"
      ]
    },
    {
      "cell_type": "code",
      "source": [
        "if __name__ == '__main__':\n",
        "    keys = [10, 12, 20]\n",
        "    freq = [34, 8, 50]\n",
        "    cont=0\n",
        "    n = len(keys)\n",
        "    print(\"Coste del BST optimo es\",\n",
        "           optimalSearchTreeRecursivo(keys, freq, n))\n",
        "    print(\"llamadas:\",cont)"
      ],
      "metadata": {
        "colab": {
          "base_uri": "https://localhost:8080/"
        },
        "id": "h2CIHXAIhxTX",
        "outputId": "260db3f4-0f4c-4ee7-81f6-1c42c6d58784"
      },
      "execution_count": 45,
      "outputs": [
        {
          "output_type": "stream",
          "name": "stdout",
          "text": [
            "Coste del BST optimo es 142\n",
            "llamadas: 14\n"
          ]
        }
      ]
    },
    {
      "cell_type": "markdown",
      "source": [
        "Version dinamica"
      ],
      "metadata": {
        "id": "Lzx3BWf8UiFJ"
      }
    },
    {
      "cell_type": "code",
      "source": [
        "INT_MAX = 2147483647\n",
        "subProblemas=0\n",
        "def optimalSearchTreeDinamico(keys, freq, n,verbose=False):\n",
        "    coste = [[0 for x in range(n)]\n",
        "               for y in range(n)]\n",
        "    \n",
        "    if(verbose==True):\n",
        "      print(\"Se construye matriz nxn\")\n",
        "\n",
        "    for i in range(n):\n",
        "        coste[i][i] = freq[i]\n",
        "\n",
        "    for L in range(2, n + 1):\n",
        "\n",
        "        for i in range(n - L + 1):\n",
        "            j = i + L - 1\n",
        "\n",
        "            off_set_sum = Sum(freq, i, j)\n",
        "            if(verbose==True):\n",
        "              print(\"Se calcula la suma de las probabilidades\")\n",
        "\n",
        "            if i >= n or j >= n:\n",
        "                break\n",
        "\n",
        "            if(verbose==True):\n",
        "              print(\"Se inicia la posicion[\",i,\"][\",j,\"]\")\n",
        "              print(\"con la variable maxima\")\n",
        "              print(\"----------------------------------------------------------------------\")\n",
        "              \n",
        "\n",
        "            coste[i][j] = INT_MAX\n",
        "\n",
        "            for r in range(i, j + 1):\n",
        "                global subProblemas\n",
        "\n",
        "                c = 0\n",
        "\n",
        "                if (r > i):\n",
        "\n",
        "                    if(verbose==True):\n",
        "                      print(r,\">\",i)\n",
        "\n",
        "                    c += coste[i][r - 1]\n",
        "\n",
        "                if (r < j):\n",
        "\n",
        "                    if(verbose==True):\n",
        "                      print(r,\"<\",j)\n",
        "\n",
        "                    c += coste[r + 1][j]\n",
        "\n",
        "                c += off_set_sum\n",
        "                subProblemas+=1\n",
        "\n",
        "                if (c < coste[i][j]):\n",
        "\n",
        "                    if(verbose==True):\n",
        "                      print(c,\"<\",coste[i][j])\n",
        "\n",
        "                    coste[i][j] = c\n",
        "\n",
        "    return coste[0][n - 1]"
      ],
      "metadata": {
        "id": "EPctIQH-Ukak"
      },
      "execution_count": 52,
      "outputs": []
    },
    {
      "cell_type": "code",
      "source": [
        "if __name__ == '__main__':\n",
        "    keys = [10, 12, 20]\n",
        "    freq = [34, 8, 50]\n",
        "    n = len(keys)\n",
        "    print(\"Coste del BST optimo es\",\n",
        "           optimalSearchTreeDinamico(keys, freq, n))"
      ],
      "metadata": {
        "colab": {
          "base_uri": "https://localhost:8080/"
        },
        "id": "8DONEAB_iHm5",
        "outputId": "6f8af4d5-edcf-492d-bd56-c0b5bca33ebf"
      },
      "execution_count": 47,
      "outputs": [
        {
          "output_type": "stream",
          "name": "stdout",
          "text": [
            "Coste del BST optimo es 142\n"
          ]
        }
      ]
    },
    {
      "cell_type": "markdown",
      "source": [
        "##2.1.Descripción del algoritmo"
      ],
      "metadata": {
        "id": "D_4jddJOOFVU"
      }
    },
    {
      "cell_type": "markdown",
      "source": [
        "Ambas versiones de este algoritmo tienen el mismo objetivo, a base de dos arreglos claves **key** y sus probabilidades **prob** debe retornar una suma la cual es el costo esperado ósea la cantidad de nodos que se deben visitar para llegar a la ubicación deseada"
      ],
      "metadata": {
        "id": "fups1o8EORIh"
      }
    },
    {
      "cell_type": "markdown",
      "source": [
        "Estos algoritmos poseen una subestructura optima la cual es la siguiente:"
      ],
      "metadata": {
        "id": "jAwc2CnBcGr8"
      }
    },
    {
      "cell_type": "markdown",
      "source": [
        "![Captura de pantalla 2022-10-14 140733.png](data:image/png;base64,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)"
      ],
      "metadata": {
        "id": "H3EYSgygd37E"
      }
    },
    {
      "cell_type": "markdown",
      "source": [
        "Para encontrar el resultado debemos calcular **optcost(0,n-1)**"
      ],
      "metadata": {
        "id": "0Mu54hWweAVX"
      }
    },
    {
      "cell_type": "markdown",
      "source": [
        "La idea de la fórmula de arriba es la siguiente uno por uno consideraremos los nodos como raíces (r varia de i hasta j en el segundo termino). Cuando llegamos al r-ésimo nodo como raíz, nosotros recursivamente calcularemos el costo optimo desde i hasta r-1 y r+1 hasta j\n",
        "\n",
        "Agregamos una suma de probabilidades desde i hasta j. La razón de esto es debido a que a medida que tomamos r como raíz, entonces todos los elementos que van en el nivel 1 hacia abajo es calculado en un subproblema.\n"
      ],
      "metadata": {
        "id": "a4wnXzCIkaMh"
      }
    },
    {
      "cell_type": "markdown",
      "source": [
        "**Versión recursiva:** Para esta versión se compone de dos funciones, la primera que recibe el arreglo de claves keys, las probabilidades de las claves prob y el tamaño del arreglo de claves n, luego esta primera llama a la segunda con los siguientes parámetros las probabilidades de las claves, la posición inicial 0 y la posición final n-1\n",
        "\n",
        "La segunda función se encarga de realizar todo, esta funciona recursivamente sus casos bases son cuando el índice j es menor que el i, cuando ocurre debe retornar 0, esto significa que no hay elementos en el arreglo que se recibió, el otro caso base es cuando el índice j es igual a i, esto significa que solo hay un elemento\n",
        "\n",
        "Luego para el resto de los casos se hace lo siguiente, se obtiene la sumatoria de las probabilidades desde i hasta j. Luego se define un valor mínimo, en un ciclo se empieza a recorrer el arreglo dado, cada iteración se calcula el costo de manera recursiva desde los lados izquierdo y derecho de la posición que estamos moviéndonos, si el costo calculado es menor al valor mínimo se le asigna el coste. Al final se retornara la suma del valor mínimo y la sumatoria de probabilidades\n"
      ],
      "metadata": {
        "id": "C0YZrFnGsXQt"
      }
    },
    {
      "cell_type": "markdown",
      "source": [
        "**Versión dinámica:** Este algoritmo crea una matriz para guardar los costes calculados\n",
        "\n",
        "Primero se guardara el resultado para una simple clave, ese resultado es la probabilidad misma de la clave"
      ],
      "metadata": {
        "id": "gpWdUMBn8YHs"
      }
    },
    {
      "cell_type": "markdown",
      "source": [
        "Ahora se deben considerar todas las cadenas posibles, ósea las cadenas con 2 claves, tres claves etc."
      ],
      "metadata": {
        "id": "vS53Rq-2ADJ3"
      }
    },
    {
      "cell_type": "markdown",
      "source": [
        "para poder ver todos estos datos vamos a utilizar un ciclo iterativo, las i serán las filas de la matriz de coste y j serán las columnas, vamos a recorrer los costos guardados en nuestra matriz y con esos vamos a ir visitando las claves como raíces y el resultado optimo será guardado en la posición correcta."
      ],
      "metadata": {
        "id": "hi2E_yJNBB56"
      }
    },
    {
      "cell_type": "markdown",
      "source": [
        "Como salida de ambos algoritmos vamos a tener el coste más eficiente del coste esperado del árbol"
      ],
      "metadata": {
        "id": "AdwDITz3Hby3"
      }
    },
    {
      "cell_type": "markdown",
      "source": [
        "##2.2.Ejecución con verbose (Recursivo)"
      ],
      "metadata": {
        "id": "FW60_NcruikS"
      }
    },
    {
      "cell_type": "code",
      "source": [
        "import random\n",
        "a= random.sample(range(1,100),3)\n",
        "b= random.sample(range(1,100),3)\n",
        "print(\"Arreglo de claves:\",a)\n",
        "print(\"Arreglo de probabilidades:\",b)\n",
        "n=3\n",
        "print(\"Coste del BST optimo es\",optimalSearchTreeRecursivo(keys, freq, n,True))"
      ],
      "metadata": {
        "id": "LAxKWKz02oLB",
        "colab": {
          "base_uri": "https://localhost:8080/"
        },
        "outputId": "eb9a2ca1-7c06-4130-925d-834fdfebe51b"
      },
      "execution_count": 50,
      "outputs": [
        {
          "output_type": "stream",
          "name": "stdout",
          "text": [
            "Arreglo de claves: [54, 63, 48]\n",
            "Arreglo de probabilidades: [47, 95, 82]\n",
            "arreglo de probabilidades actual: [34, 8, 50]\n",
            "Suma de probabilidades: 92\n",
            "----------------------------------------------------------------------\n",
            "No se encuentran elementos.Se debe retornar 0\n",
            "arreglo de probabilidades actual: [8, 50]\n",
            "Suma de probabilidades: 58\n",
            "----------------------------------------------------------------------\n",
            "No se encuentran elementos.Se debe retornar 0\n",
            "Solo hay un elemento en este subarreglo,se debe retornar este.\n",
            "Se encontro el siguiente costo: 50\n",
            "El costo encontrado es menor que el menor costo encontrado por lo que se actualizara el menor costo encontrado\n",
            "----------------------------------------------------------------------\n",
            "Solo hay un elemento en este subarreglo,se debe retornar este.\n",
            "No se encuentran elementos.Se debe retornar 0\n",
            "Se encontro el siguiente costo: 8\n",
            "El costo encontrado es menor que el menor costo encontrado por lo que se actualizara el menor costo encontrado\n",
            "Se encontro el siguiente costo: 66\n",
            "El costo encontrado es menor que el menor costo encontrado por lo que se actualizara el menor costo encontrado\n",
            "----------------------------------------------------------------------\n",
            "Solo hay un elemento en este subarreglo,se debe retornar este.\n",
            "Solo hay un elemento en este subarreglo,se debe retornar este.\n",
            "Se encontro el siguiente costo: 84\n",
            "----------------------------------------------------------------------\n",
            "arreglo de probabilidades actual: [34, 8]\n",
            "Suma de probabilidades: 42\n",
            "----------------------------------------------------------------------\n",
            "No se encuentran elementos.Se debe retornar 0\n",
            "Solo hay un elemento en este subarreglo,se debe retornar este.\n",
            "Se encontro el siguiente costo: 8\n",
            "El costo encontrado es menor que el menor costo encontrado por lo que se actualizara el menor costo encontrado\n",
            "----------------------------------------------------------------------\n",
            "Solo hay un elemento en este subarreglo,se debe retornar este.\n",
            "No se encuentran elementos.Se debe retornar 0\n",
            "Se encontro el siguiente costo: 34\n",
            "No se encuentran elementos.Se debe retornar 0\n",
            "Se encontro el siguiente costo: 50\n",
            "El costo encontrado es menor que el menor costo encontrado por lo que se actualizara el menor costo encontrado\n",
            "Coste del BST optimo es 142\n"
          ]
        }
      ]
    },
    {
      "cell_type": "markdown",
      "source": [
        "##2.3.Ejecución con verbose (Dinámico)"
      ],
      "metadata": {
        "id": "gqd4ozEDuoTF"
      }
    },
    {
      "cell_type": "code",
      "source": [
        "import random\n",
        "a= random.sample(range(1,100),3)\n",
        "b= random.sample(range(1,100),3)\n",
        "print(\"Arreglo de claves:\",a)\n",
        "print(\"Arreglo de probabilidades:\",b)\n",
        "n=3\n",
        "print(\"Coste del BST optimo es\",optimalSearchTreeDinamico(keys, freq, n,True))"
      ],
      "metadata": {
        "colab": {
          "base_uri": "https://localhost:8080/"
        },
        "id": "c9Yn9rqCvQdB",
        "outputId": "69eef2b4-65fe-42f9-d62d-fe50c3711f93"
      },
      "execution_count": 53,
      "outputs": [
        {
          "output_type": "stream",
          "name": "stdout",
          "text": [
            "Arreglo de claves: [24, 32, 9]\n",
            "Arreglo de probabilidades: [51, 99, 4]\n",
            "Se construye matriz nxn\n",
            "Se calcula la suma de las probabilidades\n",
            "Se inicia la posicion[ 0 ][ 1 ]\n",
            "con la variable maxima\n",
            "----------------------------------------------------------------------\n",
            "0 < 1\n",
            "50 < 2147483647\n",
            "1 > 0\n",
            "Se calcula la suma de las probabilidades\n",
            "Se inicia la posicion[ 1 ][ 2 ]\n",
            "con la variable maxima\n",
            "----------------------------------------------------------------------\n",
            "1 < 2\n",
            "108 < 2147483647\n",
            "2 > 1\n",
            "66 < 108\n",
            "Se calcula la suma de las probabilidades\n",
            "Se inicia la posicion[ 0 ][ 2 ]\n",
            "con la variable maxima\n",
            "----------------------------------------------------------------------\n",
            "0 < 2\n",
            "158 < 2147483647\n",
            "1 > 0\n",
            "1 < 2\n",
            "2 > 0\n",
            "142 < 158\n",
            "Coste del BST optimo es 142\n"
          ]
        }
      ]
    },
    {
      "cell_type": "markdown",
      "source": [
        "#3.Correctitud"
      ],
      "metadata": {
        "id": "u1guCudmIRyx"
      }
    },
    {
      "cell_type": "markdown",
      "source": [
        "Vamos a probar la correctitud de la versión dinámica"
      ],
      "metadata": {
        "id": "GoE-cYrVJ5r3"
      }
    },
    {
      "cell_type": "markdown",
      "source": [
        "Resolver el problema original en un algoritmo dinámico es resolver una cantidad de subproblemas previos \n",
        "\n",
        "Sea 1<=i<=j<=n y T sea cualquier BST em i,......,j. Vamos a definir el costo como"
      ],
      "metadata": {
        "id": "lAOVWx9QKXRT"
      }
    },
    {
      "cell_type": "markdown",
      "source": [
        "![Captura de pantalla 2022-10-15 121557.png](data:image/png;base64,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)"
      ],
      "metadata": {
        "id": "VFKUgv_AOMXk"
      }
    },
    {
      "cell_type": "markdown",
      "source": [
        "Y el costo de los subproblemas va a ser"
      ],
      "metadata": {
        "id": "RZlbO0ZsONqM"
      }
    },
    {
      "cell_type": "markdown",
      "source": [
        "![Captura de pantalla 2022-10-15 121957.png](data:image/png;base64,iVBORw0KGgoAAAANSUhEUgAAAJIAAAAkCAYAAABi6GPmAAAAAXNSR0IArs4c6QAAAARnQU1BAACxjwv8YQUAAAAJcEhZcwAADsMAAA7DAcdvqGQAAAq7SURBVHhe7ZsLVFTVGsf/c0Z5DIyQel0gBOJbM3SCJAs0kRS5adnNfFSY2K3sLm/dm3jVu3SVK11lpib5wEeACQvBRFS4YgoGiIyARD5AlJcI8hBmhBlghpmz75mZM0jCAMMMLLPzW+ss9vPMOd/57/19e58DjzCAg8NEKPYvB4dJcELiMAuckDjMAickDrNgZiGpIC27iku/pCH3jgy0poiuR02tSlvL0Vf0zO70vXPYfyQLjWy+R0gzEb4/GVXakxrGTKs2GQqOb8PWmGJYjnDHC9PGw7oiF3mtkyCqPIzLs6OxdZYl2/YJg67AqY3rkTJpI75ZPAp8trh/MMLuijyErDsHry8/w1QBc9mVR7Dib2FQPu+F0UOtwbubjmPprfB8YyZGDlSioVSMC/d8kX1mLaS/bMEXN+bj65WTYKE7W0c0QjIJVSmJW+VNng8MJzdkbJkWNamOeos42L9BIiVs0ZOIqpgc+XAuCQy9TlrZon7BKLuryM2QIPJZopTNq8mdA5+QtT/XMSkNKlKw5QUi8NxErqm0BYS0ZpHPP93LZu6TmJXLyL4ifWVHTBSSlKSu9yROL28lVxVsUXtqQslrs7eTEt3VcpgNI+3ekkaC5/+HXNS3VZeRwzujSKW+Xl1NDgQMIqP+eYG0na41jxzYl8xmCGk+/wl5db34Yf0jmBQjKbK+xaffNWDhplWY1NmcJxyO6QEz4fxHCemZuOLqmWhEHIxC+j0ZStLiEBV1DMkFUibuUODOpXhEhUcgLqcGaraL7GYKYg4fRERyKVNGo/7qGURHHERU+j3IStJw/EgYIk7moa6bGMMYjLW7MusEMoZOwxR9W0LDw38eHPXPpTkDqTmW8PLxeOi6eEPh/bKIzQBWz78Iu7R45BkKd1lB9QIZOb3CiVhM2Uhy+2RObyDXEn8k4WFhJMzgEU5+PJtP5GwP02kgxRmHSOC4sWTBhj3kVL6MqCVnyErRLPLvkD3k2G9Sopalk9WeL5HNv+luuvluFjm8YgJxeT+RtGjOUJxBDgWOI2MXbCB7TuUTmVpCznw0mfhuv8k4EHNgrN3VpGyHH/HbXsq6sY4o0v5FxtrOJnvbpqhOUOWTzdMDyJ57nbfp/VyhvI70zFoMf2kGJgxgy7qArghH0PIwlLcbmaqcLVi4OglNbP738GEz2AEODt0cg4Xowc/3ECHcvPwgcqxGw7D5CBhvA8reE1OGiSFumYPXn7UDZSOCyKUQOVeV2h5WTs/Bb4pTW5AtdPOCn8gR1Q3DMD9gPGwoe3iKhuNm7g20sm1Mwki7a1Z05eW1GDR0iIEluhrFqRdxd7w3fIZ1IQf+EAwVVjPn6nxq7b2QSD3qpBRcR43CQLbo98hxOS2rTSSU03v4IWw5nm73iwM81iN22xwwi4hOEGAE81Dn+PvD3+AxB34eToZXEr2FJ4Cjk97wFCi+JRydHdrEQlGMo2vRCalzeBA4OmEIe68UxWPaK3TLclMx0u5MBygUjOCtDDxq+j5S0/LhMM0Ho7tccgpgY61izmVuIQ0YjdGufDQ1yZlL7Yi6NAE5tcNhxaSlv55C+PatiLzBGp+JRbLjwrHnm904Z2iDgq5ByvfrsCY4GMEGjzVYvz8DD9gu5oMHHo9Nank03z08Yzv0FCPsroMPW+EANMkMzIdMfJR2RRMfeaLLDRpajsYmK9gO6lwyvRcSfySW/H02qhOOQ68PPXT9JYSfsMDs+U6glGLEZtpBpPwZP4k1j5xGVWI0CsYthKckBpGXDIxsahheem8N1q5d2+UR/PZU2LFd+gsmJGBTOjQ5M2zG9Yye2p0tY5QHt1HOqLtbzji5jihzfkFmkwg+3p37hTboSlQ2PI3RLqw/VZfif7t24ORt3UXwP2fQpoyGBzt3X4iqD2JdSC5Ug2zBkxTiYkIsfsoW4K8fvYYxGp/Dd8DkSVKEfpGFaesCMcWWgmDUc3j2L9U4/m0SHD8IhJdd56OXb2ENa4EAAoMHU2/R+7HQAXU5zu3djojEbBTVK2Hr4gJJwg6Enc5GYa0C1k7OkJ8LwaH4yyioaYaF40Q4Fkfi2/BEZN2WgBr+DJzLj2JHRCKyi+qhtHWBiyQBO8JOI/vWfSisnDF5sgsEJk1WPbR7O6ysihAV24IFC93ZmUqNsqR92BeTgJiIGGTc50PIq0VhGR8T3A1cH3MfISeHYEXQixisMXlDMr56/0vkjlmKN91ttaPLZFolpeTXCwkkMe06qWpmC9uhSF9NfJYdI6VpKeSKZmmjQRJJFs/oqxXfn4Pu7N6G6ibZ9uYHJK6BzfeC+pgVZFFIicGVZ7982NZ44n28c8ETM90nYlnQdDzFlCmSPobvyQVI3v1K1765l9DSEuQV1kDZ4e54sHaYCHdXZhT9iZCcYeLJOyvx/Qduxr/GURci5OMITNq2GTOFbNkjmNEvGEb4eigiv3gHqxgR2TFBYhOUyEstwBjfqX0iIsbzIytkIw7k3oeKmaaLDixD0KESJlygoCiJxFeHrrHtzAmNivAgLA8rN8/qTIsKOVsWYnVS5xskxvDU7GC8UReG2BL9VmpPUaLwSDjkS1ZjhgERadHOS/2F+i7Z/aoP+XjHRhL00X5yzdB+u6m0XCShoZnaDUKiriC754wlH55lfarsOAmLvq9L/9loLSXnE6+QRjbbIyRicjr5Trebqf3+zbZaWoZbEiFGug02//6PHroRD5psYMcE9miMwZLJsZh3JRZL7TV1MjQ220Joo2vahjwfJ49eQpOtNeRyO8xYFICRkgsI+eYw5F6L8HRLNWQ1DzD63X/gleGPTuRS/HrqBJLzB8L/07cx0Qw3RtdnI/7kZdyWj8W7K/3g0C++o/f0++Xx7V0xvi9FpIES6kTEoMhKxRU3b3gP0maZuk5ERFchdtUG3HghEIvfWoJ33MVY89lpUE4+mOdcgsg04NXlgVjqcAFf/pDf9p5Nj1Ici0w7EZQ//wTtDoepMNeTGF2AcQs9IYmJhKEdkseJx1znpqLCzdTLEL44HR0mkfY0pyDmvDXGjdTtkVhOGAcqMZZJ8UBRfLg+467dqxpoZQmFTNZBSBYey/Ge8DiS7F9DwBC20BSoYZj74VKMr8tErkAEjz4ddebhyRYSXY3UDCk8vCd2/T5uoAtcB0tR+0AXJtPSesgdRmjTGiiqGzMNoJETlQLXxS/jVmouFIzUJJVVkLPVakkVath4uX2ayaDqYQUqq/Q9KPD5FBrSL6F5ajeD4DHhCRUSjbrceETs/QrRvwmgyD+K87cVbF0nWEzDf3fNxI2duxFz4ih27SxCwHerQd/LREJ2FSrEp5FVlIfE1BLUXk9Ceumjc5ICtZKnYF8bh0JqBCwVKdjg649NFzU+SYGz62YhKKLskTSTO7sOs4IidOmUDfD136RN61BAnH4Hz3hPMONL6T5EG3JzsCiItK6hd186qhqJtPHh2kZVHE/ixMYsS1WkOD6O+asmcpmcuRQxWT9zGTmm/6jxMefJdm1GYwG73n6WwrdlAnx2q4+uQ2aGGmOe63lwQzPxUIZ6DOiKfVg0Nxg7N4eifkkw5vX3i8Rewv3Ldh+hibaMG6X6HmpIy25BIhwJt8F/gCibhRMSh1ngXBuHWeCExGEWOCFxmAVOSBxmgRMSh1nghMRhFjghcZgB4P94a4SLf2GWxgAAAABJRU5ErkJggg==)"
      ],
      "metadata": {
        "id": "ebpzppkBO0XV"
      }
    },
    {
      "cell_type": "markdown",
      "source": [
        "Esto se vincula con la subestructura optima explicada anteriormente y que esta nos permite resolver y guardar los subproblemas para ir combinándolos y llegar al resultado esperado, siendo este el original"
      ],
      "metadata": {
        "id": "G0IGuGyMQBM6"
      }
    },
    {
      "cell_type": "markdown",
      "source": [
        "**Relación de recurrencia**"
      ],
      "metadata": {
        "id": "89ZrUEpmRRm0"
      }
    },
    {
      "cell_type": "markdown",
      "source": [
        "Supongamos que la raíz de T en i,.....,j es k"
      ],
      "metadata": {
        "id": "S4XTsw5GRUC9"
      }
    },
    {
      "cell_type": "markdown",
      "source": [
        "![Captura de pantalla 2022-10-15 123155.png](data:image/png;base64,iVBORw0KGgoAAAANSUhEUgAAASgAAAE9CAYAAAC4HP8xAAAAAXNSR0IArs4c6QAAAARnQU1BAACxjwv8YQUAAAAJcEhZcwAADsMAAA7DAcdvqGQAACRqSURBVHhe7Z0JtFVVHcb/KNNDQCZxCJlidmJUApkeQggICGhqCilWKGhF1EpbqKsWlbUss0w0XQnRyjJQEZ8pMSTKLIOEoMgsYCECCsik5rfbR56vB+/cd/c5Zw/fb623eG/fx4J777nf2f/9H74Kn3yKEEKIhZyi/ySEEOugQBFCrIUCRQixFgoUIcRaKFCEEGuhQBFCrIUCRQixFgoUIcRaWKhJyg0unTfffFOWL18ua9askf3798uhQ4fk8OHDUqlSJalatapUq1ZNmjdvLu3bt5fzzz9frRMSFwoUic2HH34ozzzzjCxatEheffVVee2116RevXpKfC644AKpWbOmFBQUSJUqVeTIkSNKrA4ePChr165VIrZx40Zp1aqV+v1OnTrJ0KFD1d8n5ERQoEiZYJf00EMPydSpU+Xiiy+WXr16KZHBV61atfRvlQ0EDqIGcVu4cKE899xz0r9/f7nllluka9eu+rcIOQ4FipTKxx9/LE899ZQSJoRvN910k3zjG9+QRo0a6d/Inz179sjkyZNl0qRJatcFobrhhhvktNNO079BQocCRf6PN954Q2688UZ1xvStb31LhWKVK1fWjybDnDlz5Le//a2sWLFCHnvsMSksLNSPkJChQJHPwK7pl7/8pdx7773yox/9SEaPHi0VKlTQj6bD3//+d7VTGzBggPziF7+Q6tWr60dIiLDMgCiwa7r00kulqKhIli5dqsKttMUJ9OvXT1avXq0O2XHwjp0VCRcKFJHZs2dLt27d1PkPvm/cuLF+JBtOP/10Febh/GvkyJHy61//Wj9CQoMhXuBAkK677jqZNm2a2kHZxtatW1XW8Pbbb1fnYSQsuIMKGNvFCTRs2FDmzp0rDzzwAHdSAUKBChQXxCmCIhUuDPECBIWXEKXp06dbL07F2bZtm/To0UNlGocMGaJXic9QoAIDpQQ4EL/22mtl7NixetUdFixYIFdddZWqSK9bt65eJb7CEC8w7r//flV0OWbMGL3iFl26dJFrrrlGbrvtNr1CfIY7qIBAaIeet8WLF0vTpk31qnugp69t27aqoJShnt9QoAIBoV337t3V7sPF0K4kDPXCgCFeIMycOVNVZ7sa2pUEod6gQYOY1fMc7qACAS0k119/vfryBcyZ6t27t2zZsoWD8DyFO6gA2LBhgxoYh5DIJ1q3bi0tW7aUp59+Wq8Q36BABcDDDz8sX/va19TMJd9AUzN69oifMMTzHIzdRSU2xvS6nLk7EUePHlVD9DD1AOOEiV9wB+U5GKvbrl07L8UJ4OwJw/Uef/xxvUJ8ggLlOdg5oT3EZ/D8UNtF/IMC5Tk4HO/QoYP+yU/w/FauXKlGFBO/oEB5DmZ8w33FZ1CoCcsr2FoRv6BAecymTZuUQ8oZZ5yhV/wFIozdIvELCpTH4AOb5u4Jleqo7MboYFhKpQmeJ/z2iF9QoDzm9ddfV8YDaYEpCc2aNVMzxRFypcmFF16oni/xCwqUx+zfvz9VoUBDMnZtEMXt27fL/Pnz5dixY/rRZIE91YEDB/RPxBcoUB6DsSRVq1bVPyUP/r3169er72fMmCG/+tWvZOfOnernpCkoKFBFqcQvKFAegzOhNNtb3nnnHWWTjlEoAwcOlClTpsi5556rH00WPM/Dhw/rn4gvUKA8BlXWEKm0wBnQl770Jenbt6+yMUeTMsLMNMDz5EQD/6BAeQzCuzTDHow/QVsNeuN27dolq1atSi3ExPNMM5wl6UCB8phq1aqlenAMY01MTYBTzIMPPqhmT1WsWFE/miwHDx5Uz5f4BQXKY1q0aKF2NWmBc6BTTz1VfY+s2imnpHd5IbzE8yV+QYHymJCqq9MuSiXpQIHyGEybRGZt3759esVfUEVOgfIPCpTHIMRChTUahn3mgw8+kB07dnBgnYdQoDwHo0h8D/MgwBDi6PyL+AMFynM6duyoCid9Bs8Pz5P4B2eSew7On5o0aSLr1q2T+vXr61V/wOWL7N0f//hH6dy5s14lvsAdlOdgssDw4cPl0Ucf1St+MWvWLKlRowbFyVMoUAEAa6ZHHnlETRvwDVhO4fkRP6FABQDaT8466ywpKirSK37w9ttvq5Eu1113nV4hvkGBCoRbb71VNfD6xKRJk5Q4Yawx8RMekgcCRpFcdNFF8pOf/ESGDh2qV93ljTfeUD1/S5culcaNG+tV4hsUqIBYuHChDBs2TFavXq2cUFwFZ2kQJzQjY2dI/IUhXkBgVhNCorFjx+oVN8GkToxW4eG4/3AHFRiYm9S2bVtnQ70otFuyZImq7yJ+wx1UYGDn8Yc//EHGjBkjb731ll51g/fff1+++tWvyj333ENxCgQKVIAg1Js4caIUFhY6I1IQp379+skll1yixJWEAQUqUG666Sa1E3FBpCJxQj0XJnWScKBABYwLIkVxChsKVOBEItWrVy/5xz/+oVftAA3O+H9RnMKFAkWUSD322GMyatQo+eY3v6kGwGXJRx99JD//+c+lW7du8vWvf53iFDAUKKKAlx0KOFEECevyrHZT2DV17dpVXnzxRVm2bJmMHj1aP0JChAJFFFu3bpUhQ4ao3QomH2A3NWLEiNSmcW7ZskXuuOMOtWuCdRXGqEyYMEHmzZunf4OECAWKKO+8QYMGKbvyypUrf7abat26tSrmRGp/8uTJxk1AsVvDhIUrrrhCTcREvyDMD7BrqlChgowcOVKuueYa5VBMwoSV5IGDtx8ihN680obaQUSef/55+d3vfqeqt2+44Qbp2bOnclBp0KCB/q34vPfee2pXhr5AFIzWq1dPtaxAiAoKCvRvHQcTC37zm9+o369Zs6ZeJaFAgQqcO++8U1555RV15lSpUiW9WjqbN29WO6nFixernQ6AUOELpgWYbAmRgYHnkSNH1I4Ljr8wD4Uo4QsChVYb7JjQFwhTh7K47bbbVBnEzJkzaYwQGBSogJk6darcfffdSnCwk8mV7du3fyY8a9askf379ytRQqgGsUNbDQQLM8MjIWvWrJkK33IBWb3LL79czjvvPNUoTMKBAhUoixYtksGDB8ucOXPUB9929u7dq+aOjx8/Xm6++Wa9SnyHAhUgyNihH+/3v/+99O/fX6/az/r161WW7y9/+Yv06NFDrxKfYRYvMKKM3Xe/+12nxAk0b95c/vSnP6kD9Y0bN+pV4jPcQQUE3mpM1KxTp47TNlRwcsF8dWb2/IcCFRA//OEP5eWXX46VsbMdTAXdtGmTPPvss3LKKQwEfIXvbCAgNHriiSdk2rRpzosTuP/++1UpAw7Nib9QoAIAGbtx48bJjBkzylVOYCMVK1aUJ598UlWio9GZ+AlDPM9xNWMXF2b2/IY7KI9xOWMXF2b2/IY7KE/B24qMXe3atYMIgZjZ8xMKlKcgYzd//nyVscOEghBAZg+7KGT22LPnBwzxPCTK2E2fPj0YcQLI7B07dky+973v6RXiOhQoz/AxYxcXZPb++te/qsyey4Wo5DgM8TzC94xdXJjZ8wfuoDwhhIxdXJjZ8wfuoDwAb+HJpmKGCjN77kOB8oBcpmKGBjN7bsMQz3EwFRNnLb702JkmyuyxZ89NKFAOg4wdzpxCzNjFJcrswfiB4a97MMRzFGbscoOZPTfhDspBmLHLHWb23IQ7KMfA28WMXflhZs8tKFCOwYxd/jCz5w4M8RyCGTszILN39OhR9uw5AAXKEULusTNN8WmcDJPthiGeAzBjlwzM7NkPd1CWw4xdcjCzZz/cQVkM3hoffOxsh5k9e6FAWQwzdunBzJ6dMMSzFGbs0oXTOO2EAmUhUY8d7ubM2KVD8Wmc9NmzB4Z4lrFt2zbp3LkzM3YZwcyeXXAHZRHM2GUPM3t2wR2UJeBtYMbOHpjZswMKlCUwY2cfzOxlD0M8C2DGzk6Y2cse7qAyBhm7wYMHy9y5c6VNmzZ6ldjC3r17VdICI4NvvvlmvUrSggKVIeyxcwNm9rKDIV5GMGPnDszsZQd3UBmAl5xTMd2Dmb30oUBlADN27sLMXrowxEsZZuzchj576UKBShGEBpiKyR47d6HPXrowxEsJZuz8gpm9dOAOKgWYsfMPZvbSgTuohMHLy4ydvzCzlywUqIRhxs5/mNlLDoZ4CcKMXRgws5ccFKiEYMYuHJjZSw6GeAnAjF2YMLNnHu6gDMOMXbhEmb2vfOUrsmHDBr1K8oE7KIPgpWTGjjCzZw4KlEGYsSMRzOyZgSGeIZixI8VhZs8MFCgDMGNHSsLMnhkY4uUJM3bkZDCzlx/cQeUBM3akLNizlx/cQZUTvGzM2JG4MLNXPihQ5YQZO5IrzOzlDkO8csCMHSkPzOzlDgUqR5ixI+WFmb3cYYiXA8zYERMwsxcf7qBiwowdMQUze/HhDioGeImYsSOmYWavbChQMWDGjiQFM3snhyFeGTBjR5KEmb2TQ4EqhbfffludE4BZs2bJjBkzmLEjiRBl9jZv3iwjRoxQZ1PkOAzxSuG+++5TdzScDXTu3FmvEpIcR44ckSpVqsj5558vq1ev1quEO6hS+POf/6zSv/iTkDR44YUXpEOHDrJt2zZ599139SqhQJXgrbfekh07dsikSZPkySeflI8//lg/QkhyPPHEEzJq1ChVwvK3v/1NrxIKVAmwa7rqqqukVatWcs4558i8efP0I4Qkw8GDB6WoqEhdd9deey137sWgQJUAdzIU0AH8iZ8JSZKZM2fKJZdcohIxX/7yl2XNmjWyfft2/WjYUKCK8dprr6m7GdpZANw5pk+fLkePHlU/E5IE2DFh5wQqV64sQ4YMUaUthAL1OXChRLsncO6550qbNm3kxRdf1CuEmGXfvn0yd+5cufLKK/UKd+7FoUAVA3et4gIF8DPPBEhSPPXUU1JYWPi5VpdevXqpbB4SNqFDgdIsWrRIqlatKhdddJFe+R84uHzuuefkww8/1CuEmKN4eBeBlpfhw4dzF/UpFChNaRcKOOOMM+Tiiy9WB5mEmGTXrl2yZMkSGThwoF45Dq5FChQFSoFaJ9Q8lQzvIpj6JUmAa27AgAFSUFCgV46DRM3+/fuDryqnQH0Kap1Q8xT135UEB5hz5syR999/X68Qkj/YIZW2awcVKlRQWeTQd1EUqE852YUCTj/9dHVwiQNNQkyAQ/C1a9dK37599cr/wzCPAqVqnFDrhLvVyWCYR0yCjDF25icb4dO2bVtVF7V48WK9Eh7BCxSaNFHr1KBBA71SOjjIxIXCRk5iAuyMTnTmWZzQa6KCF6iywruIatWqqUZOHGwSkg8wTUBDes+ePfXKiYFAYV5UqE3rQQsUaptQ44SakzjwTICYANfQ1VdfLaecUvbHr2XLlnLmmWfKSy+9pFfCImiBwhxoNGmi1ikObOQkJsBZZpzwLiLk88+gBSpueBeBA00cbLKRk5QXNKQfOnQop0mtITetBytQqGlCbVPxJs044M7HbB4pL7h2ysoYl6Rhw4Yq1MN8/NAIVqBKa9KMA+qhYKrARk5SHnLdtUeEemMMVqDwZpfnQsHBJg44eVhOcgUN6cgGX3jhhXolPmhaRz9oaE3rQQoUmjRR01Rak2YcGOaR8oBrJpfD8eIgk9exY0eVdQ6JIAUKQ+lP1KQZBzRyYvIm7YFIXKKG9PLs2iPwd0PbuQcpUPncySK4iyK5EDWkN2vWTK/kztChQ5X9fkhN68EJFA64X3/99ZM2acaBneYkF3Ct5HtTrFWrlvJrfOaZZ/SK/wQnUFGTJpow8wGNnHCCDbmRk8QjbkN6HEIL84ITKBPhXQTDPBIHNKS3bt1amXDkyxVXXCELFiyQ3bt36xW/CUqgULuENhXUMpkAdzO6D5OywI4nn8Px4px22mnSr18/mTZtml7xm6AECruduE2acWjRooWcddZZ8s9//lOvEPJ5ooZ01DGZIqSde3ACZSq8i2CYR04GiithuhG3IT0Ol19+uerpw8gW3wlGoPCG4m4WuQabAgKFthm6D5PSwM3LVHgXEbkPY06U7wQjULhQTGRRSoKDTzRy0n2YlKS8DelxCGXnHoxAobzA9J0sIrTUL4kHdtZIyMB0wzRodN+yZYts3LhRr/hJEAJ1ItdgU4TayElOThJnnhGhuA8HIVBJXiigfv360qlTJ7oPk8+AuQaKeFG3lBQh7Ny9FygTTZpxYJhHioNrDiYbGK+SFF26dJF9+/apMdS+4r1AleUabAo0cs6ePZvuw0SR9K4dRO7DPh+Wey9QaVwoAAehsBGi+zCJGtJhspE0vu/cvRYo1CZBMJIoLygNhnkEIGOMOqV8G9Lj0K5dO6lYsaIsXbpUr/iF1wJlskkzDjgQXbhwId2HAwc3qaTPPIuDCMHXG6PXApX2hRK5D2NiJwkTNKQjxDPVkB4HCBR2bT42rXsrUEk0acYBgujzoSU5OXjvcc2ZakiPQ6tWrVSv3/z58/WKP3grUHANNt2kGQe6D4dN2rv2CF/DPG8FKqsLJWrkpPtweKAhHWYaphvS4wCBwoyoY8eO6RU/8FKgkmzSjAPDvDDBTTGtjHFJGjVqpGr9YKrgE14KVJJNmnGg+3CYZLVrj8Auyrcbo5cChTcpywsFB6Q4KPXxTICUTtIN6XHAtFicvR46dEivuI93ApWva7ApfLybkRODmxHe8yyB+3D79u2lqKhIr7iPdwKFGqSkmzTjgIPSAwcO0H04AFB/hOmWWQsU8O380zuByjq8i0AjJ3dRYQDTjLPPPluZaGQNmtZnzZolH3zwgV5xG68EKs0mzThAoHgO5T+23BRB7dq1pXv37t64D3slUJFrcKVKlfRKttB92H9MugabwqcwzyuBwptiwzlAcRjm+Q3MMtJsSI/DoEGD5JVXXpH33ntPr7iLNwJl2jXYFLib0X3YX2y8KUbuwz40rXsjULhQTLoGm4Luw/6SVUN6HHw5//RKoGy7k0UwzPOTyDUYphm2AffhVatWOe8+7IVAJeUabAoIFN2H/cPmmyKSMziLct192AuBsvlCAThAxcweug/7Q9SQjrojW8H5p+thnhcCZUObQVkwzPML7IhhkpFVQ3ocevfuLZs3b5ZNmzbpFfdwXqDQpFlQUJBpk2YccJCKA1W6D/sBboq2FGeeCLgPDxs2zOldlPMCZXt4F0H3YX+AKQZujEm6BpvC9aJNpwUqLddgU/hwJkD+5xqMLFnWDelx6Nq1q+zdu9dZ92GnBSot12BT0H3YD1wI7yIi92FXb4xOC5Qr4V0E3YfdB90K2I3Y0pAeB3xGKFApk7ZrsCkY5rlNmq7BpujQoYPaSS1btkyvuIOzApW2a7ApcLCKA1a6D7uJa7v2CFcPy50VKJfOAYqDg1UcsOKglbhFFq7BpoCoYvf3ySef6BU3cFKgbG7SjAPDPDfBe4ZrDvVFroFoo169es65DzspUFm5BpuC7sNu4mp4F4H/u2thnpMC5Wp4F0H3YfeA+QVMMGxtSI8DBMo192HnBCpr12BTuHpoGSp4r5AxRjbMVRo3bizNmjVzyn3YOYHK2jXYFHQfdgvsdl3etUe4FuY5J1B4cX24UOg+7A4wvUBYDhMM13HNfdgpgbLFNdgUDPPcADcRlw/Hi4Px0+3atXPGfdgpgbLFNdgUOHA9ePCgmghK7CRyDfZh1x6B5+LKzt0pgcJuw5c7WYTLjZwhALOLM8880wrXYFNgRhSmu7rgPuyMQNnmGmwKCC4Fyl7w3vi0ewJwH+7WrZsT7sPOCFTkGuxSk2Yc6D5sLza6BpvClTDPGYHyMbyL4GG5ncyaNUtatmwpDRs21Cv+MHjwYHn55Zetdx92QqBsdQ02BYQXB7F0H7YLn2+KcB/GcQkqy23GCYHChYKaIdtcg02BA9izzz6b7sMWgYZ0zI93tSE9Di7s3J34xPt4UFkShnl2gWkZMLlABs9XMPZn5cqVsnPnTr1iH9YLFGqEUCvkcpNmHHAQiwNZug/bgc/hXQSSMziLstl92HqBwoXiYxalJJgMipk9dB/OHjSkw9zCZtdgU0CEbd65Wy9QvjRpxsH2iyUUnn76aenRo4fUqlVLr/gL3IfhPGyr+7DVAoXZ3VWrVrXeNdgUOJCl+3D2hHDmGVGxYkUZPny4tTVRVgsUXjTfzwGKA/dhTAql+3B27N69WxYsWOCEa7ApbN65WytQPjZpxoFhXragIR3ZLdQJhcKll16q3IfRSmYb1goUXINRG+SKa7ApcDCLiaF0H84G3BxCuyliSijmRNl4Y7RWoEI6BygOJoWiYp7uw+mDbgXMHu/Xr59eCQd81mw8h7JSoHxu0owDw7xswJGCa67BprDVfbjCJxY6+SGT9bOf/SxVDy/Mxpk4caJyvMA41D179qgB89u2bZNRo0ZJ165d9W8mDwpTv/CFL8j69euVlxlJByQocA306dNHryQPCpEfeOABNely8+bNqrShRo0asn//frnrrrtStVbDvwfnmvvuu0+vZI+VO6gszgHWrVsn5513ntx7771St25dVTh59913y4ABA1J38qD7cPps2LBBtm7dKoWFhXolHVasWCG33HKLjBs3Tk0WQGX3PffcoxxYUAKQJvjMYRdp057FOoHKyjUYInTZZZep3RPOITp27KiakyFUX/ziF/VvpYetZwK+gtca9UBpugYfOXJEjXJBnd+WLVvUtYfxLgBzw2vWrKm+Twt0MtSpU8cq92HrBAo1QFm4BkOQkDXEQSnCO+ymAP4vWTSMRu7DmCRKkieLpAzOupAQwU4JoR6uM3yhRw47uSws1m27MVonUAjvsizOXLt2rcqkNWjQQK9kA92H0+Nf//qXKuvo0qWLXkkX1PwtXbpUHVRDnLIEnz3UgtniPmyVQEWuwVk1aeJCWb58udrq2lCoxzAvHXBTRMY4K9dgFEmiF84G3z2cfeFIwxb3YasEKkvXYByS4oAc/wdkz4r7huH773//+yr8SxO6D6dDlg3pGCv84x//WFVxY5IFkjUA2eOxY8fKlClTVJYvTWy6MVpVZoACuRtvvNG6+ifUZOE8ABmWtLn99tvVedyECRP0CjHJkiVLZMSIEZ8Jgy2g5GDy5MnqLBJN89/+9rf1I8nzzjvvSJs2bdQgu6xDTmt2UO+++65yNrGtSRNh38aNG1XLDXZQaXuJMcxLFry2WZ55ngjs6JFRg7FBz5499Wo62OQ+bI1AoeYHtT+2uQbjAHXVqlWqwx0Xc6VKlfQj6UD34eSIGtJtEyhkkXEGhIwedu64/tIGN0YbuhmsCfEwIGz8+PFBjbmIyw9+8AN1gPvTn/5UrxATwKQCoROKJW0FtVKoDUz7XBYi2aRJE3UGWr16db2aPlbsoPAioObHN9dgU+BuxnID82TRsZArKDfJImlki/uwFQKFD1+oTZpxQKUxJovisJSYAXU+8IQLtSE9DjY0rVshUDjbsf1OljW4WHhYbg6k9+FH2KhRI71CSmKD+3DmAoUaH4R4vroGmwICjgNdHOyS/HEhvMsanD1l7T6cuUDhQvHZNdgUKHNAryAmjZL8QFPus88+67VrsCmy3rlnrgoM7+KD14lhXv5gWgaaw312DTZF//79VZYTxZtZkKlAheIabAoc6NJ9OH+wa7exONNGUEk+aNAgdbyQBZkKFHYDzKLEh+7D+YNOABRBDhs2TK+QssDOPatsXuYCxfAuN7K8WHwgJNdgU8B9GO1e6A9Mm8wEKjTXYFPQfTg/GN7lDgbqYceZxflnZgKFJ8sLJXcw2YDuw+Ujcg3GmQrJjax27pkIlK1Nmq6A141hXu5gUiRG+oTkGmwKuA+jYBMTZ9MkE4FCkyZqelDJS3KH7sPlg2ee5QfN6khopX1jzESg8CR5oZQfug/nzo4dO1RZC0b6kPKBz2za51CpC1TorsGmYJiXG2hIR28ZG9LLD0wdwKuvvqr+TIPUBQo1PKjlQU0PKT+Ym4UJpJhESsqG4Z0ZcGNMcxeVukDhrs/D8fzB5FG0IdB9uGxQwwNjzLRdg30EIo/daFpzLlMVqKxcg32FYV48cMdP2zXYVxD9YJgdxrCkQaoCFbkG169fX6+QfMAoDNgV0X345DApY5Y0D8tTFSiGd2ah+3DZZO0a7CP4DKOm7KOPPtIryZGaQGXtGuwrWaR+XQKvDTLGWbkG+wjch5s2bSqzZ8/WK8mRmkBl6RrsM3QfPjkQKO7azZPW+WdqAsXwLhkwiRRJBx6W/z9Lly5VB+Pt27fXK8QUV199tcyYMUMOHz6sV5IhFYGy1TXYFxjmlQ5vismBVjVMInn++ef1SjKkIlCo1UHNjm2uwb5A9+H/J2pIZ/YuOfDaJr1zT0WgeCdLniwaOW1m/vz5Uq9ePWnVqpVeIabBjKgXXnhBDhw4oFfMk7hA4QAXtTp0DU4W3M1YbnAchLzcPSVLnTp11BiWJN2HExcofGiuvPJKNmkmDN2HjxO5BnPXnjxJZ/MSFyj853knSwdcLDws/59rcLNmzeganAIoFEY4vWfPHr1ilkQFav369WoOT8+ePfUKSRIIFN2HGd6lCdyH+/Tpk5j7cKIChQuFrsHpgQmlSP9iYmmoRK7BqNMh6YCbQVI790SVg+Fd+uD1DjmbV1RUpAoz6RqcHighWr58eSLuw4kJ1KpVq9R4lc6dO+sVkgYoNwjZfRjizMPxdEFyBkXYSbgPJyZQ2PLxQkmfkN2H4RqMA3K6BqdPUmEeBcpDQg3zUI/TrVs3NVCNpMtll12mGtZNuw8nIlCoxSkoKKBrcEaE6j6MmyLPPLMhKffhRASKh+PZEqL7MEwlMYYWzi0kG5II84wLFGpw0BzM8C5bQgvzMOER7VR0Dc4OhNeYXGLSfdi4QM2bN0/OOeccad68uV4hWYD2opDchxneZU/kPmxyF2VcoJjmtYOQ3Id37twpK1eupGuwBZjeuRsVKNTe4ANB12A7CCXMQ/0Nzp6qVKmiV0hWdOzYUXnmmXIfNipQmA1D12B7GDhwoJpkumvXLr3iJ9y12wXeC1NhnlGB4jmAXUTuwzhA9pVNmzapr969e+sVkjXQAFPuw8YEiq7BduJ7mIebIlyDUYdD7KBNmzZSq1YtI+7DxgQKHeSovUENDrEH392HGd7ZCW6MJsI8YwLF8M5OKlWqpEoOfBwHDOHdu3evGjtL7AI3DRPuw0YEKnINxgeB2IevYR6eE+Y+0TXYPpo0aaK+8nUfNiJQdA22G0w0xWRTTDj1Ce7a7cbEjdGIQPEcwG4i92ETZwK2sGzZMrVz6tChg14htoHdLSZM5OM+nLdA0TXYDXwL8yC2vCnaDcZPt23bNi/34Qqf5Fms8NBDD8mtt94qDz74oF4htjJmzBjVEuL6GBxcstgV3nnnnaowmNjLI488okpAcEZdHvIWqJdeekkef/xxNfaT2M2RI0fkrrvukoYNG+oVN8ElO2LECCOFgCRZYMnfpUsXGT9+vF7JjbwFihBCksJYHRQhhJiGAkUIsRYKFCHEWihQhBBroUARQqyFAkUIsRaWGXgEOvvR4Y8WkE6dOnFGUhnAgQhjaNCjiCmwLVq00I8QWzC2g1qyZInMnTtX/0RMg4JYtBMtXLhQr3ye//znP6oYbuLEiaoYEzbgIVHW64Mi1ZJgoNq4cePkjjvuUG1AECxiDryeGGK5Zs0avZI7RkO8OnXq6O+IaWDjhRG+6G8qjfr168ujjz4q3/nOd4Ks6j/Z67NlyxZVeQ73l+J0795dGS5gXDBHtiQDdvE1atTQP+WOEYGCHztG/rIvKjnge48PIN5s7FR3796tHyGAr49dYPeEqAojmBo0aKBXc+fUez5Ff18u/v3vf0tRUZHMmDFDGjdurEw7iXnw+h47dkz27NmjnJvxQaxbt676IB46dEiqV6+ufm/jxo1qugSGBxYUFKi1ECjt9cGNE/bveD0WLVqk+sJWrFghBw4ckKZNm6q/hyNYNLJi8ih2VNxJmQEOTzh2mDp1qjoPLe+suLx3ULCavuCCC5QnHiboEfPgg4f5RwsWLFB3o4cffli6du0qQ4cOVR+00MeOlPb6DBo0SCpXrqzCXfjlnXrqqep7fDF5kDyYmIGwGzupmjVr6tXcyVugcOdevny5tGrVSt29iXlwJ0IIjQNwjK9Yt26d2g3Mnz9ffThDT06U9vps27ZNCgsLZfTo0WoWFm6e119/vfq5R48e+m+SpMBZ4Nq1a1V2NFOBgkJiaB1S3PlMziMnBoe8tWvXVmlwvNmY84zdQXEQtuDDN3bsWJWd6tOnj5dGCaUR5/UpDWSX+vbtK1OmTFHCBuv0N998Uz9K8gG6gHC6ffv2anZXeTFSB4W7OMQJ4R4xD5wx8BojVIluArT5Pg5fH7tAJAWBQrnLhAkT8kqesVCTEGIMHD1gwi529NiRjhw5Up3/lRcKFCHEWozUQRFCSBJQoAgh1kKBIoRYCwWKEGItFChCiLVQoAgh1kKBIoRYish/AWAXLKldYG9aAAAAAElFTkSuQmCC)"
      ],
      "metadata": {
        "id": "N6iqjaKgRh1N"
      }
    },
    {
      "cell_type": "markdown",
      "source": [
        "El costo de T es:"
      ],
      "metadata": {
        "id": "GMlt07SkRnYG"
      }
    },
    {
      "cell_type": "markdown",
      "source": [
        "![image.png](data:image/png;base64,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)"
      ],
      "metadata": {
        "id": "gsUHCODpRtSz"
      }
    },
    {
      "cell_type": "markdown",
      "source": [
        "Y entonces podemos definir la siguiente ecuación de recurrencia"
      ],
      "metadata": {
        "id": "yJOjCmBaSD8V"
      }
    },
    {
      "cell_type": "markdown",
      "source": [
        "![Captura de pantalla 2022-10-15 123639.png](data:image/png;base64,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)"
      ],
      "metadata": {
        "id": "bZqWC0RxSfpF"
      }
    },
    {
      "cell_type": "markdown",
      "source": [
        "**Teorema (correctitud)**"
      ],
      "metadata": {
        "id": "YKL9k0ZySvDF"
      }
    },
    {
      "cell_type": "markdown",
      "source": [
        "El algoritmo BST entrega correctamente el costo esperado de una secuencia de claves y sus probabilidades"
      ],
      "metadata": {
        "id": "UJoA35W3SyCb"
      }
    },
    {
      "cell_type": "markdown",
      "source": [
        "**Prueba del teorema**"
      ],
      "metadata": {
        "id": "VIRy7oZuV91H"
      }
    },
    {
      "cell_type": "markdown",
      "source": [
        "Para probar el teorema se utilizara inducción matemática"
      ],
      "metadata": {
        "id": "YqwFLgV_WCI9"
      }
    },
    {
      "cell_type": "markdown",
      "source": [
        "**Caso base:**\n",
        "\n"
      ],
      "metadata": {
        "id": "fnx9l2IvWemh"
      }
    },
    {
      "cell_type": "markdown",
      "source": [
        "Cuándo el arreglo de entrada es de tamaño 1, entonces el costo mínimo que se retorna es igual a la frecuencia del único elemento existente en el arreglo de entrada."
      ],
      "metadata": {
        "id": "Dcv_MjsbyeGn"
      }
    },
    {
      "cell_type": "markdown",
      "source": [
        "**Caso inductivo:** "
      ],
      "metadata": {
        "id": "mHdYG734Xm-m"
      }
    },
    {
      "cell_type": "markdown",
      "source": [
        "Para el caso inductivo hay dos casos\n",
        "\n",
        "Caso 1:$C_{i,j}$<=$C\"_{i,j}$ previo al cálculo de $C\"_{i,j}$ es el costo de algun BST en i,....,j y  $C_{i,j}$ es el costo de un BST optimo\n",
        "\n",
        "Caso 2:$C_{i,j}$>=$C\"_{i,j}$ Supongamos que la raíz del BST optimo es k. Entonces"
      ],
      "metadata": {
        "id": "BM9Afhq4XwEK"
      }
    },
    {
      "cell_type": "markdown",
      "source": [
        "![Captura de pantalla 2022-10-15 131207.png](data:image/png;base64,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)"
      ],
      "metadata": {
        "id": "KTHraa_uanz5"
      }
    },
    {
      "cell_type": "markdown",
      "source": [
        "Como ambos casos son correctos tanto el inductivo como el base son correctos, nuestro algoritmo es correcto"
      ],
      "metadata": {
        "id": "kZOwFfcizfzQ"
      }
    },
    {
      "cell_type": "markdown",
      "source": [
        "**Conclusión**"
      ],
      "metadata": {
        "id": "3wr1pnbezusQ"
      }
    },
    {
      "cell_type": "markdown",
      "source": [
        "Luego de revisar la correctitud de este algoritmo, se puede concluir que el problema final que resuelve el algoritmo es el problema original, esto se debe a que en la última iteración deberá determinar obligatoriamente el costo mínimo a retornar, ya que después de esa iteración, se habrán terminado de procesar los datos y se retornara el valor. Esto también se puede apreciar en la fórmula propuesta arriba."
      ],
      "metadata": {
        "id": "XxsFBq95zwgo"
      }
    },
    {
      "cell_type": "markdown",
      "source": [
        "#4.Tiempo de ejecución"
      ],
      "metadata": {
        "id": "xnhc3XbgILBj"
      }
    },
    {
      "cell_type": "markdown",
      "source": [
        "##4.1.Tiempo de ejecucion de BST recursivo"
      ],
      "metadata": {
        "id": "rm-OZQnMYHhA"
      }
    },
    {
      "cell_type": "markdown",
      "source": [
        "Como es una implementación recursiva, se van a resolver distintos sub-problemas cada vez de forma repetida, además, la cantidad de árboles binarios que se pueden formar con $n$ nodos es igual a $Ω$($\\frac{4^n}{n^{3/2}}$), función que representa la cantidad de sub-problemas que se deben resolver en función del tamaño de entrada.\n",
        "\n",
        "Debido a esto, el tiempo de ejecución de este algoritmo es exponencial en $n$, siendo igual a ${\\displaystyle{2n \\choose n}{\\frac {1}{n+1}}}$.\n",
        "\n",
        "Por otro lado, la complejidad espacial del algoritmo es de $O(1)$ ya que no utiliza estructuras auxiliares para almacenar información."
      ],
      "metadata": {
        "id": "XEjnO1IGv8x7"
      }
    },
    {
      "cell_type": "markdown",
      "source": [
        "## 4.2. Tiempo de ejecución BST dinámico\n",
        "\n",
        "Como es una implementación dinámica, sólo se resolverá cada sub-problema una unica vez, a diferencia de la implementación recursiva, en la cuál cada sub-problema se puede llegar a resolver varias veces. Por este motivo, la cantidad de sub-problemas que se deberán resolver en función del tamaño del problema de entrada será igual a:\n",
        "\n",
        "$C_{ij} = min_{T{i...j}} C(T)$, donde $C(T)$ representa el costo del árbol.\n",
        "\n",
        "Debido a esto, y sumado a que este algoritmo posee tres ciclos anidados que iteran un aproximado de $n$ veces cada uno, el tiempo de ejecución de este algoritmo es igual a $O(n^3)$.\n",
        "\n",
        "Por otro lado, la complejidad espacial del algoritmo es de $O(n^2)$ ya que utiliza una matriz cuadrada para almacenar información."
      ],
      "metadata": {
        "id": "AqqMSUJSxDOQ"
      }
    },
    {
      "cell_type": "markdown",
      "source": [
        "#5.Experimentos"
      ],
      "metadata": {
        "id": "a5i_ufIKIpIr"
      }
    },
    {
      "cell_type": "markdown",
      "source": [
        "A continuación se mostraran los experimentos realizados"
      ],
      "metadata": {
        "id": "g0N-NiqUsYt4"
      }
    },
    {
      "cell_type": "code",
      "source": [
        "import matplotlib.pyplot as plt\n",
        "import datetime\n",
        "from timeit import repeat\n",
        "import random\n",
        "\n",
        "z=[]; w=[]\n",
        "\n",
        "for n in range(1,15):\n",
        "  a = random.sample(range(1, 1000), n)\n",
        "  b=random.sample(range(1, 1000), n)\n",
        "  t2 = repeat(setup=\"from __main__ import optimalSearchTreeRecursivo\", stmt=f\"optimalSearchTreeRecursivo({a}, {b},{len(a)})\", repeat=1, number=20)\n",
        "  z.append(n)\n",
        "  w.append(t2)\n",
        "\n",
        "plt.plot(z,w)\n",
        "plt.legend([\"Version recursiva\"])\n",
        "\n",
        "plt.xlabel('Tamaño del arreglo')\n",
        "plt.ylabel('Tiempo en ms')\n",
        "plt.show()"
      ],
      "metadata": {
        "colab": {
          "base_uri": "https://localhost:8080/",
          "height": 279
        },
        "id": "9XM5jVBg39tX",
        "outputId": "79838433-8555-4dbb-ee91-cf7145bc4633"
      },
      "execution_count": 57,
      "outputs": [
        {
          "output_type": "display_data",
          "data": {
            "text/plain": [
              "<Figure size 432x288 with 1 Axes>"
            ],
            "image/png": "[encoded data removed]"
          },
          "metadata": {
            "needs_background": "light"
          }
        }
      ]
    },
    {
      "cell_type": "code",
      "source": [
        "x=[]; y=[]\n",
        "\n",
        "for n in range(1,20):\n",
        "\n",
        "  a = random.sample(range(1, 1000), n)\n",
        "  b = random.sample(range(1, 1000), n)\n",
        "  t = repeat(setup=\"from __main__ import optimalSearchTreeDinamico\", stmt=f\"optimalSearchTreeDinamico({a}, {b},{len(a)})\", repeat=1, number=20)\n",
        "\n",
        "  x.append(n)\n",
        "  y.append(t)\n",
        "\n",
        "plt.plot(x,y)\n",
        "plt.legend([\"Version dinamica\"])\n",
        "\n",
        "plt.xlabel('Tamaño del arreglo')\n",
        "plt.ylabel('Tiempo en ms')\n",
        "plt.show()"
      ],
      "metadata": {
        "colab": {
          "base_uri": "https://localhost:8080/",
          "height": 279
        },
        "id": "t4cLQhis5Z3-",
        "outputId": "f1a4f272-1f6e-4d2e-d769-f4bec1a7fe0e"
      },
      "execution_count": 61,
      "outputs": [
        {
          "output_type": "display_data",
          "data": {
            "text/plain": [
              "<Figure size 432x288 with 1 Axes>"
            ],
            "image/png": "[encoded data removed]"
          },
          "metadata": {
            "needs_background": "light"
          }
        }
      ]
    },
    {
      "cell_type": "markdown",
      "source": [
        "**Analisis de resultados**"
      ],
      "metadata": {
        "id": "48a-hQ5N73l8"
      }
    },
    {
      "cell_type": "markdown",
      "source": [
        "Se puede apreciar claramente que las gráficas son similares, pero es importante notar que los tiempos en ms son distintos en comparación, ya que los del dinámico van en 0.00 ascendiendo mientras que el recursivo va desde 5 en ascendiente. Esta diferencia se debe a los tiempos, el recursivo siendo **2^n** y el dinámico **n^2**"
      ],
      "metadata": {
        "id": "knUQKZAD8lz5"
      }
    }
  ]
}